{
  "nbformat": 4,
  "nbformat_minor": 0,
  "metadata": {
    "colab": {
      "name": "ConceptTaggingCB.ipynb",
      "provenance": [],
      "collapsed_sections": [],
      "machine_shape": "hm"
    },
    "kernelspec": {
      "name": "python3",
      "display_name": "Python 3"
    },
    "accelerator": "GPU",
    "widgets": {
      "application/vnd.jupyter.widget-state+json": {
        "13d18e82513d4cd59e195abff431403e": {
          "model_module": "@jupyter-widgets/controls",
          "model_name": "HBoxModel",
          "state": {
            "_view_name": "HBoxView",
            "_dom_classes": [],
            "_model_name": "HBoxModel",
            "_view_module": "@jupyter-widgets/controls",
            "_model_module_version": "1.5.0",
            "_view_count": null,
            "_view_module_version": "1.5.0",
            "box_style": "",
            "layout": "IPY_MODEL_ad57bfe81fa6419b98a16b419c3b4c73",
            "_model_module": "@jupyter-widgets/controls",
            "children": [
              "IPY_MODEL_bc44bbfa69864265b87330e919307b82",
              "IPY_MODEL_acd233540f5f4d64884e5c6be1d30a1f"
            ]
          }
        },
        "ad57bfe81fa6419b98a16b419c3b4c73": {
          "model_module": "@jupyter-widgets/base",
          "model_name": "LayoutModel",
          "state": {
            "_view_name": "LayoutView",
            "grid_template_rows": null,
            "right": null,
            "justify_content": null,
            "_view_module": "@jupyter-widgets/base",
            "overflow": null,
            "_model_module_version": "1.2.0",
            "_view_count": null,
            "flex_flow": null,
            "width": null,
            "min_width": null,
            "border": null,
            "align_items": null,
            "bottom": null,
            "_model_module": "@jupyter-widgets/base",
            "top": null,
            "grid_column": null,
            "overflow_y": null,
            "overflow_x": null,
            "grid_auto_flow": null,
            "grid_area": null,
            "grid_template_columns": null,
            "flex": null,
            "_model_name": "LayoutModel",
            "justify_items": null,
            "grid_row": null,
            "max_height": null,
            "align_content": null,
            "visibility": null,
            "align_self": null,
            "height": null,
            "min_height": null,
            "padding": null,
            "grid_auto_rows": null,
            "grid_gap": null,
            "max_width": null,
            "order": null,
            "_view_module_version": "1.2.0",
            "grid_template_areas": null,
            "object_position": null,
            "object_fit": null,
            "grid_auto_columns": null,
            "margin": null,
            "display": null,
            "left": null
          }
        },
        "bc44bbfa69864265b87330e919307b82": {
          "model_module": "@jupyter-widgets/controls",
          "model_name": "FloatProgressModel",
          "state": {
            "_view_name": "ProgressView",
            "style": "IPY_MODEL_20672685d4a046e89cd0398474c6906a",
            "_dom_classes": [],
            "description": "Downloading: 100%",
            "_model_name": "FloatProgressModel",
            "bar_style": "success",
            "max": 213450,
            "_view_module": "@jupyter-widgets/controls",
            "_model_module_version": "1.5.0",
            "value": 213450,
            "_view_count": null,
            "_view_module_version": "1.5.0",
            "orientation": "horizontal",
            "min": 0,
            "description_tooltip": null,
            "_model_module": "@jupyter-widgets/controls",
            "layout": "IPY_MODEL_eb01b1d6cabc48199243dfcc4da62e52"
          }
        },
        "acd233540f5f4d64884e5c6be1d30a1f": {
          "model_module": "@jupyter-widgets/controls",
          "model_name": "HTMLModel",
          "state": {
            "_view_name": "HTMLView",
            "style": "IPY_MODEL_88377086f84e4249ad8384d66033cf8f",
            "_dom_classes": [],
            "description": "",
            "_model_name": "HTMLModel",
            "placeholder": "​",
            "_view_module": "@jupyter-widgets/controls",
            "_model_module_version": "1.5.0",
            "value": " 213k/213k [00:02&lt;00:00, 87.4kB/s]",
            "_view_count": null,
            "_view_module_version": "1.5.0",
            "description_tooltip": null,
            "_model_module": "@jupyter-widgets/controls",
            "layout": "IPY_MODEL_4e9cfba04d91496eaf6ffc330149ac9d"
          }
        },
        "20672685d4a046e89cd0398474c6906a": {
          "model_module": "@jupyter-widgets/controls",
          "model_name": "ProgressStyleModel",
          "state": {
            "_view_name": "StyleView",
            "_model_name": "ProgressStyleModel",
            "description_width": "initial",
            "_view_module": "@jupyter-widgets/base",
            "_model_module_version": "1.5.0",
            "_view_count": null,
            "_view_module_version": "1.2.0",
            "bar_color": null,
            "_model_module": "@jupyter-widgets/controls"
          }
        },
        "eb01b1d6cabc48199243dfcc4da62e52": {
          "model_module": "@jupyter-widgets/base",
          "model_name": "LayoutModel",
          "state": {
            "_view_name": "LayoutView",
            "grid_template_rows": null,
            "right": null,
            "justify_content": null,
            "_view_module": "@jupyter-widgets/base",
            "overflow": null,
            "_model_module_version": "1.2.0",
            "_view_count": null,
            "flex_flow": null,
            "width": null,
            "min_width": null,
            "border": null,
            "align_items": null,
            "bottom": null,
            "_model_module": "@jupyter-widgets/base",
            "top": null,
            "grid_column": null,
            "overflow_y": null,
            "overflow_x": null,
            "grid_auto_flow": null,
            "grid_area": null,
            "grid_template_columns": null,
            "flex": null,
            "_model_name": "LayoutModel",
            "justify_items": null,
            "grid_row": null,
            "max_height": null,
            "align_content": null,
            "visibility": null,
            "align_self": null,
            "height": null,
            "min_height": null,
            "padding": null,
            "grid_auto_rows": null,
            "grid_gap": null,
            "max_width": null,
            "order": null,
            "_view_module_version": "1.2.0",
            "grid_template_areas": null,
            "object_position": null,
            "object_fit": null,
            "grid_auto_columns": null,
            "margin": null,
            "display": null,
            "left": null
          }
        },
        "88377086f84e4249ad8384d66033cf8f": {
          "model_module": "@jupyter-widgets/controls",
          "model_name": "DescriptionStyleModel",
          "state": {
            "_view_name": "StyleView",
            "_model_name": "DescriptionStyleModel",
            "description_width": "",
            "_view_module": "@jupyter-widgets/base",
            "_model_module_version": "1.5.0",
            "_view_count": null,
            "_view_module_version": "1.2.0",
            "_model_module": "@jupyter-widgets/controls"
          }
        },
        "4e9cfba04d91496eaf6ffc330149ac9d": {
          "model_module": "@jupyter-widgets/base",
          "model_name": "LayoutModel",
          "state": {
            "_view_name": "LayoutView",
            "grid_template_rows": null,
            "right": null,
            "justify_content": null,
            "_view_module": "@jupyter-widgets/base",
            "overflow": null,
            "_model_module_version": "1.2.0",
            "_view_count": null,
            "flex_flow": null,
            "width": null,
            "min_width": null,
            "border": null,
            "align_items": null,
            "bottom": null,
            "_model_module": "@jupyter-widgets/base",
            "top": null,
            "grid_column": null,
            "overflow_y": null,
            "overflow_x": null,
            "grid_auto_flow": null,
            "grid_area": null,
            "grid_template_columns": null,
            "flex": null,
            "_model_name": "LayoutModel",
            "justify_items": null,
            "grid_row": null,
            "max_height": null,
            "align_content": null,
            "visibility": null,
            "align_self": null,
            "height": null,
            "min_height": null,
            "padding": null,
            "grid_auto_rows": null,
            "grid_gap": null,
            "max_width": null,
            "order": null,
            "_view_module_version": "1.2.0",
            "grid_template_areas": null,
            "object_position": null,
            "object_fit": null,
            "grid_auto_columns": null,
            "margin": null,
            "display": null,
            "left": null
          }
        },
        "139f30d229f1435ca12050871461821e": {
          "model_module": "@jupyter-widgets/controls",
          "model_name": "HBoxModel",
          "state": {
            "_view_name": "HBoxView",
            "_dom_classes": [],
            "_model_name": "HBoxModel",
            "_view_module": "@jupyter-widgets/controls",
            "_model_module_version": "1.5.0",
            "_view_count": null,
            "_view_module_version": "1.5.0",
            "box_style": "",
            "layout": "IPY_MODEL_542978d1de2948c2a06d76a2434f7b62",
            "_model_module": "@jupyter-widgets/controls",
            "children": [
              "IPY_MODEL_cf860b3c156a4d8b900689a31d09965b",
              "IPY_MODEL_0f109a87a29745f396a2550ba6ae61c4"
            ]
          }
        },
        "542978d1de2948c2a06d76a2434f7b62": {
          "model_module": "@jupyter-widgets/base",
          "model_name": "LayoutModel",
          "state": {
            "_view_name": "LayoutView",
            "grid_template_rows": null,
            "right": null,
            "justify_content": null,
            "_view_module": "@jupyter-widgets/base",
            "overflow": null,
            "_model_module_version": "1.2.0",
            "_view_count": null,
            "flex_flow": null,
            "width": null,
            "min_width": null,
            "border": null,
            "align_items": null,
            "bottom": null,
            "_model_module": "@jupyter-widgets/base",
            "top": null,
            "grid_column": null,
            "overflow_y": null,
            "overflow_x": null,
            "grid_auto_flow": null,
            "grid_area": null,
            "grid_template_columns": null,
            "flex": null,
            "_model_name": "LayoutModel",
            "justify_items": null,
            "grid_row": null,
            "max_height": null,
            "align_content": null,
            "visibility": null,
            "align_self": null,
            "height": null,
            "min_height": null,
            "padding": null,
            "grid_auto_rows": null,
            "grid_gap": null,
            "max_width": null,
            "order": null,
            "_view_module_version": "1.2.0",
            "grid_template_areas": null,
            "object_position": null,
            "object_fit": null,
            "grid_auto_columns": null,
            "margin": null,
            "display": null,
            "left": null
          }
        },
        "cf860b3c156a4d8b900689a31d09965b": {
          "model_module": "@jupyter-widgets/controls",
          "model_name": "FloatProgressModel",
          "state": {
            "_view_name": "ProgressView",
            "style": "IPY_MODEL_7f7b3181b1d64862bb68531c840001fa",
            "_dom_classes": [],
            "description": "Downloading: 100%",
            "_model_name": "FloatProgressModel",
            "bar_style": "success",
            "max": 29,
            "_view_module": "@jupyter-widgets/controls",
            "_model_module_version": "1.5.0",
            "value": 29,
            "_view_count": null,
            "_view_module_version": "1.5.0",
            "orientation": "horizontal",
            "min": 0,
            "description_tooltip": null,
            "_model_module": "@jupyter-widgets/controls",
            "layout": "IPY_MODEL_f1444b398bbc4c5c852da216fdf022a7"
          }
        },
        "0f109a87a29745f396a2550ba6ae61c4": {
          "model_module": "@jupyter-widgets/controls",
          "model_name": "HTMLModel",
          "state": {
            "_view_name": "HTMLView",
            "style": "IPY_MODEL_f8ef3fdfdd4e4e33b3a085a003403b92",
            "_dom_classes": [],
            "description": "",
            "_model_name": "HTMLModel",
            "placeholder": "​",
            "_view_module": "@jupyter-widgets/controls",
            "_model_module_version": "1.5.0",
            "value": " 29.0/29.0 [00:00&lt;00:00, 49.1B/s]",
            "_view_count": null,
            "_view_module_version": "1.5.0",
            "description_tooltip": null,
            "_model_module": "@jupyter-widgets/controls",
            "layout": "IPY_MODEL_c337ba0f14e34ab482ddfb3c6639c3cc"
          }
        },
        "7f7b3181b1d64862bb68531c840001fa": {
          "model_module": "@jupyter-widgets/controls",
          "model_name": "ProgressStyleModel",
          "state": {
            "_view_name": "StyleView",
            "_model_name": "ProgressStyleModel",
            "description_width": "initial",
            "_view_module": "@jupyter-widgets/base",
            "_model_module_version": "1.5.0",
            "_view_count": null,
            "_view_module_version": "1.2.0",
            "bar_color": null,
            "_model_module": "@jupyter-widgets/controls"
          }
        },
        "f1444b398bbc4c5c852da216fdf022a7": {
          "model_module": "@jupyter-widgets/base",
          "model_name": "LayoutModel",
          "state": {
            "_view_name": "LayoutView",
            "grid_template_rows": null,
            "right": null,
            "justify_content": null,
            "_view_module": "@jupyter-widgets/base",
            "overflow": null,
            "_model_module_version": "1.2.0",
            "_view_count": null,
            "flex_flow": null,
            "width": null,
            "min_width": null,
            "border": null,
            "align_items": null,
            "bottom": null,
            "_model_module": "@jupyter-widgets/base",
            "top": null,
            "grid_column": null,
            "overflow_y": null,
            "overflow_x": null,
            "grid_auto_flow": null,
            "grid_area": null,
            "grid_template_columns": null,
            "flex": null,
            "_model_name": "LayoutModel",
            "justify_items": null,
            "grid_row": null,
            "max_height": null,
            "align_content": null,
            "visibility": null,
            "align_self": null,
            "height": null,
            "min_height": null,
            "padding": null,
            "grid_auto_rows": null,
            "grid_gap": null,
            "max_width": null,
            "order": null,
            "_view_module_version": "1.2.0",
            "grid_template_areas": null,
            "object_position": null,
            "object_fit": null,
            "grid_auto_columns": null,
            "margin": null,
            "display": null,
            "left": null
          }
        },
        "f8ef3fdfdd4e4e33b3a085a003403b92": {
          "model_module": "@jupyter-widgets/controls",
          "model_name": "DescriptionStyleModel",
          "state": {
            "_view_name": "StyleView",
            "_model_name": "DescriptionStyleModel",
            "description_width": "",
            "_view_module": "@jupyter-widgets/base",
            "_model_module_version": "1.5.0",
            "_view_count": null,
            "_view_module_version": "1.2.0",
            "_model_module": "@jupyter-widgets/controls"
          }
        },
        "c337ba0f14e34ab482ddfb3c6639c3cc": {
          "model_module": "@jupyter-widgets/base",
          "model_name": "LayoutModel",
          "state": {
            "_view_name": "LayoutView",
            "grid_template_rows": null,
            "right": null,
            "justify_content": null,
            "_view_module": "@jupyter-widgets/base",
            "overflow": null,
            "_model_module_version": "1.2.0",
            "_view_count": null,
            "flex_flow": null,
            "width": null,
            "min_width": null,
            "border": null,
            "align_items": null,
            "bottom": null,
            "_model_module": "@jupyter-widgets/base",
            "top": null,
            "grid_column": null,
            "overflow_y": null,
            "overflow_x": null,
            "grid_auto_flow": null,
            "grid_area": null,
            "grid_template_columns": null,
            "flex": null,
            "_model_name": "LayoutModel",
            "justify_items": null,
            "grid_row": null,
            "max_height": null,
            "align_content": null,
            "visibility": null,
            "align_self": null,
            "height": null,
            "min_height": null,
            "padding": null,
            "grid_auto_rows": null,
            "grid_gap": null,
            "max_width": null,
            "order": null,
            "_view_module_version": "1.2.0",
            "grid_template_areas": null,
            "object_position": null,
            "object_fit": null,
            "grid_auto_columns": null,
            "margin": null,
            "display": null,
            "left": null
          }
        },
        "d5a6a8635deb448fad822411cd146591": {
          "model_module": "@jupyter-widgets/controls",
          "model_name": "HBoxModel",
          "state": {
            "_view_name": "HBoxView",
            "_dom_classes": [],
            "_model_name": "HBoxModel",
            "_view_module": "@jupyter-widgets/controls",
            "_model_module_version": "1.5.0",
            "_view_count": null,
            "_view_module_version": "1.5.0",
            "box_style": "",
            "layout": "IPY_MODEL_67dc875a62cc44cfa59fde2887f01402",
            "_model_module": "@jupyter-widgets/controls",
            "children": [
              "IPY_MODEL_03a8b433b78f4f33ab215cff1e202258",
              "IPY_MODEL_58428b44654a472ead7ff010083a2988"
            ]
          }
        },
        "67dc875a62cc44cfa59fde2887f01402": {
          "model_module": "@jupyter-widgets/base",
          "model_name": "LayoutModel",
          "state": {
            "_view_name": "LayoutView",
            "grid_template_rows": null,
            "right": null,
            "justify_content": null,
            "_view_module": "@jupyter-widgets/base",
            "overflow": null,
            "_model_module_version": "1.2.0",
            "_view_count": null,
            "flex_flow": null,
            "width": null,
            "min_width": null,
            "border": null,
            "align_items": null,
            "bottom": null,
            "_model_module": "@jupyter-widgets/base",
            "top": null,
            "grid_column": null,
            "overflow_y": null,
            "overflow_x": null,
            "grid_auto_flow": null,
            "grid_area": null,
            "grid_template_columns": null,
            "flex": null,
            "_model_name": "LayoutModel",
            "justify_items": null,
            "grid_row": null,
            "max_height": null,
            "align_content": null,
            "visibility": null,
            "align_self": null,
            "height": null,
            "min_height": null,
            "padding": null,
            "grid_auto_rows": null,
            "grid_gap": null,
            "max_width": null,
            "order": null,
            "_view_module_version": "1.2.0",
            "grid_template_areas": null,
            "object_position": null,
            "object_fit": null,
            "grid_auto_columns": null,
            "margin": null,
            "display": null,
            "left": null
          }
        },
        "03a8b433b78f4f33ab215cff1e202258": {
          "model_module": "@jupyter-widgets/controls",
          "model_name": "FloatProgressModel",
          "state": {
            "_view_name": "ProgressView",
            "style": "IPY_MODEL_98f0fbd6f1c74ed99f7d60f29191245c",
            "_dom_classes": [],
            "description": "Downloading: 100%",
            "_model_name": "FloatProgressModel",
            "bar_style": "success",
            "max": 435797,
            "_view_module": "@jupyter-widgets/controls",
            "_model_module_version": "1.5.0",
            "value": 435797,
            "_view_count": null,
            "_view_module_version": "1.5.0",
            "orientation": "horizontal",
            "min": 0,
            "description_tooltip": null,
            "_model_module": "@jupyter-widgets/controls",
            "layout": "IPY_MODEL_2274f58974b2444694a98bf60147fd7a"
          }
        },
        "58428b44654a472ead7ff010083a2988": {
          "model_module": "@jupyter-widgets/controls",
          "model_name": "HTMLModel",
          "state": {
            "_view_name": "HTMLView",
            "style": "IPY_MODEL_91d6703d51494b2e81a4f73ad10c6c45",
            "_dom_classes": [],
            "description": "",
            "_model_name": "HTMLModel",
            "placeholder": "​",
            "_view_module": "@jupyter-widgets/controls",
            "_model_module_version": "1.5.0",
            "value": " 436k/436k [00:00&lt;00:00, 978kB/s]",
            "_view_count": null,
            "_view_module_version": "1.5.0",
            "description_tooltip": null,
            "_model_module": "@jupyter-widgets/controls",
            "layout": "IPY_MODEL_3724bc861d844658b1ddff7bcec11709"
          }
        },
        "98f0fbd6f1c74ed99f7d60f29191245c": {
          "model_module": "@jupyter-widgets/controls",
          "model_name": "ProgressStyleModel",
          "state": {
            "_view_name": "StyleView",
            "_model_name": "ProgressStyleModel",
            "description_width": "initial",
            "_view_module": "@jupyter-widgets/base",
            "_model_module_version": "1.5.0",
            "_view_count": null,
            "_view_module_version": "1.2.0",
            "bar_color": null,
            "_model_module": "@jupyter-widgets/controls"
          }
        },
        "2274f58974b2444694a98bf60147fd7a": {
          "model_module": "@jupyter-widgets/base",
          "model_name": "LayoutModel",
          "state": {
            "_view_name": "LayoutView",
            "grid_template_rows": null,
            "right": null,
            "justify_content": null,
            "_view_module": "@jupyter-widgets/base",
            "overflow": null,
            "_model_module_version": "1.2.0",
            "_view_count": null,
            "flex_flow": null,
            "width": null,
            "min_width": null,
            "border": null,
            "align_items": null,
            "bottom": null,
            "_model_module": "@jupyter-widgets/base",
            "top": null,
            "grid_column": null,
            "overflow_y": null,
            "overflow_x": null,
            "grid_auto_flow": null,
            "grid_area": null,
            "grid_template_columns": null,
            "flex": null,
            "_model_name": "LayoutModel",
            "justify_items": null,
            "grid_row": null,
            "max_height": null,
            "align_content": null,
            "visibility": null,
            "align_self": null,
            "height": null,
            "min_height": null,
            "padding": null,
            "grid_auto_rows": null,
            "grid_gap": null,
            "max_width": null,
            "order": null,
            "_view_module_version": "1.2.0",
            "grid_template_areas": null,
            "object_position": null,
            "object_fit": null,
            "grid_auto_columns": null,
            "margin": null,
            "display": null,
            "left": null
          }
        },
        "91d6703d51494b2e81a4f73ad10c6c45": {
          "model_module": "@jupyter-widgets/controls",
          "model_name": "DescriptionStyleModel",
          "state": {
            "_view_name": "StyleView",
            "_model_name": "DescriptionStyleModel",
            "description_width": "",
            "_view_module": "@jupyter-widgets/base",
            "_model_module_version": "1.5.0",
            "_view_count": null,
            "_view_module_version": "1.2.0",
            "_model_module": "@jupyter-widgets/controls"
          }
        },
        "3724bc861d844658b1ddff7bcec11709": {
          "model_module": "@jupyter-widgets/base",
          "model_name": "LayoutModel",
          "state": {
            "_view_name": "LayoutView",
            "grid_template_rows": null,
            "right": null,
            "justify_content": null,
            "_view_module": "@jupyter-widgets/base",
            "overflow": null,
            "_model_module_version": "1.2.0",
            "_view_count": null,
            "flex_flow": null,
            "width": null,
            "min_width": null,
            "border": null,
            "align_items": null,
            "bottom": null,
            "_model_module": "@jupyter-widgets/base",
            "top": null,
            "grid_column": null,
            "overflow_y": null,
            "overflow_x": null,
            "grid_auto_flow": null,
            "grid_area": null,
            "grid_template_columns": null,
            "flex": null,
            "_model_name": "LayoutModel",
            "justify_items": null,
            "grid_row": null,
            "max_height": null,
            "align_content": null,
            "visibility": null,
            "align_self": null,
            "height": null,
            "min_height": null,
            "padding": null,
            "grid_auto_rows": null,
            "grid_gap": null,
            "max_width": null,
            "order": null,
            "_view_module_version": "1.2.0",
            "grid_template_areas": null,
            "object_position": null,
            "object_fit": null,
            "grid_auto_columns": null,
            "margin": null,
            "display": null,
            "left": null
          }
        },
        "6f2e590488ac46339cb42c84a767e478": {
          "model_module": "@jupyter-widgets/controls",
          "model_name": "HBoxModel",
          "state": {
            "_view_name": "HBoxView",
            "_dom_classes": [],
            "_model_name": "HBoxModel",
            "_view_module": "@jupyter-widgets/controls",
            "_model_module_version": "1.5.0",
            "_view_count": null,
            "_view_module_version": "1.5.0",
            "box_style": "",
            "layout": "IPY_MODEL_53c9b53b4f904a34b4f2def8e1faaa8b",
            "_model_module": "@jupyter-widgets/controls",
            "children": [
              "IPY_MODEL_301e4aa71eb346689ce32e816d5861f6",
              "IPY_MODEL_649e46dd32914b16a1bd646fbb97328d"
            ]
          }
        },
        "53c9b53b4f904a34b4f2def8e1faaa8b": {
          "model_module": "@jupyter-widgets/base",
          "model_name": "LayoutModel",
          "state": {
            "_view_name": "LayoutView",
            "grid_template_rows": null,
            "right": null,
            "justify_content": null,
            "_view_module": "@jupyter-widgets/base",
            "overflow": null,
            "_model_module_version": "1.2.0",
            "_view_count": null,
            "flex_flow": null,
            "width": null,
            "min_width": null,
            "border": null,
            "align_items": null,
            "bottom": null,
            "_model_module": "@jupyter-widgets/base",
            "top": null,
            "grid_column": null,
            "overflow_y": null,
            "overflow_x": null,
            "grid_auto_flow": null,
            "grid_area": null,
            "grid_template_columns": null,
            "flex": null,
            "_model_name": "LayoutModel",
            "justify_items": null,
            "grid_row": null,
            "max_height": null,
            "align_content": null,
            "visibility": null,
            "align_self": null,
            "height": null,
            "min_height": null,
            "padding": null,
            "grid_auto_rows": null,
            "grid_gap": null,
            "max_width": null,
            "order": null,
            "_view_module_version": "1.2.0",
            "grid_template_areas": null,
            "object_position": null,
            "object_fit": null,
            "grid_auto_columns": null,
            "margin": null,
            "display": null,
            "left": null
          }
        },
        "301e4aa71eb346689ce32e816d5861f6": {
          "model_module": "@jupyter-widgets/controls",
          "model_name": "FloatProgressModel",
          "state": {
            "_view_name": "ProgressView",
            "style": "IPY_MODEL_0ee8567e8e2e432590304a3b85116f52",
            "_dom_classes": [],
            "description": "Downloading: 100%",
            "_model_name": "FloatProgressModel",
            "bar_style": "success",
            "max": 433,
            "_view_module": "@jupyter-widgets/controls",
            "_model_module_version": "1.5.0",
            "value": 433,
            "_view_count": null,
            "_view_module_version": "1.5.0",
            "orientation": "horizontal",
            "min": 0,
            "description_tooltip": null,
            "_model_module": "@jupyter-widgets/controls",
            "layout": "IPY_MODEL_2c681c701f6d49b9a49cbf41960bae82"
          }
        },
        "649e46dd32914b16a1bd646fbb97328d": {
          "model_module": "@jupyter-widgets/controls",
          "model_name": "HTMLModel",
          "state": {
            "_view_name": "HTMLView",
            "style": "IPY_MODEL_05e6e74efd664884a1c219575fe7331f",
            "_dom_classes": [],
            "description": "",
            "_model_name": "HTMLModel",
            "placeholder": "​",
            "_view_module": "@jupyter-widgets/controls",
            "_model_module_version": "1.5.0",
            "value": " 433/433 [00:00&lt;00:00, 1.41kB/s]",
            "_view_count": null,
            "_view_module_version": "1.5.0",
            "description_tooltip": null,
            "_model_module": "@jupyter-widgets/controls",
            "layout": "IPY_MODEL_488784fbb21640008e8a04fe3b0caea0"
          }
        },
        "0ee8567e8e2e432590304a3b85116f52": {
          "model_module": "@jupyter-widgets/controls",
          "model_name": "ProgressStyleModel",
          "state": {
            "_view_name": "StyleView",
            "_model_name": "ProgressStyleModel",
            "description_width": "initial",
            "_view_module": "@jupyter-widgets/base",
            "_model_module_version": "1.5.0",
            "_view_count": null,
            "_view_module_version": "1.2.0",
            "bar_color": null,
            "_model_module": "@jupyter-widgets/controls"
          }
        },
        "2c681c701f6d49b9a49cbf41960bae82": {
          "model_module": "@jupyter-widgets/base",
          "model_name": "LayoutModel",
          "state": {
            "_view_name": "LayoutView",
            "grid_template_rows": null,
            "right": null,
            "justify_content": null,
            "_view_module": "@jupyter-widgets/base",
            "overflow": null,
            "_model_module_version": "1.2.0",
            "_view_count": null,
            "flex_flow": null,
            "width": null,
            "min_width": null,
            "border": null,
            "align_items": null,
            "bottom": null,
            "_model_module": "@jupyter-widgets/base",
            "top": null,
            "grid_column": null,
            "overflow_y": null,
            "overflow_x": null,
            "grid_auto_flow": null,
            "grid_area": null,
            "grid_template_columns": null,
            "flex": null,
            "_model_name": "LayoutModel",
            "justify_items": null,
            "grid_row": null,
            "max_height": null,
            "align_content": null,
            "visibility": null,
            "align_self": null,
            "height": null,
            "min_height": null,
            "padding": null,
            "grid_auto_rows": null,
            "grid_gap": null,
            "max_width": null,
            "order": null,
            "_view_module_version": "1.2.0",
            "grid_template_areas": null,
            "object_position": null,
            "object_fit": null,
            "grid_auto_columns": null,
            "margin": null,
            "display": null,
            "left": null
          }
        },
        "05e6e74efd664884a1c219575fe7331f": {
          "model_module": "@jupyter-widgets/controls",
          "model_name": "DescriptionStyleModel",
          "state": {
            "_view_name": "StyleView",
            "_model_name": "DescriptionStyleModel",
            "description_width": "",
            "_view_module": "@jupyter-widgets/base",
            "_model_module_version": "1.5.0",
            "_view_count": null,
            "_view_module_version": "1.2.0",
            "_model_module": "@jupyter-widgets/controls"
          }
        },
        "488784fbb21640008e8a04fe3b0caea0": {
          "model_module": "@jupyter-widgets/base",
          "model_name": "LayoutModel",
          "state": {
            "_view_name": "LayoutView",
            "grid_template_rows": null,
            "right": null,
            "justify_content": null,
            "_view_module": "@jupyter-widgets/base",
            "overflow": null,
            "_model_module_version": "1.2.0",
            "_view_count": null,
            "flex_flow": null,
            "width": null,
            "min_width": null,
            "border": null,
            "align_items": null,
            "bottom": null,
            "_model_module": "@jupyter-widgets/base",
            "top": null,
            "grid_column": null,
            "overflow_y": null,
            "overflow_x": null,
            "grid_auto_flow": null,
            "grid_area": null,
            "grid_template_columns": null,
            "flex": null,
            "_model_name": "LayoutModel",
            "justify_items": null,
            "grid_row": null,
            "max_height": null,
            "align_content": null,
            "visibility": null,
            "align_self": null,
            "height": null,
            "min_height": null,
            "padding": null,
            "grid_auto_rows": null,
            "grid_gap": null,
            "max_width": null,
            "order": null,
            "_view_module_version": "1.2.0",
            "grid_template_areas": null,
            "object_position": null,
            "object_fit": null,
            "grid_auto_columns": null,
            "margin": null,
            "display": null,
            "left": null
          }
        },
        "b8d164601fe5402f9faf87b82ffdaafe": {
          "model_module": "@jupyter-widgets/controls",
          "model_name": "HBoxModel",
          "state": {
            "_view_name": "HBoxView",
            "_dom_classes": [],
            "_model_name": "HBoxModel",
            "_view_module": "@jupyter-widgets/controls",
            "_model_module_version": "1.5.0",
            "_view_count": null,
            "_view_module_version": "1.5.0",
            "box_style": "",
            "layout": "IPY_MODEL_723d0fdd86464037a6b30df8c2484af4",
            "_model_module": "@jupyter-widgets/controls",
            "children": [
              "IPY_MODEL_2584fc0e25ef4d13a8497211815aa20f",
              "IPY_MODEL_8728d8b49c25421daec66eb69e6493d7"
            ]
          }
        },
        "723d0fdd86464037a6b30df8c2484af4": {
          "model_module": "@jupyter-widgets/base",
          "model_name": "LayoutModel",
          "state": {
            "_view_name": "LayoutView",
            "grid_template_rows": null,
            "right": null,
            "justify_content": null,
            "_view_module": "@jupyter-widgets/base",
            "overflow": null,
            "_model_module_version": "1.2.0",
            "_view_count": null,
            "flex_flow": null,
            "width": null,
            "min_width": null,
            "border": null,
            "align_items": null,
            "bottom": null,
            "_model_module": "@jupyter-widgets/base",
            "top": null,
            "grid_column": null,
            "overflow_y": null,
            "overflow_x": null,
            "grid_auto_flow": null,
            "grid_area": null,
            "grid_template_columns": null,
            "flex": null,
            "_model_name": "LayoutModel",
            "justify_items": null,
            "grid_row": null,
            "max_height": null,
            "align_content": null,
            "visibility": null,
            "align_self": null,
            "height": null,
            "min_height": null,
            "padding": null,
            "grid_auto_rows": null,
            "grid_gap": null,
            "max_width": null,
            "order": null,
            "_view_module_version": "1.2.0",
            "grid_template_areas": null,
            "object_position": null,
            "object_fit": null,
            "grid_auto_columns": null,
            "margin": null,
            "display": null,
            "left": null
          }
        },
        "2584fc0e25ef4d13a8497211815aa20f": {
          "model_module": "@jupyter-widgets/controls",
          "model_name": "FloatProgressModel",
          "state": {
            "_view_name": "ProgressView",
            "style": "IPY_MODEL_bf37349a95a04ac8a14b660490b1157e",
            "_dom_classes": [],
            "description": "Downloading: 100%",
            "_model_name": "FloatProgressModel",
            "bar_style": "success",
            "max": 435779157,
            "_view_module": "@jupyter-widgets/controls",
            "_model_module_version": "1.5.0",
            "value": 435779157,
            "_view_count": null,
            "_view_module_version": "1.5.0",
            "orientation": "horizontal",
            "min": 0,
            "description_tooltip": null,
            "_model_module": "@jupyter-widgets/controls",
            "layout": "IPY_MODEL_99d3f4d8f40b4123aeeaf5fccb2bee00"
          }
        },
        "8728d8b49c25421daec66eb69e6493d7": {
          "model_module": "@jupyter-widgets/controls",
          "model_name": "HTMLModel",
          "state": {
            "_view_name": "HTMLView",
            "style": "IPY_MODEL_99611b44fbfb4780b94790238f8641d9",
            "_dom_classes": [],
            "description": "",
            "_model_name": "HTMLModel",
            "placeholder": "​",
            "_view_module": "@jupyter-widgets/controls",
            "_model_module_version": "1.5.0",
            "value": " 436M/436M [00:08&lt;00:00, 52.9MB/s]",
            "_view_count": null,
            "_view_module_version": "1.5.0",
            "description_tooltip": null,
            "_model_module": "@jupyter-widgets/controls",
            "layout": "IPY_MODEL_ce7a334513f844c982fe0d2b02c97fda"
          }
        },
        "bf37349a95a04ac8a14b660490b1157e": {
          "model_module": "@jupyter-widgets/controls",
          "model_name": "ProgressStyleModel",
          "state": {
            "_view_name": "StyleView",
            "_model_name": "ProgressStyleModel",
            "description_width": "initial",
            "_view_module": "@jupyter-widgets/base",
            "_model_module_version": "1.5.0",
            "_view_count": null,
            "_view_module_version": "1.2.0",
            "bar_color": null,
            "_model_module": "@jupyter-widgets/controls"
          }
        },
        "99d3f4d8f40b4123aeeaf5fccb2bee00": {
          "model_module": "@jupyter-widgets/base",
          "model_name": "LayoutModel",
          "state": {
            "_view_name": "LayoutView",
            "grid_template_rows": null,
            "right": null,
            "justify_content": null,
            "_view_module": "@jupyter-widgets/base",
            "overflow": null,
            "_model_module_version": "1.2.0",
            "_view_count": null,
            "flex_flow": null,
            "width": null,
            "min_width": null,
            "border": null,
            "align_items": null,
            "bottom": null,
            "_model_module": "@jupyter-widgets/base",
            "top": null,
            "grid_column": null,
            "overflow_y": null,
            "overflow_x": null,
            "grid_auto_flow": null,
            "grid_area": null,
            "grid_template_columns": null,
            "flex": null,
            "_model_name": "LayoutModel",
            "justify_items": null,
            "grid_row": null,
            "max_height": null,
            "align_content": null,
            "visibility": null,
            "align_self": null,
            "height": null,
            "min_height": null,
            "padding": null,
            "grid_auto_rows": null,
            "grid_gap": null,
            "max_width": null,
            "order": null,
            "_view_module_version": "1.2.0",
            "grid_template_areas": null,
            "object_position": null,
            "object_fit": null,
            "grid_auto_columns": null,
            "margin": null,
            "display": null,
            "left": null
          }
        },
        "99611b44fbfb4780b94790238f8641d9": {
          "model_module": "@jupyter-widgets/controls",
          "model_name": "DescriptionStyleModel",
          "state": {
            "_view_name": "StyleView",
            "_model_name": "DescriptionStyleModel",
            "description_width": "",
            "_view_module": "@jupyter-widgets/base",
            "_model_module_version": "1.5.0",
            "_view_count": null,
            "_view_module_version": "1.2.0",
            "_model_module": "@jupyter-widgets/controls"
          }
        },
        "ce7a334513f844c982fe0d2b02c97fda": {
          "model_module": "@jupyter-widgets/base",
          "model_name": "LayoutModel",
          "state": {
            "_view_name": "LayoutView",
            "grid_template_rows": null,
            "right": null,
            "justify_content": null,
            "_view_module": "@jupyter-widgets/base",
            "overflow": null,
            "_model_module_version": "1.2.0",
            "_view_count": null,
            "flex_flow": null,
            "width": null,
            "min_width": null,
            "border": null,
            "align_items": null,
            "bottom": null,
            "_model_module": "@jupyter-widgets/base",
            "top": null,
            "grid_column": null,
            "overflow_y": null,
            "overflow_x": null,
            "grid_auto_flow": null,
            "grid_area": null,
            "grid_template_columns": null,
            "flex": null,
            "_model_name": "LayoutModel",
            "justify_items": null,
            "grid_row": null,
            "max_height": null,
            "align_content": null,
            "visibility": null,
            "align_self": null,
            "height": null,
            "min_height": null,
            "padding": null,
            "grid_auto_rows": null,
            "grid_gap": null,
            "max_width": null,
            "order": null,
            "_view_module_version": "1.2.0",
            "grid_template_areas": null,
            "object_position": null,
            "object_fit": null,
            "grid_auto_columns": null,
            "margin": null,
            "display": null,
            "left": null
          }
        }
      }
    }
  },
  "cells": [
    {
      "cell_type": "markdown",
      "metadata": {
        "id": "waEHsxpx-2n_"
      },
      "source": [
        "Clayton Cohn<br>\n",
        "DePaul University<br>\n",
        "19 Apr 2021<br>\n",
        "\n",
        "#<center> Tagging Concepts in Causal Chains w/ BERT"
      ]
    },
    {
      "cell_type": "markdown",
      "metadata": {
        "id": "ghDRjYUEYaQz"
      },
      "source": [
        "This code was adapted from Drew Perkins' tutorial via Towards Data Science: \n",
        "\n",
        "https://towardsdatascience.com/tagging-genes-and-proteins-with-biobert-c7b04fc6eb4f"
      ]
    },
    {
      "cell_type": "code",
      "metadata": {
        "colab": {
          "base_uri": "https://localhost:8080/"
        },
        "id": "Jm9JksAbEE4a",
        "outputId": "6efc870e-9692-4b96-bc6d-d3c95caa15ac"
      },
      "source": [
        "from google.colab import drive\n",
        "drive.mount('/content/drive')"
      ],
      "execution_count": 1,
      "outputs": [
        {
          "output_type": "stream",
          "text": [
            "Mounted at /content/drive\n"
          ],
          "name": "stdout"
        }
      ]
    },
    {
      "cell_type": "markdown",
      "metadata": {
        "id": "tUqv3JUr_wrw"
      },
      "source": [
        "The below cell is for combining the *big* and *little* datasets if we want to do cross-validation. For this notebook, I simply used both the big and little datasets as-is."
      ]
    },
    {
      "cell_type": "code",
      "metadata": {
        "colab": {
          "base_uri": "https://localhost:8080/",
          "height": 35
        },
        "id": "G7jRUiA2E2da",
        "outputId": "f251c8b1-e82d-444c-9f78-8f0047461bb0"
      },
      "source": [
        "'''\n",
        "This cell used to concatenate big and little partitions\n",
        "'''\n",
        "\n",
        "# import pandas as pd\n",
        "\n",
        "# DATA_PATH = \"drive/My Drive/colab/DeepNLP/data/\"\n",
        "# FILE_NAME1 = \"EBA1415-SkinCancer-big-reln-repeat-iob2.csv\"\n",
        "# FILE_NAME2 = \"EBA1415-SkinCancer-little-reln-repeat-iob2.csv\"\n",
        "\n",
        "# df1 = pd.read_csv(DATA_PATH + FILE_NAME1)\n",
        "# df2 = pd.read_csv(DATA_PATH + FILE_NAME2)\n",
        "\n",
        "# print(\"1:\", len(df1))\n",
        "# print(\"2:\", len(df2))\n",
        "\n",
        "# df = pd.concat([df1, df2], ignore_index=True)\n",
        "# print(len(df))\n",
        "\n",
        "# print(df.head())\n",
        "\n",
        "# df.to_csv(DATA_PATH + 'EBA1415-SkinCancer-join-reln-repeat-iob2.csv', index=False)"
      ],
      "execution_count": 2,
      "outputs": [
        {
          "output_type": "execute_result",
          "data": {
            "application/vnd.google.colaboratory.intrinsic+json": {
              "type": "string"
            },
            "text/plain": [
              "'\\nThis cell used to concatenate big and little partitions\\n'"
            ]
          },
          "metadata": {
            "tags": []
          },
          "execution_count": 2
        }
      ]
    },
    {
      "cell_type": "code",
      "metadata": {
        "id": "7mDKS3oeEUL2"
      },
      "source": [
        "DATA_PATH = \"drive/My Drive/colab/DeepNLP/data/\"\n",
        "FILE_NAME = \"EBA1415-CoralBleaching-big-reln-repeat-iob2.csv\""
      ],
      "execution_count": 3,
      "outputs": []
    },
    {
      "cell_type": "code",
      "metadata": {
        "colab": {
          "base_uri": "https://localhost:8080/",
          "height": 824
        },
        "id": "c2lfnjVaE4FD",
        "outputId": "50c0f8f6-f0eb-477f-c785-428f1745a24a"
      },
      "source": [
        "import pandas as pd\n",
        "\n",
        "df = pd.read_csv(DATA_PATH + FILE_NAME)\n",
        "df.head(25)"
      ],
      "execution_count": 4,
      "outputs": [
        {
          "output_type": "execute_result",
          "data": {
            "text/html": [
              "<div>\n",
              "<style scoped>\n",
              "    .dataframe tbody tr th:only-of-type {\n",
              "        vertical-align: middle;\n",
              "    }\n",
              "\n",
              "    .dataframe tbody tr th {\n",
              "        vertical-align: top;\n",
              "    }\n",
              "\n",
              "    .dataframe thead th {\n",
              "        text-align: right;\n",
              "    }\n",
              "</style>\n",
              "<table border=\"1\" class=\"dataframe\">\n",
              "  <thead>\n",
              "    <tr style=\"text-align: right;\">\n",
              "      <th></th>\n",
              "      <th>Sentence #</th>\n",
              "      <th>Word</th>\n",
              "      <th>STag</th>\n",
              "      <th>Tag</th>\n",
              "      <th>Relation</th>\n",
              "      <th>File</th>\n",
              "    </tr>\n",
              "  </thead>\n",
              "  <tbody>\n",
              "    <tr>\n",
              "      <th>0</th>\n",
              "      <td>Sentence 1</td>\n",
              "      <td>Coral</td>\n",
              "      <td>O</td>\n",
              "      <td>O</td>\n",
              "      <td>O</td>\n",
              "      <td>EBA1415_KNKC_1_CB_ES-05410</td>\n",
              "    </tr>\n",
              "    <tr>\n",
              "      <th>1</th>\n",
              "      <td>NaN</td>\n",
              "      <td>and</td>\n",
              "      <td>O</td>\n",
              "      <td>O</td>\n",
              "      <td>O</td>\n",
              "      <td>NaN</td>\n",
              "    </tr>\n",
              "    <tr>\n",
              "      <th>2</th>\n",
              "      <td>NaN</td>\n",
              "      <td>zooxanthellae</td>\n",
              "      <td>O</td>\n",
              "      <td>O</td>\n",
              "      <td>O</td>\n",
              "      <td>NaN</td>\n",
              "    </tr>\n",
              "    <tr>\n",
              "      <th>3</th>\n",
              "      <td>NaN</td>\n",
              "      <td>depend</td>\n",
              "      <td>O</td>\n",
              "      <td>O</td>\n",
              "      <td>O</td>\n",
              "      <td>NaN</td>\n",
              "    </tr>\n",
              "    <tr>\n",
              "      <th>4</th>\n",
              "      <td>NaN</td>\n",
              "      <td>an</td>\n",
              "      <td>O</td>\n",
              "      <td>O</td>\n",
              "      <td>O</td>\n",
              "      <td>NaN</td>\n",
              "    </tr>\n",
              "    <tr>\n",
              "      <th>5</th>\n",
              "      <td>NaN</td>\n",
              "      <td>each</td>\n",
              "      <td>O</td>\n",
              "      <td>O</td>\n",
              "      <td>O</td>\n",
              "      <td>NaN</td>\n",
              "    </tr>\n",
              "    <tr>\n",
              "      <th>6</th>\n",
              "      <td>NaN</td>\n",
              "      <td>other</td>\n",
              "      <td>O</td>\n",
              "      <td>O</td>\n",
              "      <td>O</td>\n",
              "      <td>NaN</td>\n",
              "    </tr>\n",
              "    <tr>\n",
              "      <th>7</th>\n",
              "      <td>NaN</td>\n",
              "      <td>in</td>\n",
              "      <td>O</td>\n",
              "      <td>O</td>\n",
              "      <td>O</td>\n",
              "      <td>NaN</td>\n",
              "    </tr>\n",
              "    <tr>\n",
              "      <th>8</th>\n",
              "      <td>NaN</td>\n",
              "      <td>order</td>\n",
              "      <td>O</td>\n",
              "      <td>O</td>\n",
              "      <td>O</td>\n",
              "      <td>NaN</td>\n",
              "    </tr>\n",
              "    <tr>\n",
              "      <th>9</th>\n",
              "      <td>NaN</td>\n",
              "      <td>to</td>\n",
              "      <td>O</td>\n",
              "      <td>O</td>\n",
              "      <td>O</td>\n",
              "      <td>NaN</td>\n",
              "    </tr>\n",
              "    <tr>\n",
              "      <th>10</th>\n",
              "      <td>NaN</td>\n",
              "      <td>live</td>\n",
              "      <td>O</td>\n",
              "      <td>O</td>\n",
              "      <td>O</td>\n",
              "      <td>NaN</td>\n",
              "    </tr>\n",
              "    <tr>\n",
              "      <th>11</th>\n",
              "      <td>NaN</td>\n",
              "      <td>.</td>\n",
              "      <td>O</td>\n",
              "      <td>O</td>\n",
              "      <td>O</td>\n",
              "      <td>NaN</td>\n",
              "    </tr>\n",
              "    <tr>\n",
              "      <th>12</th>\n",
              "      <td>Sentence 2</td>\n",
              "      <td>If</td>\n",
              "      <td>C-EXPLICIT</td>\n",
              "      <td>I-EXPLICIT</td>\n",
              "      <td>O</td>\n",
              "      <td>NaN</td>\n",
              "    </tr>\n",
              "    <tr>\n",
              "      <th>13</th>\n",
              "      <td>NaN</td>\n",
              "      <td>the</td>\n",
              "      <td>O</td>\n",
              "      <td>O</td>\n",
              "      <td>O</td>\n",
              "      <td>NaN</td>\n",
              "    </tr>\n",
              "    <tr>\n",
              "      <th>14</th>\n",
              "      <td>NaN</td>\n",
              "      <td>coral</td>\n",
              "      <td>O</td>\n",
              "      <td>O</td>\n",
              "      <td>O</td>\n",
              "      <td>NaN</td>\n",
              "    </tr>\n",
              "    <tr>\n",
              "      <th>15</th>\n",
              "      <td>NaN</td>\n",
              "      <td>dies</td>\n",
              "      <td>O</td>\n",
              "      <td>O</td>\n",
              "      <td>O</td>\n",
              "      <td>NaN</td>\n",
              "    </tr>\n",
              "    <tr>\n",
              "      <th>16</th>\n",
              "      <td>NaN</td>\n",
              "      <td>,</td>\n",
              "      <td>O</td>\n",
              "      <td>O</td>\n",
              "      <td>O</td>\n",
              "      <td>NaN</td>\n",
              "    </tr>\n",
              "    <tr>\n",
              "      <th>17</th>\n",
              "      <td>NaN</td>\n",
              "      <td>or</td>\n",
              "      <td>O</td>\n",
              "      <td>O</td>\n",
              "      <td>O</td>\n",
              "      <td>NaN</td>\n",
              "    </tr>\n",
              "    <tr>\n",
              "      <th>18</th>\n",
              "      <td>NaN</td>\n",
              "      <td>gets</td>\n",
              "      <td>C-50</td>\n",
              "      <td>B-50</td>\n",
              "      <td>R-7-50</td>\n",
              "      <td>NaN</td>\n",
              "    </tr>\n",
              "    <tr>\n",
              "      <th>19</th>\n",
              "      <td>NaN</td>\n",
              "      <td>bleached</td>\n",
              "      <td>C-50</td>\n",
              "      <td>I-50</td>\n",
              "      <td>R-7-50</td>\n",
              "      <td>NaN</td>\n",
              "    </tr>\n",
              "    <tr>\n",
              "      <th>20</th>\n",
              "      <td>NaN</td>\n",
              "      <td>,</td>\n",
              "      <td>O</td>\n",
              "      <td>O</td>\n",
              "      <td>O</td>\n",
              "      <td>NaN</td>\n",
              "    </tr>\n",
              "    <tr>\n",
              "      <th>21</th>\n",
              "      <td>NaN</td>\n",
              "      <td>then</td>\n",
              "      <td>C-EXPLICIT</td>\n",
              "      <td>B-EXPLICIT</td>\n",
              "      <td>R-7-50</td>\n",
              "      <td>NaN</td>\n",
              "    </tr>\n",
              "    <tr>\n",
              "      <th>22</th>\n",
              "      <td>NaN</td>\n",
              "      <td>the</td>\n",
              "      <td>O</td>\n",
              "      <td>O</td>\n",
              "      <td>O</td>\n",
              "      <td>NaN</td>\n",
              "    </tr>\n",
              "    <tr>\n",
              "      <th>23</th>\n",
              "      <td>NaN</td>\n",
              "      <td>zooxanthellae</td>\n",
              "      <td>C-7</td>\n",
              "      <td>B-7</td>\n",
              "      <td>R-7-50</td>\n",
              "      <td>NaN</td>\n",
              "    </tr>\n",
              "    <tr>\n",
              "      <th>24</th>\n",
              "      <td>NaN</td>\n",
              "      <td>dies</td>\n",
              "      <td>C-7</td>\n",
              "      <td>I-7</td>\n",
              "      <td>R-7-50</td>\n",
              "      <td>NaN</td>\n",
              "    </tr>\n",
              "  </tbody>\n",
              "</table>\n",
              "</div>"
            ],
            "text/plain": [
              "    Sentence #           Word  ... Relation                        File\n",
              "0   Sentence 1          Coral  ...        O  EBA1415_KNKC_1_CB_ES-05410\n",
              "1          NaN            and  ...        O                         NaN\n",
              "2          NaN  zooxanthellae  ...        O                         NaN\n",
              "3          NaN         depend  ...        O                         NaN\n",
              "4          NaN             an  ...        O                         NaN\n",
              "5          NaN           each  ...        O                         NaN\n",
              "6          NaN          other  ...        O                         NaN\n",
              "7          NaN             in  ...        O                         NaN\n",
              "8          NaN          order  ...        O                         NaN\n",
              "9          NaN             to  ...        O                         NaN\n",
              "10         NaN           live  ...        O                         NaN\n",
              "11         NaN              .  ...        O                         NaN\n",
              "12  Sentence 2             If  ...        O                         NaN\n",
              "13         NaN            the  ...        O                         NaN\n",
              "14         NaN          coral  ...        O                         NaN\n",
              "15         NaN           dies  ...        O                         NaN\n",
              "16         NaN              ,  ...        O                         NaN\n",
              "17         NaN             or  ...        O                         NaN\n",
              "18         NaN           gets  ...   R-7-50                         NaN\n",
              "19         NaN       bleached  ...   R-7-50                         NaN\n",
              "20         NaN              ,  ...        O                         NaN\n",
              "21         NaN           then  ...   R-7-50                         NaN\n",
              "22         NaN            the  ...        O                         NaN\n",
              "23         NaN  zooxanthellae  ...   R-7-50                         NaN\n",
              "24         NaN           dies  ...   R-7-50                         NaN\n",
              "\n",
              "[25 rows x 6 columns]"
            ]
          },
          "metadata": {
            "tags": []
          },
          "execution_count": 4
        }
      ]
    },
    {
      "cell_type": "markdown",
      "metadata": {
        "id": "rC8B_UMh_-nz"
      },
      "source": [
        "This was the raw dataset taken from the wiki. It has a lot of extraneous information that needs to be stripped. Considering that this is a tagging task, all we are concerned with is the sentence numberm, word, and label.\n",
        "\n",
        "Additionally, the sentence numbers need to be added, as currently only the first word of each sentence has a number."
      ]
    },
    {
      "cell_type": "code",
      "metadata": {
        "colab": {
          "base_uri": "https://localhost:8080/",
          "height": 824
        },
        "id": "TZk6wBUtAG_l",
        "outputId": "bff83c7e-adbb-409a-ee82-dd0c3bb2c150"
      },
      "source": [
        "import numpy as np\n",
        "\n",
        "df_num = df.copy(deep=True)\n",
        "df_num.iloc[0][\"Sentence #\"] = 0\n",
        "df_num.drop(['File', 'Relation', 'STag'], axis=1, inplace=True)\n",
        "df_num.columns = [\"s_num\",\"word\",\"tag\"]\n",
        "df_num = df_num.fillna(-1)\n",
        "\n",
        "snum = -1\n",
        "for idx, row in df_num.iterrows():\n",
        "  if row[\"s_num\"] == -1: row[\"s_num\"] = snum\n",
        "  else: \n",
        "    snum += 1\n",
        "    row[\"s_num\"] = snum\n",
        "\n",
        "df_num.head(25)"
      ],
      "execution_count": 5,
      "outputs": [
        {
          "output_type": "execute_result",
          "data": {
            "text/html": [
              "<div>\n",
              "<style scoped>\n",
              "    .dataframe tbody tr th:only-of-type {\n",
              "        vertical-align: middle;\n",
              "    }\n",
              "\n",
              "    .dataframe tbody tr th {\n",
              "        vertical-align: top;\n",
              "    }\n",
              "\n",
              "    .dataframe thead th {\n",
              "        text-align: right;\n",
              "    }\n",
              "</style>\n",
              "<table border=\"1\" class=\"dataframe\">\n",
              "  <thead>\n",
              "    <tr style=\"text-align: right;\">\n",
              "      <th></th>\n",
              "      <th>s_num</th>\n",
              "      <th>word</th>\n",
              "      <th>tag</th>\n",
              "    </tr>\n",
              "  </thead>\n",
              "  <tbody>\n",
              "    <tr>\n",
              "      <th>0</th>\n",
              "      <td>0</td>\n",
              "      <td>Coral</td>\n",
              "      <td>O</td>\n",
              "    </tr>\n",
              "    <tr>\n",
              "      <th>1</th>\n",
              "      <td>0</td>\n",
              "      <td>and</td>\n",
              "      <td>O</td>\n",
              "    </tr>\n",
              "    <tr>\n",
              "      <th>2</th>\n",
              "      <td>0</td>\n",
              "      <td>zooxanthellae</td>\n",
              "      <td>O</td>\n",
              "    </tr>\n",
              "    <tr>\n",
              "      <th>3</th>\n",
              "      <td>0</td>\n",
              "      <td>depend</td>\n",
              "      <td>O</td>\n",
              "    </tr>\n",
              "    <tr>\n",
              "      <th>4</th>\n",
              "      <td>0</td>\n",
              "      <td>an</td>\n",
              "      <td>O</td>\n",
              "    </tr>\n",
              "    <tr>\n",
              "      <th>5</th>\n",
              "      <td>0</td>\n",
              "      <td>each</td>\n",
              "      <td>O</td>\n",
              "    </tr>\n",
              "    <tr>\n",
              "      <th>6</th>\n",
              "      <td>0</td>\n",
              "      <td>other</td>\n",
              "      <td>O</td>\n",
              "    </tr>\n",
              "    <tr>\n",
              "      <th>7</th>\n",
              "      <td>0</td>\n",
              "      <td>in</td>\n",
              "      <td>O</td>\n",
              "    </tr>\n",
              "    <tr>\n",
              "      <th>8</th>\n",
              "      <td>0</td>\n",
              "      <td>order</td>\n",
              "      <td>O</td>\n",
              "    </tr>\n",
              "    <tr>\n",
              "      <th>9</th>\n",
              "      <td>0</td>\n",
              "      <td>to</td>\n",
              "      <td>O</td>\n",
              "    </tr>\n",
              "    <tr>\n",
              "      <th>10</th>\n",
              "      <td>0</td>\n",
              "      <td>live</td>\n",
              "      <td>O</td>\n",
              "    </tr>\n",
              "    <tr>\n",
              "      <th>11</th>\n",
              "      <td>0</td>\n",
              "      <td>.</td>\n",
              "      <td>O</td>\n",
              "    </tr>\n",
              "    <tr>\n",
              "      <th>12</th>\n",
              "      <td>1</td>\n",
              "      <td>If</td>\n",
              "      <td>I-EXPLICIT</td>\n",
              "    </tr>\n",
              "    <tr>\n",
              "      <th>13</th>\n",
              "      <td>1</td>\n",
              "      <td>the</td>\n",
              "      <td>O</td>\n",
              "    </tr>\n",
              "    <tr>\n",
              "      <th>14</th>\n",
              "      <td>1</td>\n",
              "      <td>coral</td>\n",
              "      <td>O</td>\n",
              "    </tr>\n",
              "    <tr>\n",
              "      <th>15</th>\n",
              "      <td>1</td>\n",
              "      <td>dies</td>\n",
              "      <td>O</td>\n",
              "    </tr>\n",
              "    <tr>\n",
              "      <th>16</th>\n",
              "      <td>1</td>\n",
              "      <td>,</td>\n",
              "      <td>O</td>\n",
              "    </tr>\n",
              "    <tr>\n",
              "      <th>17</th>\n",
              "      <td>1</td>\n",
              "      <td>or</td>\n",
              "      <td>O</td>\n",
              "    </tr>\n",
              "    <tr>\n",
              "      <th>18</th>\n",
              "      <td>1</td>\n",
              "      <td>gets</td>\n",
              "      <td>B-50</td>\n",
              "    </tr>\n",
              "    <tr>\n",
              "      <th>19</th>\n",
              "      <td>1</td>\n",
              "      <td>bleached</td>\n",
              "      <td>I-50</td>\n",
              "    </tr>\n",
              "    <tr>\n",
              "      <th>20</th>\n",
              "      <td>1</td>\n",
              "      <td>,</td>\n",
              "      <td>O</td>\n",
              "    </tr>\n",
              "    <tr>\n",
              "      <th>21</th>\n",
              "      <td>1</td>\n",
              "      <td>then</td>\n",
              "      <td>B-EXPLICIT</td>\n",
              "    </tr>\n",
              "    <tr>\n",
              "      <th>22</th>\n",
              "      <td>1</td>\n",
              "      <td>the</td>\n",
              "      <td>O</td>\n",
              "    </tr>\n",
              "    <tr>\n",
              "      <th>23</th>\n",
              "      <td>1</td>\n",
              "      <td>zooxanthellae</td>\n",
              "      <td>B-7</td>\n",
              "    </tr>\n",
              "    <tr>\n",
              "      <th>24</th>\n",
              "      <td>1</td>\n",
              "      <td>dies</td>\n",
              "      <td>I-7</td>\n",
              "    </tr>\n",
              "  </tbody>\n",
              "</table>\n",
              "</div>"
            ],
            "text/plain": [
              "   s_num           word         tag\n",
              "0      0          Coral           O\n",
              "1      0            and           O\n",
              "2      0  zooxanthellae           O\n",
              "3      0         depend           O\n",
              "4      0             an           O\n",
              "5      0           each           O\n",
              "6      0          other           O\n",
              "7      0             in           O\n",
              "8      0          order           O\n",
              "9      0             to           O\n",
              "10     0           live           O\n",
              "11     0              .           O\n",
              "12     1             If  I-EXPLICIT\n",
              "13     1            the           O\n",
              "14     1          coral           O\n",
              "15     1           dies           O\n",
              "16     1              ,           O\n",
              "17     1             or           O\n",
              "18     1           gets        B-50\n",
              "19     1       bleached        I-50\n",
              "20     1              ,           O\n",
              "21     1           then  B-EXPLICIT\n",
              "22     1            the           O\n",
              "23     1  zooxanthellae         B-7\n",
              "24     1           dies         I-7"
            ]
          },
          "metadata": {
            "tags": []
          },
          "execution_count": 5
        }
      ]
    },
    {
      "cell_type": "markdown",
      "metadata": {
        "id": "hhPOrvNEAcHV"
      },
      "source": [
        "Once we have the cleaned and trimmed dataset we can make sure that there are no ```null``` values and also properly format the columns. This is also a good time to do some EDA and take a peek at the data."
      ]
    },
    {
      "cell_type": "code",
      "metadata": {
        "colab": {
          "base_uri": "https://localhost:8080/"
        },
        "id": "dAhNsk9uG7VA",
        "outputId": "c5ed1e38-c215-4455-e634-d6ea5c3bb628"
      },
      "source": [
        "print(\"Any nulls? \", df_num.isnull().values.any())"
      ],
      "execution_count": 6,
      "outputs": [
        {
          "output_type": "stream",
          "text": [
            "Any nulls?  False\n"
          ],
          "name": "stdout"
        }
      ]
    },
    {
      "cell_type": "code",
      "metadata": {
        "id": "XGk7UZ04Isbr"
      },
      "source": [
        "df_num[\"s_num\"] = df_num[\"s_num\"].astype(str).astype(int)"
      ],
      "execution_count": 7,
      "outputs": []
    },
    {
      "cell_type": "code",
      "metadata": {
        "colab": {
          "base_uri": "https://localhost:8080/"
        },
        "id": "8VwKhRwBIaeR",
        "outputId": "1fea6bb7-bc8f-44d1-b66a-f9538b970ea4"
      },
      "source": [
        "print(\"Shape:\", df_num.shape)\n",
        "print(df_num.info())"
      ],
      "execution_count": 8,
      "outputs": [
        {
          "output_type": "stream",
          "text": [
            "Shape: (165406, 3)\n",
            "<class 'pandas.core.frame.DataFrame'>\n",
            "RangeIndex: 165406 entries, 0 to 165405\n",
            "Data columns (total 3 columns):\n",
            " #   Column  Non-Null Count   Dtype \n",
            "---  ------  --------------   ----- \n",
            " 0   s_num   165406 non-null  int64 \n",
            " 1   word    165406 non-null  object\n",
            " 2   tag     165406 non-null  object\n",
            "dtypes: int64(1), object(2)\n",
            "memory usage: 3.8+ MB\n",
            "None\n"
          ],
          "name": "stdout"
        }
      ]
    },
    {
      "cell_type": "code",
      "metadata": {
        "colab": {
          "base_uri": "https://localhost:8080/"
        },
        "id": "eeupKUFHJaNI",
        "outputId": "2453d5b0-1c69-4ea1-9fff-0a1eddc489c1"
      },
      "source": [
        "print(\"Unique labels:\")\n",
        "sorted(df_num.tag.unique())"
      ],
      "execution_count": 9,
      "outputs": [
        {
          "output_type": "stream",
          "text": [
            "Unique labels:\n"
          ],
          "name": "stdout"
        },
        {
          "output_type": "execute_result",
          "data": {
            "text/plain": [
              "['B-1',\n",
              " 'B-11',\n",
              " 'B-12',\n",
              " 'B-13',\n",
              " 'B-14',\n",
              " 'B-2',\n",
              " 'B-3',\n",
              " 'B-4',\n",
              " 'B-5',\n",
              " 'B-50',\n",
              " 'B-5B',\n",
              " 'B-6',\n",
              " 'B-7',\n",
              " 'B-ANAPHOR',\n",
              " 'B-BCK',\n",
              " 'B-CHANGE-FACTOR',\n",
              " 'B-EXPLICIT',\n",
              " 'B-ND',\n",
              " 'B-OTHER',\n",
              " 'B-RHETORICAL',\n",
              " 'I-1',\n",
              " 'I-11',\n",
              " 'I-12',\n",
              " 'I-13',\n",
              " 'I-14',\n",
              " 'I-2',\n",
              " 'I-3',\n",
              " 'I-4',\n",
              " 'I-5',\n",
              " 'I-50',\n",
              " 'I-5B',\n",
              " 'I-6',\n",
              " 'I-7',\n",
              " 'I-ANAPHOR',\n",
              " 'I-CHANGE-FACTOR',\n",
              " 'I-EXPLICIT',\n",
              " 'I-ND',\n",
              " 'I-OTHER',\n",
              " 'I-RHETORICAL',\n",
              " 'O']"
            ]
          },
          "metadata": {
            "tags": []
          },
          "execution_count": 9
        }
      ]
    },
    {
      "cell_type": "markdown",
      "metadata": {
        "id": "LGasl4GtAtz6"
      },
      "source": [
        "There are a bunch of labels that do not correlate to actual concepts in our causal model, so we need to transform those into \"O\" tags. In this notebook we are only concerned with tagging the actual concepts found in the causal model.  "
      ]
    },
    {
      "cell_type": "code",
      "metadata": {
        "id": "Y2WcqUMvsZLp"
      },
      "source": [
        "invalids = {\"B-ANAPHOR\", \"B-BCK\", \"B-CHANGE-FACTOR\", \"B-EXPLICIT\", \"B-ND\", \"B-OTHER\", \"B-RHETORICAL\", \\\n",
        "            \"I-ANAPHOR\", \"I-CHANGE-FACTOR\", \"I-EXPLICIT\", \"I-ND\", \"I-OTHER\", \"I-RHETORICAL\"}"
      ],
      "execution_count": 10,
      "outputs": []
    },
    {
      "cell_type": "code",
      "metadata": {
        "id": "ZXRLSxdJtgqG"
      },
      "source": [
        "df_num[\"tag\"] = df_num.apply(lambda x: \"O\" if x[\"tag\"] in invalids else x[\"tag\"], axis=1)"
      ],
      "execution_count": 11,
      "outputs": []
    },
    {
      "cell_type": "markdown",
      "metadata": {
        "id": "4s-AmUHnBJGH"
      },
      "source": [
        "Below are the label counts for all of the concepts (and the \"O\" label)."
      ]
    },
    {
      "cell_type": "code",
      "metadata": {
        "colab": {
          "base_uri": "https://localhost:8080/"
        },
        "id": "puH5e7aGJurI",
        "outputId": "e13f2582-41b8-4634-97e3-68a3c726b9fe"
      },
      "source": [
        "print(df_num.tag.value_counts()[:10])"
      ],
      "execution_count": 12,
      "outputs": [
        {
          "output_type": "stream",
          "text": [
            "O       109530\n",
            "I-50     10262\n",
            "I-3       8151\n",
            "I-1       4483\n",
            "B-50      4158\n",
            "I-7       4135\n",
            "I-4       2921\n",
            "I-14      2681\n",
            "I-13      2184\n",
            "I-5B      2145\n",
            "Name: tag, dtype: int64\n"
          ],
          "name": "stdout"
        }
      ]
    },
    {
      "cell_type": "code",
      "metadata": {
        "colab": {
          "base_uri": "https://localhost:8080/"
        },
        "id": "sskP_o9JKKkS",
        "outputId": "9722876b-97c8-4f4d-87f1-0086dc640833"
      },
      "source": [
        "print(df_num.s_num.value_counts()[:10])"
      ],
      "execution_count": 13,
      "outputs": [
        {
          "output_type": "stream",
          "text": [
            "3130    139\n",
            "3128    139\n",
            "3129    139\n",
            "3127    139\n",
            "7789     93\n",
            "7790     93\n",
            "5884     83\n",
            "796      80\n",
            "794      80\n",
            "795      80\n",
            "Name: s_num, dtype: int64\n"
          ],
          "name": "stdout"
        }
      ]
    },
    {
      "cell_type": "markdown",
      "metadata": {
        "id": "1L43Hf-zBTFc"
      },
      "source": [
        "The ```SentenceGetter``` class extracts the sentences from the DataFrame."
      ]
    },
    {
      "cell_type": "code",
      "metadata": {
        "id": "w90kjo9QKR7Z"
      },
      "source": [
        "class SentenceGetter(object):\n",
        "  def __init__(self, data):\n",
        "      self.n_sent = 1\n",
        "      self.data = data\n",
        "      self.empty = False\n",
        "      agg_func = lambda s: [(w, l) for w, l in zip(s[\"word\"].values.tolist(), s[\"tag\"].values.tolist())]\n",
        "      self.grouped = self.data.groupby(\"s_num\").apply(agg_func)\n",
        "      self.sentences = [s for s in self.grouped]\n",
        "\n",
        "  def get_next(self):\n",
        "      try:\n",
        "          s = self.grouped[\"Sentence: {}\".format(self.n_sent)]\n",
        "          self.n_sent += 1\n",
        "          return s\n",
        "      except:\n",
        "          return None"
      ],
      "execution_count": 14,
      "outputs": []
    },
    {
      "cell_type": "code",
      "metadata": {
        "id": "8F1_4-_KKU9g"
      },
      "source": [
        "getter = SentenceGetter(df_num)"
      ],
      "execution_count": 15,
      "outputs": []
    },
    {
      "cell_type": "code",
      "metadata": {
        "colab": {
          "base_uri": "https://localhost:8080/"
        },
        "id": "lJLwVy9CKXKt",
        "outputId": "ca7c78aa-2ef6-46c6-db7e-32ec7a71302f"
      },
      "source": [
        "sents = [[word[0] for word in sentence] for sentence in getter.sentences]\n",
        "sents[1]"
      ],
      "execution_count": 16,
      "outputs": [
        {
          "output_type": "execute_result",
          "data": {
            "text/plain": [
              "['If',\n",
              " 'the',\n",
              " 'coral',\n",
              " 'dies',\n",
              " ',',\n",
              " 'or',\n",
              " 'gets',\n",
              " 'bleached',\n",
              " ',',\n",
              " 'then',\n",
              " 'the',\n",
              " 'zooxanthellae',\n",
              " 'dies',\n",
              " '.']"
            ]
          },
          "metadata": {
            "tags": []
          },
          "execution_count": 16
        }
      ]
    },
    {
      "cell_type": "code",
      "metadata": {
        "colab": {
          "base_uri": "https://localhost:8080/"
        },
        "id": "kOAVvSsnKcAW",
        "outputId": "2f941cae-a014-464d-8689-738f7c21f4aa"
      },
      "source": [
        "labels = [[s[1] for s in sentence] for sentence in getter.sentences]\n",
        "print(labels[1])"
      ],
      "execution_count": 17,
      "outputs": [
        {
          "output_type": "stream",
          "text": [
            "['O', 'O', 'O', 'O', 'O', 'O', 'B-50', 'I-50', 'O', 'O', 'O', 'B-7', 'I-7', 'O']\n"
          ],
          "name": "stdout"
        }
      ]
    },
    {
      "cell_type": "markdown",
      "metadata": {
        "id": "1xJVc90PBfaM"
      },
      "source": [
        "We create a set of all tag values, i.e. concepts. We also add ```PAD``` as a value, as it will be used by BERT as the token for sequence padding.\n",
        "\n",
        "The ```tag2idx``` dictionary assigns each tag a numerical value, as we are required by BERT to represent labels via integers."
      ]
    },
    {
      "cell_type": "code",
      "metadata": {
        "id": "-TSHA42PKm5K"
      },
      "source": [
        "tag_values = list(set(df_num[\"tag\"].values))\n",
        "tag_values.append(\"PAD\")\n",
        "tag2idx = {t: i for i, t in enumerate(tag_values)}"
      ],
      "execution_count": 18,
      "outputs": []
    },
    {
      "cell_type": "code",
      "metadata": {
        "id": "jefGnD9fLJjC",
        "colab": {
          "base_uri": "https://localhost:8080/"
        },
        "outputId": "3704cb16-334a-45c8-e076-6dd335a42571"
      },
      "source": [
        "!pip install transformers\n",
        "!pip install torch"
      ],
      "execution_count": 19,
      "outputs": [
        {
          "output_type": "stream",
          "text": [
            "Collecting transformers\n",
            "\u001b[?25l  Downloading https://files.pythonhosted.org/packages/d8/b2/57495b5309f09fa501866e225c84532d1fd89536ea62406b2181933fb418/transformers-4.5.1-py3-none-any.whl (2.1MB)\n",
            "\r\u001b[K     |▏                               | 10kB 20.7MB/s eta 0:00:01\r\u001b[K     |▎                               | 20kB 28.1MB/s eta 0:00:01\r\u001b[K     |▌                               | 30kB 32.4MB/s eta 0:00:01\r\u001b[K     |▋                               | 40kB 22.4MB/s eta 0:00:01\r\u001b[K     |▉                               | 51kB 16.4MB/s eta 0:00:01\r\u001b[K     |█                               | 61kB 15.4MB/s eta 0:00:01\r\u001b[K     |█▏                              | 71kB 12.7MB/s eta 0:00:01\r\u001b[K     |█▎                              | 81kB 13.8MB/s eta 0:00:01\r\u001b[K     |█▍                              | 92kB 14.4MB/s eta 0:00:01\r\u001b[K     |█▋                              | 102kB 13.9MB/s eta 0:00:01\r\u001b[K     |█▊                              | 112kB 13.9MB/s eta 0:00:01\r\u001b[K     |██                              | 122kB 13.9MB/s eta 0:00:01\r\u001b[K     |██                              | 133kB 13.9MB/s eta 0:00:01\r\u001b[K     |██▎                             | 143kB 13.9MB/s eta 0:00:01\r\u001b[K     |██▍                             | 153kB 13.9MB/s eta 0:00:01\r\u001b[K     |██▌                             | 163kB 13.9MB/s eta 0:00:01\r\u001b[K     |██▊                             | 174kB 13.9MB/s eta 0:00:01\r\u001b[K     |██▉                             | 184kB 13.9MB/s eta 0:00:01\r\u001b[K     |███                             | 194kB 13.9MB/s eta 0:00:01\r\u001b[K     |███▏                            | 204kB 13.9MB/s eta 0:00:01\r\u001b[K     |███▍                            | 215kB 13.9MB/s eta 0:00:01\r\u001b[K     |███▌                            | 225kB 13.9MB/s eta 0:00:01\r\u001b[K     |███▋                            | 235kB 13.9MB/s eta 0:00:01\r\u001b[K     |███▉                            | 245kB 13.9MB/s eta 0:00:01\r\u001b[K     |████                            | 256kB 13.9MB/s eta 0:00:01\r\u001b[K     |████▏                           | 266kB 13.9MB/s eta 0:00:01\r\u001b[K     |████▎                           | 276kB 13.9MB/s eta 0:00:01\r\u001b[K     |████▌                           | 286kB 13.9MB/s eta 0:00:01\r\u001b[K     |████▋                           | 296kB 13.9MB/s eta 0:00:01\r\u001b[K     |████▊                           | 307kB 13.9MB/s eta 0:00:01\r\u001b[K     |█████                           | 317kB 13.9MB/s eta 0:00:01\r\u001b[K     |█████                           | 327kB 13.9MB/s eta 0:00:01\r\u001b[K     |█████▎                          | 337kB 13.9MB/s eta 0:00:01\r\u001b[K     |█████▍                          | 348kB 13.9MB/s eta 0:00:01\r\u001b[K     |█████▋                          | 358kB 13.9MB/s eta 0:00:01\r\u001b[K     |█████▊                          | 368kB 13.9MB/s eta 0:00:01\r\u001b[K     |█████▉                          | 378kB 13.9MB/s eta 0:00:01\r\u001b[K     |██████                          | 389kB 13.9MB/s eta 0:00:01\r\u001b[K     |██████▏                         | 399kB 13.9MB/s eta 0:00:01\r\u001b[K     |██████▍                         | 409kB 13.9MB/s eta 0:00:01\r\u001b[K     |██████▌                         | 419kB 13.9MB/s eta 0:00:01\r\u001b[K     |██████▊                         | 430kB 13.9MB/s eta 0:00:01\r\u001b[K     |██████▉                         | 440kB 13.9MB/s eta 0:00:01\r\u001b[K     |███████                         | 450kB 13.9MB/s eta 0:00:01\r\u001b[K     |███████▏                        | 460kB 13.9MB/s eta 0:00:01\r\u001b[K     |███████▎                        | 471kB 13.9MB/s eta 0:00:01\r\u001b[K     |███████▌                        | 481kB 13.9MB/s eta 0:00:01\r\u001b[K     |███████▋                        | 491kB 13.9MB/s eta 0:00:01\r\u001b[K     |███████▉                        | 501kB 13.9MB/s eta 0:00:01\r\u001b[K     |████████                        | 512kB 13.9MB/s eta 0:00:01\r\u001b[K     |████████                        | 522kB 13.9MB/s eta 0:00:01\r\u001b[K     |████████▎                       | 532kB 13.9MB/s eta 0:00:01\r\u001b[K     |████████▍                       | 542kB 13.9MB/s eta 0:00:01\r\u001b[K     |████████▋                       | 552kB 13.9MB/s eta 0:00:01\r\u001b[K     |████████▊                       | 563kB 13.9MB/s eta 0:00:01\r\u001b[K     |█████████                       | 573kB 13.9MB/s eta 0:00:01\r\u001b[K     |█████████                       | 583kB 13.9MB/s eta 0:00:01\r\u001b[K     |█████████▎                      | 593kB 13.9MB/s eta 0:00:01\r\u001b[K     |█████████▍                      | 604kB 13.9MB/s eta 0:00:01\r\u001b[K     |█████████▌                      | 614kB 13.9MB/s eta 0:00:01\r\u001b[K     |█████████▊                      | 624kB 13.9MB/s eta 0:00:01\r\u001b[K     |█████████▉                      | 634kB 13.9MB/s eta 0:00:01\r\u001b[K     |██████████                      | 645kB 13.9MB/s eta 0:00:01\r\u001b[K     |██████████▏                     | 655kB 13.9MB/s eta 0:00:01\r\u001b[K     |██████████▍                     | 665kB 13.9MB/s eta 0:00:01\r\u001b[K     |██████████▌                     | 675kB 13.9MB/s eta 0:00:01\r\u001b[K     |██████████▋                     | 686kB 13.9MB/s eta 0:00:01\r\u001b[K     |██████████▉                     | 696kB 13.9MB/s eta 0:00:01\r\u001b[K     |███████████                     | 706kB 13.9MB/s eta 0:00:01\r\u001b[K     |███████████▏                    | 716kB 13.9MB/s eta 0:00:01\r\u001b[K     |███████████▎                    | 727kB 13.9MB/s eta 0:00:01\r\u001b[K     |███████████▌                    | 737kB 13.9MB/s eta 0:00:01\r\u001b[K     |███████████▋                    | 747kB 13.9MB/s eta 0:00:01\r\u001b[K     |███████████▊                    | 757kB 13.9MB/s eta 0:00:01\r\u001b[K     |████████████                    | 768kB 13.9MB/s eta 0:00:01\r\u001b[K     |████████████                    | 778kB 13.9MB/s eta 0:00:01\r\u001b[K     |████████████▎                   | 788kB 13.9MB/s eta 0:00:01\r\u001b[K     |████████████▍                   | 798kB 13.9MB/s eta 0:00:01\r\u001b[K     |████████████▋                   | 808kB 13.9MB/s eta 0:00:01\r\u001b[K     |████████████▊                   | 819kB 13.9MB/s eta 0:00:01\r\u001b[K     |████████████▉                   | 829kB 13.9MB/s eta 0:00:01\r\u001b[K     |█████████████                   | 839kB 13.9MB/s eta 0:00:01\r\u001b[K     |█████████████▏                  | 849kB 13.9MB/s eta 0:00:01\r\u001b[K     |█████████████▍                  | 860kB 13.9MB/s eta 0:00:01\r\u001b[K     |█████████████▌                  | 870kB 13.9MB/s eta 0:00:01\r\u001b[K     |█████████████▊                  | 880kB 13.9MB/s eta 0:00:01\r\u001b[K     |█████████████▉                  | 890kB 13.9MB/s eta 0:00:01\r\u001b[K     |██████████████                  | 901kB 13.9MB/s eta 0:00:01\r\u001b[K     |██████████████▏                 | 911kB 13.9MB/s eta 0:00:01\r\u001b[K     |██████████████▎                 | 921kB 13.9MB/s eta 0:00:01\r\u001b[K     |██████████████▌                 | 931kB 13.9MB/s eta 0:00:01\r\u001b[K     |██████████████▋                 | 942kB 13.9MB/s eta 0:00:01\r\u001b[K     |██████████████▉                 | 952kB 13.9MB/s eta 0:00:01\r\u001b[K     |███████████████                 | 962kB 13.9MB/s eta 0:00:01\r\u001b[K     |███████████████                 | 972kB 13.9MB/s eta 0:00:01\r\u001b[K     |███████████████▎                | 983kB 13.9MB/s eta 0:00:01\r\u001b[K     |███████████████▍                | 993kB 13.9MB/s eta 0:00:01\r\u001b[K     |███████████████▋                | 1.0MB 13.9MB/s eta 0:00:01\r\u001b[K     |███████████████▊                | 1.0MB 13.9MB/s eta 0:00:01\r\u001b[K     |████████████████                | 1.0MB 13.9MB/s eta 0:00:01\r\u001b[K     |████████████████                | 1.0MB 13.9MB/s eta 0:00:01\r\u001b[K     |████████████████▏               | 1.0MB 13.9MB/s eta 0:00:01\r\u001b[K     |████████████████▍               | 1.1MB 13.9MB/s eta 0:00:01\r\u001b[K     |████████████████▌               | 1.1MB 13.9MB/s eta 0:00:01\r\u001b[K     |████████████████▊               | 1.1MB 13.9MB/s eta 0:00:01\r\u001b[K     |████████████████▉               | 1.1MB 13.9MB/s eta 0:00:01\r\u001b[K     |█████████████████               | 1.1MB 13.9MB/s eta 0:00:01\r\u001b[K     |█████████████████▏              | 1.1MB 13.9MB/s eta 0:00:01\r\u001b[K     |█████████████████▍              | 1.1MB 13.9MB/s eta 0:00:01\r\u001b[K     |█████████████████▌              | 1.1MB 13.9MB/s eta 0:00:01\r\u001b[K     |█████████████████▋              | 1.1MB 13.9MB/s eta 0:00:01\r\u001b[K     |█████████████████▉              | 1.1MB 13.9MB/s eta 0:00:01\r\u001b[K     |██████████████████              | 1.2MB 13.9MB/s eta 0:00:01\r\u001b[K     |██████████████████▏             | 1.2MB 13.9MB/s eta 0:00:01\r\u001b[K     |██████████████████▎             | 1.2MB 13.9MB/s eta 0:00:01\r\u001b[K     |██████████████████▌             | 1.2MB 13.9MB/s eta 0:00:01\r\u001b[K     |██████████████████▋             | 1.2MB 13.9MB/s eta 0:00:01\r\u001b[K     |██████████████████▊             | 1.2MB 13.9MB/s eta 0:00:01\r\u001b[K     |███████████████████             | 1.2MB 13.9MB/s eta 0:00:01\r\u001b[K     |███████████████████             | 1.2MB 13.9MB/s eta 0:00:01\r\u001b[K     |███████████████████▎            | 1.2MB 13.9MB/s eta 0:00:01\r\u001b[K     |███████████████████▍            | 1.2MB 13.9MB/s eta 0:00:01\r\u001b[K     |███████████████████▋            | 1.3MB 13.9MB/s eta 0:00:01\r\u001b[K     |███████████████████▊            | 1.3MB 13.9MB/s eta 0:00:01\r\u001b[K     |███████████████████▉            | 1.3MB 13.9MB/s eta 0:00:01\r\u001b[K     |████████████████████            | 1.3MB 13.9MB/s eta 0:00:01\r\u001b[K     |████████████████████▏           | 1.3MB 13.9MB/s eta 0:00:01\r\u001b[K     |████████████████████▍           | 1.3MB 13.9MB/s eta 0:00:01\r\u001b[K     |████████████████████▌           | 1.3MB 13.9MB/s eta 0:00:01\r\u001b[K     |████████████████████▊           | 1.3MB 13.9MB/s eta 0:00:01\r\u001b[K     |████████████████████▉           | 1.3MB 13.9MB/s eta 0:00:01\r\u001b[K     |█████████████████████           | 1.4MB 13.9MB/s eta 0:00:01\r\u001b[K     |█████████████████████▏          | 1.4MB 13.9MB/s eta 0:00:01\r\u001b[K     |█████████████████████▎          | 1.4MB 13.9MB/s eta 0:00:01\r\u001b[K     |█████████████████████▌          | 1.4MB 13.9MB/s eta 0:00:01\r\u001b[K     |█████████████████████▋          | 1.4MB 13.9MB/s eta 0:00:01\r\u001b[K     |█████████████████████▉          | 1.4MB 13.9MB/s eta 0:00:01\r\u001b[K     |██████████████████████          | 1.4MB 13.9MB/s eta 0:00:01\r\u001b[K     |██████████████████████          | 1.4MB 13.9MB/s eta 0:00:01\r\u001b[K     |██████████████████████▎         | 1.4MB 13.9MB/s eta 0:00:01\r\u001b[K     |██████████████████████▍         | 1.4MB 13.9MB/s eta 0:00:01\r\u001b[K     |██████████████████████▋         | 1.5MB 13.9MB/s eta 0:00:01\r\u001b[K     |██████████████████████▊         | 1.5MB 13.9MB/s eta 0:00:01\r\u001b[K     |███████████████████████         | 1.5MB 13.9MB/s eta 0:00:01\r\u001b[K     |███████████████████████         | 1.5MB 13.9MB/s eta 0:00:01\r\u001b[K     |███████████████████████▏        | 1.5MB 13.9MB/s eta 0:00:01\r\u001b[K     |███████████████████████▍        | 1.5MB 13.9MB/s eta 0:00:01\r\u001b[K     |███████████████████████▌        | 1.5MB 13.9MB/s eta 0:00:01\r\u001b[K     |███████████████████████▊        | 1.5MB 13.9MB/s eta 0:00:01\r\u001b[K     |███████████████████████▉        | 1.5MB 13.9MB/s eta 0:00:01\r\u001b[K     |████████████████████████        | 1.5MB 13.9MB/s eta 0:00:01\r\u001b[K     |████████████████████████▏       | 1.6MB 13.9MB/s eta 0:00:01\r\u001b[K     |████████████████████████▎       | 1.6MB 13.9MB/s eta 0:00:01\r\u001b[K     |████████████████████████▌       | 1.6MB 13.9MB/s eta 0:00:01\r\u001b[K     |████████████████████████▋       | 1.6MB 13.9MB/s eta 0:00:01\r\u001b[K     |████████████████████████▉       | 1.6MB 13.9MB/s eta 0:00:01\r\u001b[K     |█████████████████████████       | 1.6MB 13.9MB/s eta 0:00:01\r\u001b[K     |█████████████████████████▏      | 1.6MB 13.9MB/s eta 0:00:01\r\u001b[K     |█████████████████████████▎      | 1.6MB 13.9MB/s eta 0:00:01\r\u001b[K     |█████████████████████████▍      | 1.6MB 13.9MB/s eta 0:00:01\r\u001b[K     |█████████████████████████▋      | 1.6MB 13.9MB/s eta 0:00:01\r\u001b[K     |█████████████████████████▊      | 1.7MB 13.9MB/s eta 0:00:01\r\u001b[K     |██████████████████████████      | 1.7MB 13.9MB/s eta 0:00:01\r\u001b[K     |██████████████████████████      | 1.7MB 13.9MB/s eta 0:00:01\r\u001b[K     |██████████████████████████▎     | 1.7MB 13.9MB/s eta 0:00:01\r\u001b[K     |██████████████████████████▍     | 1.7MB 13.9MB/s eta 0:00:01\r\u001b[K     |██████████████████████████▋     | 1.7MB 13.9MB/s eta 0:00:01\r\u001b[K     |██████████████████████████▊     | 1.7MB 13.9MB/s eta 0:00:01\r\u001b[K     |██████████████████████████▉     | 1.7MB 13.9MB/s eta 0:00:01\r\u001b[K     |███████████████████████████     | 1.7MB 13.9MB/s eta 0:00:01\r\u001b[K     |███████████████████████████▏    | 1.8MB 13.9MB/s eta 0:00:01\r\u001b[K     |███████████████████████████▍    | 1.8MB 13.9MB/s eta 0:00:01\r\u001b[K     |███████████████████████████▌    | 1.8MB 13.9MB/s eta 0:00:01\r\u001b[K     |███████████████████████████▊    | 1.8MB 13.9MB/s eta 0:00:01\r\u001b[K     |███████████████████████████▉    | 1.8MB 13.9MB/s eta 0:00:01\r\u001b[K     |████████████████████████████    | 1.8MB 13.9MB/s eta 0:00:01\r\u001b[K     |████████████████████████████▏   | 1.8MB 13.9MB/s eta 0:00:01\r\u001b[K     |████████████████████████████▎   | 1.8MB 13.9MB/s eta 0:00:01\r\u001b[K     |████████████████████████████▌   | 1.8MB 13.9MB/s eta 0:00:01\r\u001b[K     |████████████████████████████▋   | 1.8MB 13.9MB/s eta 0:00:01\r\u001b[K     |████████████████████████████▉   | 1.9MB 13.9MB/s eta 0:00:01\r\u001b[K     |█████████████████████████████   | 1.9MB 13.9MB/s eta 0:00:01\r\u001b[K     |█████████████████████████████   | 1.9MB 13.9MB/s eta 0:00:01\r\u001b[K     |█████████████████████████████▎  | 1.9MB 13.9MB/s eta 0:00:01\r\u001b[K     |█████████████████████████████▍  | 1.9MB 13.9MB/s eta 0:00:01\r\u001b[K     |█████████████████████████████▋  | 1.9MB 13.9MB/s eta 0:00:01\r\u001b[K     |█████████████████████████████▊  | 1.9MB 13.9MB/s eta 0:00:01\r\u001b[K     |██████████████████████████████  | 1.9MB 13.9MB/s eta 0:00:01\r\u001b[K     |██████████████████████████████  | 1.9MB 13.9MB/s eta 0:00:01\r\u001b[K     |██████████████████████████████▏ | 1.9MB 13.9MB/s eta 0:00:01\r\u001b[K     |██████████████████████████████▍ | 2.0MB 13.9MB/s eta 0:00:01\r\u001b[K     |██████████████████████████████▌ | 2.0MB 13.9MB/s eta 0:00:01\r\u001b[K     |██████████████████████████████▊ | 2.0MB 13.9MB/s eta 0:00:01\r\u001b[K     |██████████████████████████████▉ | 2.0MB 13.9MB/s eta 0:00:01\r\u001b[K     |███████████████████████████████ | 2.0MB 13.9MB/s eta 0:00:01\r\u001b[K     |███████████████████████████████▏| 2.0MB 13.9MB/s eta 0:00:01\r\u001b[K     |███████████████████████████████▎| 2.0MB 13.9MB/s eta 0:00:01\r\u001b[K     |███████████████████████████████▌| 2.0MB 13.9MB/s eta 0:00:01\r\u001b[K     |███████████████████████████████▋| 2.0MB 13.9MB/s eta 0:00:01\r\u001b[K     |███████████████████████████████▉| 2.0MB 13.9MB/s eta 0:00:01\r\u001b[K     |████████████████████████████████| 2.1MB 13.9MB/s eta 0:00:01\r\u001b[K     |████████████████████████████████| 2.1MB 13.9MB/s \n",
            "\u001b[?25hRequirement already satisfied: requests in /usr/local/lib/python3.7/dist-packages (from transformers) (2.23.0)\n",
            "Requirement already satisfied: regex!=2019.12.17 in /usr/local/lib/python3.7/dist-packages (from transformers) (2019.12.20)\n",
            "Requirement already satisfied: tqdm>=4.27 in /usr/local/lib/python3.7/dist-packages (from transformers) (4.41.1)\n",
            "Requirement already satisfied: importlib-metadata; python_version < \"3.8\" in /usr/local/lib/python3.7/dist-packages (from transformers) (3.10.1)\n",
            "Requirement already satisfied: packaging in /usr/local/lib/python3.7/dist-packages (from transformers) (20.9)\n",
            "Requirement already satisfied: numpy>=1.17 in /usr/local/lib/python3.7/dist-packages (from transformers) (1.19.5)\n",
            "Collecting tokenizers<0.11,>=0.10.1\n",
            "\u001b[?25l  Downloading https://files.pythonhosted.org/packages/ae/04/5b870f26a858552025a62f1649c20d29d2672c02ff3c3fb4c688ca46467a/tokenizers-0.10.2-cp37-cp37m-manylinux2010_x86_64.whl (3.3MB)\n",
            "\u001b[K     |████████████████████████████████| 3.3MB 56.5MB/s \n",
            "\u001b[?25hRequirement already satisfied: filelock in /usr/local/lib/python3.7/dist-packages (from transformers) (3.0.12)\n",
            "Collecting sacremoses\n",
            "\u001b[?25l  Downloading https://files.pythonhosted.org/packages/75/ee/67241dc87f266093c533a2d4d3d69438e57d7a90abb216fa076e7d475d4a/sacremoses-0.0.45-py3-none-any.whl (895kB)\n",
            "\u001b[K     |████████████████████████████████| 901kB 49.6MB/s \n",
            "\u001b[?25hRequirement already satisfied: chardet<4,>=3.0.2 in /usr/local/lib/python3.7/dist-packages (from requests->transformers) (3.0.4)\n",
            "Requirement already satisfied: urllib3!=1.25.0,!=1.25.1,<1.26,>=1.21.1 in /usr/local/lib/python3.7/dist-packages (from requests->transformers) (1.24.3)\n",
            "Requirement already satisfied: certifi>=2017.4.17 in /usr/local/lib/python3.7/dist-packages (from requests->transformers) (2020.12.5)\n",
            "Requirement already satisfied: idna<3,>=2.5 in /usr/local/lib/python3.7/dist-packages (from requests->transformers) (2.10)\n",
            "Requirement already satisfied: typing-extensions>=3.6.4; python_version < \"3.8\" in /usr/local/lib/python3.7/dist-packages (from importlib-metadata; python_version < \"3.8\"->transformers) (3.7.4.3)\n",
            "Requirement already satisfied: zipp>=0.5 in /usr/local/lib/python3.7/dist-packages (from importlib-metadata; python_version < \"3.8\"->transformers) (3.4.1)\n",
            "Requirement already satisfied: pyparsing>=2.0.2 in /usr/local/lib/python3.7/dist-packages (from packaging->transformers) (2.4.7)\n",
            "Requirement already satisfied: joblib in /usr/local/lib/python3.7/dist-packages (from sacremoses->transformers) (1.0.1)\n",
            "Requirement already satisfied: six in /usr/local/lib/python3.7/dist-packages (from sacremoses->transformers) (1.15.0)\n",
            "Requirement already satisfied: click in /usr/local/lib/python3.7/dist-packages (from sacremoses->transformers) (7.1.2)\n",
            "Installing collected packages: tokenizers, sacremoses, transformers\n",
            "Successfully installed sacremoses-0.0.45 tokenizers-0.10.2 transformers-4.5.1\n",
            "Requirement already satisfied: torch in /usr/local/lib/python3.7/dist-packages (1.8.1+cu101)\n",
            "Requirement already satisfied: numpy in /usr/local/lib/python3.7/dist-packages (from torch) (1.19.5)\n",
            "Requirement already satisfied: typing-extensions in /usr/local/lib/python3.7/dist-packages (from torch) (3.7.4.3)\n"
          ],
          "name": "stdout"
        }
      ]
    },
    {
      "cell_type": "code",
      "metadata": {
        "colab": {
          "base_uri": "https://localhost:8080/",
          "height": 35
        },
        "id": "JbKe4ZBwLFGw",
        "outputId": "668b9b64-ca6a-492b-d9cc-d163ec38ea90"
      },
      "source": [
        "import torch\n",
        "from torch.utils.data import TensorDataset, DataLoader, RandomSampler, SequentialSampler\n",
        "from transformers import BertTokenizer, BertConfig\n",
        "\n",
        "from keras.preprocessing.sequence import pad_sequences\n",
        "from sklearn.model_selection import train_test_split\n",
        "\n",
        "torch.__version__"
      ],
      "execution_count": 20,
      "outputs": [
        {
          "output_type": "execute_result",
          "data": {
            "application/vnd.google.colaboratory.intrinsic+json": {
              "type": "string"
            },
            "text/plain": [
              "'1.8.1+cu101'"
            ]
          },
          "metadata": {
            "tags": []
          },
          "execution_count": 20
        }
      ]
    },
    {
      "cell_type": "code",
      "metadata": {
        "colab": {
          "base_uri": "https://localhost:8080/",
          "height": 35
        },
        "id": "RHTwRuquLVt4",
        "outputId": "87750bb0-bd39-4508-bb15-7990e89e1c50"
      },
      "source": [
        "device = torch.device(\"cuda\" if torch.cuda.is_available() else \"cpu\")\n",
        "n_gpu = torch.cuda.device_count()\n",
        "torch.cuda.get_device_name(0)"
      ],
      "execution_count": 21,
      "outputs": [
        {
          "output_type": "execute_result",
          "data": {
            "application/vnd.google.colaboratory.intrinsic+json": {
              "type": "string"
            },
            "text/plain": [
              "'Tesla V100-SXM2-16GB'"
            ]
          },
          "metadata": {
            "tags": []
          },
          "execution_count": 21
        }
      ]
    },
    {
      "cell_type": "markdown",
      "metadata": {
        "id": "VBP0R0ynDEAk"
      },
      "source": [
        "The next step is tokenize the sentences, get their input IDs from BERT, and tensorize them for training."
      ]
    },
    {
      "cell_type": "code",
      "metadata": {
        "id": "VcnShjpgLnLA",
        "colab": {
          "base_uri": "https://localhost:8080/",
          "height": 164,
          "referenced_widgets": [
            "13d18e82513d4cd59e195abff431403e",
            "ad57bfe81fa6419b98a16b419c3b4c73",
            "bc44bbfa69864265b87330e919307b82",
            "acd233540f5f4d64884e5c6be1d30a1f",
            "20672685d4a046e89cd0398474c6906a",
            "eb01b1d6cabc48199243dfcc4da62e52",
            "88377086f84e4249ad8384d66033cf8f",
            "4e9cfba04d91496eaf6ffc330149ac9d",
            "139f30d229f1435ca12050871461821e",
            "542978d1de2948c2a06d76a2434f7b62",
            "cf860b3c156a4d8b900689a31d09965b",
            "0f109a87a29745f396a2550ba6ae61c4",
            "7f7b3181b1d64862bb68531c840001fa",
            "f1444b398bbc4c5c852da216fdf022a7",
            "f8ef3fdfdd4e4e33b3a085a003403b92",
            "c337ba0f14e34ab482ddfb3c6639c3cc",
            "d5a6a8635deb448fad822411cd146591",
            "67dc875a62cc44cfa59fde2887f01402",
            "03a8b433b78f4f33ab215cff1e202258",
            "58428b44654a472ead7ff010083a2988",
            "98f0fbd6f1c74ed99f7d60f29191245c",
            "2274f58974b2444694a98bf60147fd7a",
            "91d6703d51494b2e81a4f73ad10c6c45",
            "3724bc861d844658b1ddff7bcec11709"
          ]
        },
        "outputId": "96ff94af-cbf7-4572-84da-e7ae851f4bf1"
      },
      "source": [
        "tokenizer = BertTokenizer.from_pretrained('bert-base-cased', do_lower_case=False)"
      ],
      "execution_count": 22,
      "outputs": [
        {
          "output_type": "display_data",
          "data": {
            "application/vnd.jupyter.widget-view+json": {
              "model_id": "13d18e82513d4cd59e195abff431403e",
              "version_minor": 0,
              "version_major": 2
            },
            "text/plain": [
              "HBox(children=(FloatProgress(value=0.0, description='Downloading', max=213450.0, style=ProgressStyle(descripti…"
            ]
          },
          "metadata": {
            "tags": []
          }
        },
        {
          "output_type": "stream",
          "text": [
            "\n"
          ],
          "name": "stdout"
        },
        {
          "output_type": "display_data",
          "data": {
            "application/vnd.jupyter.widget-view+json": {
              "model_id": "139f30d229f1435ca12050871461821e",
              "version_minor": 0,
              "version_major": 2
            },
            "text/plain": [
              "HBox(children=(FloatProgress(value=0.0, description='Downloading', max=29.0, style=ProgressStyle(description_w…"
            ]
          },
          "metadata": {
            "tags": []
          }
        },
        {
          "output_type": "stream",
          "text": [
            "\n"
          ],
          "name": "stdout"
        },
        {
          "output_type": "display_data",
          "data": {
            "application/vnd.jupyter.widget-view+json": {
              "model_id": "d5a6a8635deb448fad822411cd146591",
              "version_minor": 0,
              "version_major": 2
            },
            "text/plain": [
              "HBox(children=(FloatProgress(value=0.0, description='Downloading', max=435797.0, style=ProgressStyle(descripti…"
            ]
          },
          "metadata": {
            "tags": []
          }
        },
        {
          "output_type": "stream",
          "text": [
            "\n"
          ],
          "name": "stdout"
        }
      ]
    },
    {
      "cell_type": "code",
      "metadata": {
        "id": "GO_meqzP1bYx"
      },
      "source": [
        "def tokenize_with_labels(sentence, text_labels):\n",
        "    tokenized_sentence = []\n",
        "    labels = []\n",
        "\n",
        "    for word, label in zip(sentence, text_labels):\n",
        "        tokenized_word = tokenizer.tokenize(word)\n",
        "        n_subwords = len(tokenized_word)\n",
        "        tokenized_sentence.extend(tokenized_word)\n",
        "        labels.extend([label] * n_subwords)\n",
        "\n",
        "    return tokenized_sentence, labels"
      ],
      "execution_count": 23,
      "outputs": []
    },
    {
      "cell_type": "code",
      "metadata": {
        "id": "9zOMXhTWBPTp"
      },
      "source": [
        "tokenized_texts_and_labels = [tokenize_with_labels(sent, labs) for sent, labs in zip(sents, labels)]"
      ],
      "execution_count": 24,
      "outputs": []
    },
    {
      "cell_type": "code",
      "metadata": {
        "id": "0xRMBKa3BqpZ"
      },
      "source": [
        "tokenized_texts = [token_label_pair[0] for token_label_pair in tokenized_texts_and_labels]\n",
        "labels = [token_label_pair[1] for token_label_pair in tokenized_texts_and_labels]"
      ],
      "execution_count": 25,
      "outputs": []
    },
    {
      "cell_type": "markdown",
      "metadata": {
        "id": "eMkG9iT3CTkm"
      },
      "source": [
        "The ```MAX_LEN``` hyperparameter was set to the maximum length instance."
      ]
    },
    {
      "cell_type": "code",
      "metadata": {
        "id": "6nJUtf_SLP1e",
        "colab": {
          "base_uri": "https://localhost:8080/"
        },
        "outputId": "0ae111d4-4a8b-4989-cdd6-ecb02191a7c9"
      },
      "source": [
        "MAX_LEN = max(map(len, tokenized_texts))\n",
        "BATCH_SIZE = 32\n",
        "print(\"MAX_LEN:\",MAX_LEN)"
      ],
      "execution_count": 26,
      "outputs": [
        {
          "output_type": "stream",
          "text": [
            "MAX_LEN: 154\n"
          ],
          "name": "stdout"
        }
      ]
    },
    {
      "cell_type": "code",
      "metadata": {
        "id": "llX95hrZBxUA"
      },
      "source": [
        "input_ids = pad_sequences([tokenizer.convert_tokens_to_ids(txt) for txt in tokenized_texts],\n",
        "                          maxlen=MAX_LEN, dtype=\"long\", value=0.0,\n",
        "                          truncating=\"post\", padding=\"post\")"
      ],
      "execution_count": 27,
      "outputs": []
    },
    {
      "cell_type": "code",
      "metadata": {
        "id": "8xyx6SrFB3YG"
      },
      "source": [
        "tags = pad_sequences([[tag2idx.get(l) for l in lab] for lab in labels],\n",
        "                     maxlen=MAX_LEN, value=tag2idx[\"PAD\"], padding=\"post\",\n",
        "                     dtype=\"long\", truncating=\"post\")"
      ],
      "execution_count": 28,
      "outputs": []
    },
    {
      "cell_type": "code",
      "metadata": {
        "id": "Fl4a3NmiB5uy"
      },
      "source": [
        "attention_masks = [[float(i != 0.0) for i in ii] for ii in input_ids]"
      ],
      "execution_count": 29,
      "outputs": []
    },
    {
      "cell_type": "code",
      "metadata": {
        "id": "jlRsLmscB8Lt"
      },
      "source": [
        "tr_inputs, val_inputs, tr_tags, val_tags = train_test_split(input_ids, tags,\n",
        "                                                            random_state=2018, test_size=0.1)\n",
        "tr_masks, val_masks, _, _ = train_test_split(attention_masks, input_ids,\n",
        "                                             random_state=2018, test_size=0.1)"
      ],
      "execution_count": 30,
      "outputs": []
    },
    {
      "cell_type": "code",
      "metadata": {
        "id": "vEZZ7LDhB_fT"
      },
      "source": [
        "tr_inputs = torch.tensor(tr_inputs)\n",
        "val_inputs = torch.tensor(val_inputs)\n",
        "tr_tags = torch.tensor(tr_tags)\n",
        "val_tags = torch.tensor(val_tags)\n",
        "tr_masks = torch.tensor(tr_masks)\n",
        "val_masks = torch.tensor(val_masks)"
      ],
      "execution_count": 31,
      "outputs": []
    },
    {
      "cell_type": "code",
      "metadata": {
        "id": "Rr8QJQxoCC5k"
      },
      "source": [
        "train_data = TensorDataset(tr_inputs, tr_masks, tr_tags)\n",
        "train_sampler = RandomSampler(train_data)\n",
        "train_dataloader = DataLoader(train_data, sampler=train_sampler, batch_size=BATCH_SIZE)\n",
        "\n",
        "valid_data = TensorDataset(val_inputs, val_masks, val_tags)\n",
        "valid_sampler = SequentialSampler(valid_data)\n",
        "valid_dataloader = DataLoader(valid_data, sampler=valid_sampler, batch_size=BATCH_SIZE)"
      ],
      "execution_count": 32,
      "outputs": []
    },
    {
      "cell_type": "code",
      "metadata": {
        "colab": {
          "base_uri": "https://localhost:8080/",
          "height": 35
        },
        "id": "O3pSx7aHCJTg",
        "outputId": "f591275a-e209-4cfd-c88e-6fba2f9dd962"
      },
      "source": [
        "import transformers\n",
        "from transformers import BertForTokenClassification, AdamW\n",
        "\n",
        "transformers.__version__"
      ],
      "execution_count": 33,
      "outputs": [
        {
          "output_type": "execute_result",
          "data": {
            "application/vnd.google.colaboratory.intrinsic+json": {
              "type": "string"
            },
            "text/plain": [
              "'4.5.1'"
            ]
          },
          "metadata": {
            "tags": []
          },
          "execution_count": 33
        }
      ]
    },
    {
      "cell_type": "markdown",
      "metadata": {
        "id": "MVgoRB7EDRGc"
      },
      "source": [
        "Create our instance of the PyTorch pretrained BERT model for set up for token classification. \n",
        "\n",
        "We will also make sure it runs on our GPU."
      ]
    },
    {
      "cell_type": "code",
      "metadata": {
        "colab": {
          "base_uri": "https://localhost:8080/",
          "height": 220,
          "referenced_widgets": [
            "6f2e590488ac46339cb42c84a767e478",
            "53c9b53b4f904a34b4f2def8e1faaa8b",
            "301e4aa71eb346689ce32e816d5861f6",
            "649e46dd32914b16a1bd646fbb97328d",
            "0ee8567e8e2e432590304a3b85116f52",
            "2c681c701f6d49b9a49cbf41960bae82",
            "05e6e74efd664884a1c219575fe7331f",
            "488784fbb21640008e8a04fe3b0caea0",
            "b8d164601fe5402f9faf87b82ffdaafe",
            "723d0fdd86464037a6b30df8c2484af4",
            "2584fc0e25ef4d13a8497211815aa20f",
            "8728d8b49c25421daec66eb69e6493d7",
            "bf37349a95a04ac8a14b660490b1157e",
            "99d3f4d8f40b4123aeeaf5fccb2bee00",
            "99611b44fbfb4780b94790238f8641d9",
            "ce7a334513f844c982fe0d2b02c97fda"
          ]
        },
        "id": "iwINCHZ3CMfT",
        "outputId": "a83054bc-e0a2-4467-e4a5-2323eb91ede5"
      },
      "source": [
        "model = BertForTokenClassification.from_pretrained(\n",
        "    \"bert-base-cased\",\n",
        "    num_labels=len(tag2idx),\n",
        "    output_attentions = False,\n",
        "    output_hidden_states = False\n",
        ")"
      ],
      "execution_count": 34,
      "outputs": [
        {
          "output_type": "display_data",
          "data": {
            "application/vnd.jupyter.widget-view+json": {
              "model_id": "6f2e590488ac46339cb42c84a767e478",
              "version_minor": 0,
              "version_major": 2
            },
            "text/plain": [
              "HBox(children=(FloatProgress(value=0.0, description='Downloading', max=433.0, style=ProgressStyle(description_…"
            ]
          },
          "metadata": {
            "tags": []
          }
        },
        {
          "output_type": "stream",
          "text": [
            "\n"
          ],
          "name": "stdout"
        },
        {
          "output_type": "display_data",
          "data": {
            "application/vnd.jupyter.widget-view+json": {
              "model_id": "b8d164601fe5402f9faf87b82ffdaafe",
              "version_minor": 0,
              "version_major": 2
            },
            "text/plain": [
              "HBox(children=(FloatProgress(value=0.0, description='Downloading', max=435779157.0, style=ProgressStyle(descri…"
            ]
          },
          "metadata": {
            "tags": []
          }
        },
        {
          "output_type": "stream",
          "text": [
            "\n"
          ],
          "name": "stdout"
        },
        {
          "output_type": "stream",
          "text": [
            "Some weights of the model checkpoint at bert-base-cased were not used when initializing BertForTokenClassification: ['cls.predictions.bias', 'cls.predictions.transform.dense.weight', 'cls.predictions.transform.dense.bias', 'cls.predictions.decoder.weight', 'cls.seq_relationship.weight', 'cls.seq_relationship.bias', 'cls.predictions.transform.LayerNorm.weight', 'cls.predictions.transform.LayerNorm.bias']\n",
            "- This IS expected if you are initializing BertForTokenClassification from the checkpoint of a model trained on another task or with another architecture (e.g. initializing a BertForSequenceClassification model from a BertForPreTraining model).\n",
            "- This IS NOT expected if you are initializing BertForTokenClassification from the checkpoint of a model that you expect to be exactly identical (initializing a BertForSequenceClassification model from a BertForSequenceClassification model).\n",
            "Some weights of BertForTokenClassification were not initialized from the model checkpoint at bert-base-cased and are newly initialized: ['classifier.weight', 'classifier.bias']\n",
            "You should probably TRAIN this model on a down-stream task to be able to use it for predictions and inference.\n"
          ],
          "name": "stderr"
        }
      ]
    },
    {
      "cell_type": "code",
      "metadata": {
        "id": "qB5fREEjC7aT"
      },
      "source": [
        "model.cuda();"
      ],
      "execution_count": 35,
      "outputs": []
    },
    {
      "cell_type": "markdown",
      "metadata": {
        "id": "E-LI7r1LDdvC"
      },
      "source": [
        "Set parameters for fine-tuning, then train the model."
      ]
    },
    {
      "cell_type": "code",
      "metadata": {
        "id": "Py24O6EcCvfX"
      },
      "source": [
        "FULL_FINETUNING = True\n",
        "if FULL_FINETUNING:\n",
        "    param_optimizer = list(model.named_parameters())\n",
        "    no_decay = ['bias', 'gamma', 'beta']\n",
        "    optimizer_grouped_parameters = [\n",
        "        {'params': [p for n, p in param_optimizer if not any(nd in n for nd in no_decay)],\n",
        "         'weight_decay_rate': 0.01},\n",
        "        {'params': [p for n, p in param_optimizer if any(nd in n for nd in no_decay)],\n",
        "         'weight_decay_rate': 0.0}\n",
        "    ]\n",
        "else:\n",
        "    param_optimizer = list(model.classifier.named_parameters())\n",
        "    optimizer_grouped_parameters = [{\"params\": [p for n, p in param_optimizer]}]\n",
        "\n",
        "optimizer = AdamW(\n",
        "    optimizer_grouped_parameters,\n",
        "    lr=3e-5,\n",
        "    eps=1e-8\n",
        ")"
      ],
      "execution_count": 36,
      "outputs": []
    },
    {
      "cell_type": "code",
      "metadata": {
        "id": "U17hAShPm6z_"
      },
      "source": [
        "from transformers import get_linear_schedule_with_warmup\n",
        "\n",
        "EPOCHS = 3\n",
        "max_grad_norm = 1.0\n",
        "\n",
        "# Total number of training steps is number of batches * number of epochs.\n",
        "total_steps = len(train_dataloader) * EPOCHS\n",
        "\n",
        "# Create the learning rate scheduler.\n",
        "scheduler = get_linear_schedule_with_warmup(\n",
        "    optimizer,\n",
        "    num_warmup_steps=0,\n",
        "    num_training_steps=total_steps\n",
        ")"
      ],
      "execution_count": 37,
      "outputs": []
    },
    {
      "cell_type": "code",
      "metadata": {
        "colab": {
          "base_uri": "https://localhost:8080/"
        },
        "id": "rviLyViGnA3y",
        "outputId": "20a9ae84-a356-47b6-91c2-f899d4ea8307"
      },
      "source": [
        "!pip install seqeval\n",
        "from seqeval.metrics import f1_score, accuracy_score"
      ],
      "execution_count": 38,
      "outputs": [
        {
          "output_type": "stream",
          "text": [
            "Collecting seqeval\n",
            "\u001b[?25l  Downloading https://files.pythonhosted.org/packages/9d/2d/233c79d5b4e5ab1dbf111242299153f3caddddbb691219f363ad55ce783d/seqeval-1.2.2.tar.gz (43kB)\n",
            "\r\u001b[K     |███████▌                        | 10kB 17.6MB/s eta 0:00:01\r\u001b[K     |███████████████                 | 20kB 25.0MB/s eta 0:00:01\r\u001b[K     |██████████████████████▌         | 30kB 26.1MB/s eta 0:00:01\r\u001b[K     |██████████████████████████████  | 40kB 18.8MB/s eta 0:00:01\r\u001b[K     |████████████████████████████████| 51kB 5.8MB/s \n",
            "\u001b[?25hRequirement already satisfied: numpy>=1.14.0 in /usr/local/lib/python3.7/dist-packages (from seqeval) (1.19.5)\n",
            "Requirement already satisfied: scikit-learn>=0.21.3 in /usr/local/lib/python3.7/dist-packages (from seqeval) (0.22.2.post1)\n",
            "Requirement already satisfied: joblib>=0.11 in /usr/local/lib/python3.7/dist-packages (from scikit-learn>=0.21.3->seqeval) (1.0.1)\n",
            "Requirement already satisfied: scipy>=0.17.0 in /usr/local/lib/python3.7/dist-packages (from scikit-learn>=0.21.3->seqeval) (1.4.1)\n",
            "Building wheels for collected packages: seqeval\n",
            "  Building wheel for seqeval (setup.py) ... \u001b[?25l\u001b[?25hdone\n",
            "  Created wheel for seqeval: filename=seqeval-1.2.2-cp37-none-any.whl size=16172 sha256=867a4f5004a104cac4a2b6500e326c53e8621879ee6da23a80d2fba708eef018\n",
            "  Stored in directory: /root/.cache/pip/wheels/52/df/1b/45d75646c37428f7e626214704a0e35bd3cfc32eda37e59e5f\n",
            "Successfully built seqeval\n",
            "Installing collected packages: seqeval\n",
            "Successfully installed seqeval-1.2.2\n"
          ],
          "name": "stdout"
        }
      ]
    },
    {
      "cell_type": "code",
      "metadata": {
        "colab": {
          "base_uri": "https://localhost:8080/"
        },
        "id": "VrxDxTN5nDJ9",
        "outputId": "ee8beb68-38b8-440b-dda8-cb77e7f73724"
      },
      "source": [
        "from tqdm import tqdm, trange\n",
        "\n",
        "## Store the average loss after each epoch so we can plot them.\n",
        "loss_values, validation_loss_values = [], []\n",
        "\n",
        "for _ in trange(EPOCHS, desc=\"Epoch\"):\n",
        "    # ========================================\n",
        "    #               Training\n",
        "    # ========================================\n",
        "    # Perform one full pass over the training set.\n",
        "\n",
        "    # Put the model into training mode.\n",
        "    model.train()\n",
        "    # Reset the total loss for this epoch.\n",
        "    total_loss = 0\n",
        "\n",
        "    # Training loop\n",
        "    for step, batch in enumerate(train_dataloader):\n",
        "        # add batch to gpu\n",
        "        batch = tuple(t.to(device) for t in batch)\n",
        "        b_input_ids, b_input_mask, b_labels = batch\n",
        "        # Always clear any previously calculated gradients before performing a backward pass.\n",
        "        model.zero_grad()\n",
        "        # forward pass\n",
        "        # This will return the loss (rather than the model output)\n",
        "        # because we have provided the `labels`.\n",
        "        outputs = model(b_input_ids, token_type_ids=None,\n",
        "                        attention_mask=b_input_mask, labels=b_labels)\n",
        "        # get the loss\n",
        "        loss = outputs[0]\n",
        "        # Perform a backward pass to calculate the gradients.\n",
        "        loss.backward()\n",
        "        # track train loss\n",
        "        total_loss += loss.item()\n",
        "        # Clip the norm of the gradient\n",
        "        # This is to help prevent the \"exploding gradients\" problem.\n",
        "        torch.nn.utils.clip_grad_norm_(parameters=model.parameters(), max_norm=max_grad_norm)\n",
        "        # update parameters\n",
        "        optimizer.step()\n",
        "        # Update the learning rate.\n",
        "        scheduler.step()\n",
        "\n",
        "    # Calculate the average loss over the training data.\n",
        "    avg_train_loss = total_loss / len(train_dataloader)\n",
        "    print(\"Average train loss: {}\".format(avg_train_loss))\n",
        "\n",
        "    # Store the loss value for plotting the learning curve.\n",
        "    loss_values.append(avg_train_loss)\n",
        "\n",
        "\n",
        "    # ========================================\n",
        "    #               Validation\n",
        "    # ========================================\n",
        "    # After the completion of each training epoch, measure our performance on\n",
        "    # our validation set.\n",
        "\n",
        "    # Put the model into evaluation mode\n",
        "    model.eval()\n",
        "    # Reset the validation loss for this epoch.\n",
        "    eval_loss, eval_accuracy = 0, 0\n",
        "    nb_eval_steps, nb_eval_examples = 0, 0\n",
        "    predictions , true_labels = [], []\n",
        "    for batch in valid_dataloader:\n",
        "        batch = tuple(t.to(device) for t in batch)\n",
        "        b_input_ids, b_input_mask, b_labels = batch\n",
        "\n",
        "        # Telling the model not to compute or store gradients,\n",
        "        # saving memory and speeding up validation\n",
        "        with torch.no_grad():\n",
        "            # Forward pass, calculate logit predictions.\n",
        "            # This will return the logits rather than the loss because we have not provided labels.\n",
        "            outputs = model(b_input_ids, token_type_ids=None,\n",
        "                            attention_mask=b_input_mask, labels=b_labels)\n",
        "        # Move logits and labels to CPU\n",
        "        logits = outputs[1].detach().cpu().numpy()\n",
        "        label_ids = b_labels.to('cpu').numpy()\n",
        "\n",
        "        # Calculate the accuracy for this batch of test sentences.\n",
        "        eval_loss += outputs[0].mean().item()\n",
        "        predictions.extend([list(p) for p in np.argmax(logits, axis=2)])\n",
        "        true_labels.extend(label_ids)\n",
        "\n",
        "    eval_loss = eval_loss / len(valid_dataloader)\n",
        "    validation_loss_values.append(eval_loss)\n",
        "    print(\"Validation loss: {}\".format(eval_loss))\n",
        "    pred_tags = [tag_values[p_i] for p, l in zip(predictions, true_labels)\n",
        "                                 for p_i, l_i in zip(p, l) if tag_values[l_i] != \"PAD\"]\n",
        "    valid_tags = [tag_values[l_i] for l in true_labels\n",
        "                                  for l_i in l if tag_values[l_i] != \"PAD\"]\n",
        "    print(\"Validation Accuracy: {}\".format(accuracy_score(valid_tags, pred_tags)))\n",
        "    print()"
      ],
      "execution_count": 39,
      "outputs": [
        {
          "output_type": "stream",
          "text": [
            "\rEpoch:   0%|          | 0/3 [00:00<?, ?it/s]"
          ],
          "name": "stderr"
        },
        {
          "output_type": "stream",
          "text": [
            "Average train loss: 0.7324836794504396\n"
          ],
          "name": "stdout"
        },
        {
          "output_type": "stream",
          "text": [
            "\rEpoch:  33%|███▎      | 1/3 [01:12<02:24, 72.13s/it]"
          ],
          "name": "stderr"
        },
        {
          "output_type": "stream",
          "text": [
            "Validation loss: 0.37217126581175575\n",
            "Validation Accuracy: 0.8807151979565773\n",
            "\n",
            "Average train loss: 0.3273229164140234\n"
          ],
          "name": "stdout"
        },
        {
          "output_type": "stream",
          "text": [
            "\rEpoch:  67%|██████▋   | 2/3 [02:24<01:12, 72.12s/it]"
          ],
          "name": "stderr"
        },
        {
          "output_type": "stream",
          "text": [
            "Validation loss: 0.2947944464354679\n",
            "Validation Accuracy: 0.9070242656449553\n",
            "\n",
            "Average train loss: 0.23704289876881277\n"
          ],
          "name": "stdout"
        },
        {
          "output_type": "stream",
          "text": [
            "Epoch: 100%|██████████| 3/3 [03:36<00:00, 72.09s/it]"
          ],
          "name": "stderr"
        },
        {
          "output_type": "stream",
          "text": [
            "Validation loss: 0.2795973363621482\n",
            "Validation Accuracy: 0.9159642401021711\n",
            "\n"
          ],
          "name": "stdout"
        },
        {
          "output_type": "stream",
          "text": [
            "\n"
          ],
          "name": "stderr"
        }
      ]
    },
    {
      "cell_type": "markdown",
      "metadata": {
        "id": "0fVc4TzsDlZN"
      },
      "source": [
        "See where the training loss meets the validation loss, and examine the accuracy score, classification report, and confusion matrix of the validation instances."
      ]
    },
    {
      "cell_type": "code",
      "metadata": {
        "colab": {
          "base_uri": "https://localhost:8080/",
          "height": 427
        },
        "id": "GUSZG-KrqP6G",
        "outputId": "683256ca-ab0a-4455-aea1-656128fc96ab"
      },
      "source": [
        "import matplotlib.pyplot as plt\n",
        "%matplotlib inline\n",
        "\n",
        "import seaborn as sns\n",
        "\n",
        "# Use plot styling from seaborn.\n",
        "sns.set(style='darkgrid')\n",
        "\n",
        "# Increase the plot size and font size.\n",
        "sns.set(font_scale=1.5)\n",
        "plt.rcParams[\"figure.figsize\"] = (12,6)\n",
        "\n",
        "# Plot the learning curve.\n",
        "plt.plot(loss_values, 'b-o', label=\"training loss\")\n",
        "plt.plot(validation_loss_values, 'r-o', label=\"validation loss\")\n",
        "\n",
        "# Label the plot.\n",
        "plt.title(\"Learning curve\")\n",
        "plt.xlabel(\"Epoch\")\n",
        "plt.ylabel(\"Loss\")\n",
        "plt.legend()\n",
        "\n",
        "plt.show()"
      ],
      "execution_count": 40,
      "outputs": [
        {
          "output_type": "display_data",
          "data": {
            "image/png": "[encoded data removed]",
            "text/plain": [
              "<Figure size 864x432 with 1 Axes>"
            ]
          },
          "metadata": {
            "tags": []
          }
        }
      ]
    },
    {
      "cell_type": "code",
      "metadata": {
        "colab": {
          "base_uri": "https://localhost:8080/"
        },
        "id": "zfmnG38nrT4c",
        "outputId": "1751ebcd-2671-410e-921e-ebfbc95c65f6"
      },
      "source": [
        "from sklearn.metrics import classification_report\n",
        "print(classification_report(valid_tags, pred_tags))"
      ],
      "execution_count": 41,
      "outputs": [
        {
          "output_type": "stream",
          "text": [
            "              precision    recall  f1-score   support\n",
            "\n",
            "         B-1       0.77      0.86      0.81       183\n",
            "        B-11       0.86      0.77      0.81        57\n",
            "        B-12       0.80      0.80      0.80        30\n",
            "        B-13       0.88      0.86      0.87       124\n",
            "        B-14       0.88      0.73      0.80        67\n",
            "         B-2       0.92      0.66      0.77        35\n",
            "         B-3       0.80      0.89      0.84       226\n",
            "         B-4       0.88      0.80      0.84        86\n",
            "         B-5       0.75      0.67      0.71       107\n",
            "        B-50       0.85      0.87      0.86       549\n",
            "        B-5B       0.80      0.11      0.20        35\n",
            "         B-6       0.83      0.91      0.87        64\n",
            "         B-7       0.76      0.85      0.80       184\n",
            "         I-1       0.85      0.92      0.88       486\n",
            "        I-11       0.74      0.83      0.78       118\n",
            "        I-12       0.90      0.99      0.94       159\n",
            "        I-13       0.89      0.87      0.88       324\n",
            "        I-14       0.82      0.96      0.89       385\n",
            "         I-2       0.90      0.83      0.86       195\n",
            "         I-3       0.90      0.91      0.91       995\n",
            "         I-4       0.81      0.94      0.87       325\n",
            "         I-5       0.77      0.84      0.81       262\n",
            "        I-50       0.90      0.94      0.92      1727\n",
            "        I-5B       0.52      0.76      0.62       142\n",
            "         I-6       0.83      0.94      0.88       102\n",
            "         I-7       0.90      0.90      0.90       534\n",
            "           O       0.96      0.93      0.94     12074\n",
            "\n",
            "    accuracy                           0.92     19575\n",
            "   macro avg       0.83      0.83      0.82     19575\n",
            "weighted avg       0.92      0.92      0.92     19575\n",
            "\n"
          ],
          "name": "stdout"
        }
      ]
    },
    {
      "cell_type": "code",
      "metadata": {
        "colab": {
          "base_uri": "https://localhost:8080/"
        },
        "id": "EQ2-TQTjr1Qd",
        "outputId": "eae65302-feb4-497c-d568-24a543845e6b"
      },
      "source": [
        "from sklearn.metrics import confusion_matrix\n",
        "np.set_printoptions(threshold=50)\n",
        "print(confusion_matrix(valid_tags, pred_tags))"
      ],
      "execution_count": 42,
      "outputs": [
        {
          "output_type": "stream",
          "text": [
            "[[  157     0     0 ...     0     0     9]\n",
            " [    0    44     1 ...     0     0     1]\n",
            " [    0     0    24 ...     0     0     0]\n",
            " ...\n",
            " [    0     0     0 ...    96     0     5]\n",
            " [    0     0     0 ...     0   479    35]\n",
            " [   31     4     5 ...    16    44 11234]]\n"
          ],
          "name": "stdout"
        }
      ]
    },
    {
      "cell_type": "markdown",
      "metadata": {
        "id": "u2cFHCKyD8Yy"
      },
      "source": [
        "Now it's time to evaluate the test data. Like the training dataset, this partition also needs to be cleaned and stripped.\n"
      ]
    },
    {
      "cell_type": "code",
      "metadata": {
        "id": "lcC9nSvQseBK"
      },
      "source": [
        "FILE_NAME = \"EBA1415-CoralBleaching-little-reln-repeat-iob2.csv\""
      ],
      "execution_count": 43,
      "outputs": []
    },
    {
      "cell_type": "code",
      "metadata": {
        "colab": {
          "base_uri": "https://localhost:8080/",
          "height": 824
        },
        "id": "3UFwWiN1seFq",
        "outputId": "07624d81-8c83-4c38-8c57-4dbcc795b5b6"
      },
      "source": [
        "df = pd.read_csv(DATA_PATH + FILE_NAME)\n",
        "df.head(25)"
      ],
      "execution_count": 44,
      "outputs": [
        {
          "output_type": "execute_result",
          "data": {
            "text/html": [
              "<div>\n",
              "<style scoped>\n",
              "    .dataframe tbody tr th:only-of-type {\n",
              "        vertical-align: middle;\n",
              "    }\n",
              "\n",
              "    .dataframe tbody tr th {\n",
              "        vertical-align: top;\n",
              "    }\n",
              "\n",
              "    .dataframe thead th {\n",
              "        text-align: right;\n",
              "    }\n",
              "</style>\n",
              "<table border=\"1\" class=\"dataframe\">\n",
              "  <thead>\n",
              "    <tr style=\"text-align: right;\">\n",
              "      <th></th>\n",
              "      <th>Sentence #</th>\n",
              "      <th>Word</th>\n",
              "      <th>STag</th>\n",
              "      <th>Tag</th>\n",
              "      <th>Relation</th>\n",
              "      <th>File</th>\n",
              "    </tr>\n",
              "  </thead>\n",
              "  <tbody>\n",
              "    <tr>\n",
              "      <th>0</th>\n",
              "      <td>Sentence 1</td>\n",
              "      <td>No</td>\n",
              "      <td>O</td>\n",
              "      <td>O</td>\n",
              "      <td>O</td>\n",
              "      <td>EBA1415_TFBM_2_CB_ES-05548</td>\n",
              "    </tr>\n",
              "    <tr>\n",
              "      <th>1</th>\n",
              "      <td>NaN</td>\n",
              "      <td>essay</td>\n",
              "      <td>O</td>\n",
              "      <td>O</td>\n",
              "      <td>O</td>\n",
              "      <td>NaN</td>\n",
              "    </tr>\n",
              "    <tr>\n",
              "      <th>2</th>\n",
              "      <td>NaN</td>\n",
              "      <td>/</td>\n",
              "      <td>O</td>\n",
              "      <td>O</td>\n",
              "      <td>O</td>\n",
              "      <td>NaN</td>\n",
              "    </tr>\n",
              "    <tr>\n",
              "      <th>3</th>\n",
              "      <td>NaN</td>\n",
              "      <td>/</td>\n",
              "      <td>O</td>\n",
              "      <td>O</td>\n",
              "      <td>O</td>\n",
              "      <td>NaN</td>\n",
              "    </tr>\n",
              "    <tr>\n",
              "      <th>4</th>\n",
              "      <td>Sentence 2</td>\n",
              "      <td>Somethings</td>\n",
              "      <td>O</td>\n",
              "      <td>O</td>\n",
              "      <td>O</td>\n",
              "      <td>EBA1415_TRJA_11_CB_ES-06110</td>\n",
              "    </tr>\n",
              "    <tr>\n",
              "      <th>5</th>\n",
              "      <td>NaN</td>\n",
              "      <td>that</td>\n",
              "      <td>O</td>\n",
              "      <td>O</td>\n",
              "      <td>O</td>\n",
              "      <td>NaN</td>\n",
              "    </tr>\n",
              "    <tr>\n",
              "      <th>6</th>\n",
              "      <td>NaN</td>\n",
              "      <td>lead</td>\n",
              "      <td>O</td>\n",
              "      <td>O</td>\n",
              "      <td>O</td>\n",
              "      <td>NaN</td>\n",
              "    </tr>\n",
              "    <tr>\n",
              "      <th>7</th>\n",
              "      <td>NaN</td>\n",
              "      <td>to</td>\n",
              "      <td>O</td>\n",
              "      <td>O</td>\n",
              "      <td>O</td>\n",
              "      <td>NaN</td>\n",
              "    </tr>\n",
              "    <tr>\n",
              "      <th>8</th>\n",
              "      <td>NaN</td>\n",
              "      <td>the</td>\n",
              "      <td>O</td>\n",
              "      <td>O</td>\n",
              "      <td>O</td>\n",
              "      <td>NaN</td>\n",
              "    </tr>\n",
              "    <tr>\n",
              "      <th>9</th>\n",
              "      <td>NaN</td>\n",
              "      <td>differences</td>\n",
              "      <td>O</td>\n",
              "      <td>O</td>\n",
              "      <td>O</td>\n",
              "      <td>NaN</td>\n",
              "    </tr>\n",
              "    <tr>\n",
              "      <th>10</th>\n",
              "      <td>NaN</td>\n",
              "      <td>are</td>\n",
              "      <td>O</td>\n",
              "      <td>O</td>\n",
              "      <td>O</td>\n",
              "      <td>NaN</td>\n",
              "    </tr>\n",
              "    <tr>\n",
              "      <th>11</th>\n",
              "      <td>NaN</td>\n",
              "      <td>.</td>\n",
              "      <td>O</td>\n",
              "      <td>O</td>\n",
              "      <td>O</td>\n",
              "      <td>NaN</td>\n",
              "    </tr>\n",
              "    <tr>\n",
              "      <th>12</th>\n",
              "      <td>NaN</td>\n",
              "      <td>.</td>\n",
              "      <td>O</td>\n",
              "      <td>O</td>\n",
              "      <td>O</td>\n",
              "      <td>NaN</td>\n",
              "    </tr>\n",
              "    <tr>\n",
              "      <th>13</th>\n",
              "      <td>NaN</td>\n",
              "      <td>it</td>\n",
              "      <td>O</td>\n",
              "      <td>O</td>\n",
              "      <td>O</td>\n",
              "      <td>NaN</td>\n",
              "    </tr>\n",
              "    <tr>\n",
              "      <th>14</th>\n",
              "      <td>NaN</td>\n",
              "      <td>is</td>\n",
              "      <td>O</td>\n",
              "      <td>O</td>\n",
              "      <td>O</td>\n",
              "      <td>NaN</td>\n",
              "    </tr>\n",
              "    <tr>\n",
              "      <th>15</th>\n",
              "      <td>NaN</td>\n",
              "      <td>a</td>\n",
              "      <td>O</td>\n",
              "      <td>O</td>\n",
              "      <td>O</td>\n",
              "      <td>NaN</td>\n",
              "    </tr>\n",
              "    <tr>\n",
              "      <th>16</th>\n",
              "      <td>NaN</td>\n",
              "      <td>problem</td>\n",
              "      <td>O</td>\n",
              "      <td>O</td>\n",
              "      <td>O</td>\n",
              "      <td>NaN</td>\n",
              "    </tr>\n",
              "    <tr>\n",
              "      <th>17</th>\n",
              "      <td>NaN</td>\n",
              "      <td>with</td>\n",
              "      <td>O</td>\n",
              "      <td>O</td>\n",
              "      <td>O</td>\n",
              "      <td>NaN</td>\n",
              "    </tr>\n",
              "    <tr>\n",
              "      <th>18</th>\n",
              "      <td>NaN</td>\n",
              "      <td>serious</td>\n",
              "      <td>O</td>\n",
              "      <td>O</td>\n",
              "      <td>O</td>\n",
              "      <td>NaN</td>\n",
              "    </tr>\n",
              "    <tr>\n",
              "      <th>19</th>\n",
              "      <td>NaN</td>\n",
              "      <td>impacto</td>\n",
              "      <td>O</td>\n",
              "      <td>O</td>\n",
              "      <td>O</td>\n",
              "      <td>NaN</td>\n",
              "    </tr>\n",
              "    <tr>\n",
              "      <th>20</th>\n",
              "      <td>NaN</td>\n",
              "      <td>n</td>\n",
              "      <td>O</td>\n",
              "      <td>O</td>\n",
              "      <td>O</td>\n",
              "      <td>NaN</td>\n",
              "    </tr>\n",
              "    <tr>\n",
              "      <th>21</th>\n",
              "      <td>NaN</td>\n",
              "      <td>the</td>\n",
              "      <td>O</td>\n",
              "      <td>O</td>\n",
              "      <td>O</td>\n",
              "      <td>NaN</td>\n",
              "    </tr>\n",
              "    <tr>\n",
              "      <th>22</th>\n",
              "      <td>NaN</td>\n",
              "      <td>world</td>\n",
              "      <td>O</td>\n",
              "      <td>O</td>\n",
              "      <td>O</td>\n",
              "      <td>NaN</td>\n",
              "    </tr>\n",
              "    <tr>\n",
              "      <th>23</th>\n",
              "      <td>NaN</td>\n",
              "      <td>'</td>\n",
              "      <td>O</td>\n",
              "      <td>O</td>\n",
              "      <td>O</td>\n",
              "      <td>NaN</td>\n",
              "    </tr>\n",
              "    <tr>\n",
              "      <th>24</th>\n",
              "      <td>NaN</td>\n",
              "      <td>s</td>\n",
              "      <td>O</td>\n",
              "      <td>O</td>\n",
              "      <td>O</td>\n",
              "      <td>NaN</td>\n",
              "    </tr>\n",
              "  </tbody>\n",
              "</table>\n",
              "</div>"
            ],
            "text/plain": [
              "    Sentence #         Word STag Tag Relation                         File\n",
              "0   Sentence 1           No    O   O        O   EBA1415_TFBM_2_CB_ES-05548\n",
              "1          NaN        essay    O   O        O                          NaN\n",
              "2          NaN            /    O   O        O                          NaN\n",
              "3          NaN            /    O   O        O                          NaN\n",
              "4   Sentence 2   Somethings    O   O        O  EBA1415_TRJA_11_CB_ES-06110\n",
              "5          NaN         that    O   O        O                          NaN\n",
              "6          NaN         lead    O   O        O                          NaN\n",
              "7          NaN           to    O   O        O                          NaN\n",
              "8          NaN          the    O   O        O                          NaN\n",
              "9          NaN  differences    O   O        O                          NaN\n",
              "10         NaN          are    O   O        O                          NaN\n",
              "11         NaN            .    O   O        O                          NaN\n",
              "12         NaN            .    O   O        O                          NaN\n",
              "13         NaN           it    O   O        O                          NaN\n",
              "14         NaN           is    O   O        O                          NaN\n",
              "15         NaN            a    O   O        O                          NaN\n",
              "16         NaN      problem    O   O        O                          NaN\n",
              "17         NaN         with    O   O        O                          NaN\n",
              "18         NaN      serious    O   O        O                          NaN\n",
              "19         NaN      impacto    O   O        O                          NaN\n",
              "20         NaN            n    O   O        O                          NaN\n",
              "21         NaN          the    O   O        O                          NaN\n",
              "22         NaN        world    O   O        O                          NaN\n",
              "23         NaN            '    O   O        O                          NaN\n",
              "24         NaN            s    O   O        O                          NaN"
            ]
          },
          "metadata": {
            "tags": []
          },
          "execution_count": 44
        }
      ]
    },
    {
      "cell_type": "code",
      "metadata": {
        "colab": {
          "base_uri": "https://localhost:8080/",
          "height": 824
        },
        "id": "CQNfTbnNwFhJ",
        "outputId": "cdbe8996-3106-42b5-c491-0bf4bbc231df"
      },
      "source": [
        "df_test = df.copy(deep=True)\n",
        "df_test.iloc[0][\"Sentence #\"] = 0\n",
        "df_test.drop(['File', 'Relation', 'STag'], axis=1, inplace=True)\n",
        "df_test.columns = [\"s_num\",\"word\",\"tag\"]\n",
        "df_test = df_test.fillna(-1)\n",
        "\n",
        "snum = -1\n",
        "for idx, row in df_test.iterrows():\n",
        "  if row[\"s_num\"] == -1: row[\"s_num\"] = snum\n",
        "  else: \n",
        "    snum += 1\n",
        "    row[\"s_num\"] = snum\n",
        "\n",
        "df_test.head(25)"
      ],
      "execution_count": 45,
      "outputs": [
        {
          "output_type": "execute_result",
          "data": {
            "text/html": [
              "<div>\n",
              "<style scoped>\n",
              "    .dataframe tbody tr th:only-of-type {\n",
              "        vertical-align: middle;\n",
              "    }\n",
              "\n",
              "    .dataframe tbody tr th {\n",
              "        vertical-align: top;\n",
              "    }\n",
              "\n",
              "    .dataframe thead th {\n",
              "        text-align: right;\n",
              "    }\n",
              "</style>\n",
              "<table border=\"1\" class=\"dataframe\">\n",
              "  <thead>\n",
              "    <tr style=\"text-align: right;\">\n",
              "      <th></th>\n",
              "      <th>s_num</th>\n",
              "      <th>word</th>\n",
              "      <th>tag</th>\n",
              "    </tr>\n",
              "  </thead>\n",
              "  <tbody>\n",
              "    <tr>\n",
              "      <th>0</th>\n",
              "      <td>0</td>\n",
              "      <td>No</td>\n",
              "      <td>O</td>\n",
              "    </tr>\n",
              "    <tr>\n",
              "      <th>1</th>\n",
              "      <td>0</td>\n",
              "      <td>essay</td>\n",
              "      <td>O</td>\n",
              "    </tr>\n",
              "    <tr>\n",
              "      <th>2</th>\n",
              "      <td>0</td>\n",
              "      <td>/</td>\n",
              "      <td>O</td>\n",
              "    </tr>\n",
              "    <tr>\n",
              "      <th>3</th>\n",
              "      <td>0</td>\n",
              "      <td>/</td>\n",
              "      <td>O</td>\n",
              "    </tr>\n",
              "    <tr>\n",
              "      <th>4</th>\n",
              "      <td>1</td>\n",
              "      <td>Somethings</td>\n",
              "      <td>O</td>\n",
              "    </tr>\n",
              "    <tr>\n",
              "      <th>5</th>\n",
              "      <td>1</td>\n",
              "      <td>that</td>\n",
              "      <td>O</td>\n",
              "    </tr>\n",
              "    <tr>\n",
              "      <th>6</th>\n",
              "      <td>1</td>\n",
              "      <td>lead</td>\n",
              "      <td>O</td>\n",
              "    </tr>\n",
              "    <tr>\n",
              "      <th>7</th>\n",
              "      <td>1</td>\n",
              "      <td>to</td>\n",
              "      <td>O</td>\n",
              "    </tr>\n",
              "    <tr>\n",
              "      <th>8</th>\n",
              "      <td>1</td>\n",
              "      <td>the</td>\n",
              "      <td>O</td>\n",
              "    </tr>\n",
              "    <tr>\n",
              "      <th>9</th>\n",
              "      <td>1</td>\n",
              "      <td>differences</td>\n",
              "      <td>O</td>\n",
              "    </tr>\n",
              "    <tr>\n",
              "      <th>10</th>\n",
              "      <td>1</td>\n",
              "      <td>are</td>\n",
              "      <td>O</td>\n",
              "    </tr>\n",
              "    <tr>\n",
              "      <th>11</th>\n",
              "      <td>1</td>\n",
              "      <td>.</td>\n",
              "      <td>O</td>\n",
              "    </tr>\n",
              "    <tr>\n",
              "      <th>12</th>\n",
              "      <td>1</td>\n",
              "      <td>.</td>\n",
              "      <td>O</td>\n",
              "    </tr>\n",
              "    <tr>\n",
              "      <th>13</th>\n",
              "      <td>1</td>\n",
              "      <td>it</td>\n",
              "      <td>O</td>\n",
              "    </tr>\n",
              "    <tr>\n",
              "      <th>14</th>\n",
              "      <td>1</td>\n",
              "      <td>is</td>\n",
              "      <td>O</td>\n",
              "    </tr>\n",
              "    <tr>\n",
              "      <th>15</th>\n",
              "      <td>1</td>\n",
              "      <td>a</td>\n",
              "      <td>O</td>\n",
              "    </tr>\n",
              "    <tr>\n",
              "      <th>16</th>\n",
              "      <td>1</td>\n",
              "      <td>problem</td>\n",
              "      <td>O</td>\n",
              "    </tr>\n",
              "    <tr>\n",
              "      <th>17</th>\n",
              "      <td>1</td>\n",
              "      <td>with</td>\n",
              "      <td>O</td>\n",
              "    </tr>\n",
              "    <tr>\n",
              "      <th>18</th>\n",
              "      <td>1</td>\n",
              "      <td>serious</td>\n",
              "      <td>O</td>\n",
              "    </tr>\n",
              "    <tr>\n",
              "      <th>19</th>\n",
              "      <td>1</td>\n",
              "      <td>impacto</td>\n",
              "      <td>O</td>\n",
              "    </tr>\n",
              "    <tr>\n",
              "      <th>20</th>\n",
              "      <td>1</td>\n",
              "      <td>n</td>\n",
              "      <td>O</td>\n",
              "    </tr>\n",
              "    <tr>\n",
              "      <th>21</th>\n",
              "      <td>1</td>\n",
              "      <td>the</td>\n",
              "      <td>O</td>\n",
              "    </tr>\n",
              "    <tr>\n",
              "      <th>22</th>\n",
              "      <td>1</td>\n",
              "      <td>world</td>\n",
              "      <td>O</td>\n",
              "    </tr>\n",
              "    <tr>\n",
              "      <th>23</th>\n",
              "      <td>1</td>\n",
              "      <td>'</td>\n",
              "      <td>O</td>\n",
              "    </tr>\n",
              "    <tr>\n",
              "      <th>24</th>\n",
              "      <td>1</td>\n",
              "      <td>s</td>\n",
              "      <td>O</td>\n",
              "    </tr>\n",
              "  </tbody>\n",
              "</table>\n",
              "</div>"
            ],
            "text/plain": [
              "   s_num         word tag\n",
              "0      0           No   O\n",
              "1      0        essay   O\n",
              "2      0            /   O\n",
              "3      0            /   O\n",
              "4      1   Somethings   O\n",
              "5      1         that   O\n",
              "6      1         lead   O\n",
              "7      1           to   O\n",
              "8      1          the   O\n",
              "9      1  differences   O\n",
              "10     1          are   O\n",
              "11     1            .   O\n",
              "12     1            .   O\n",
              "13     1           it   O\n",
              "14     1           is   O\n",
              "15     1            a   O\n",
              "16     1      problem   O\n",
              "17     1         with   O\n",
              "18     1      serious   O\n",
              "19     1      impacto   O\n",
              "20     1            n   O\n",
              "21     1          the   O\n",
              "22     1        world   O\n",
              "23     1            '   O\n",
              "24     1            s   O"
            ]
          },
          "metadata": {
            "tags": []
          },
          "execution_count": 45
        }
      ]
    },
    {
      "cell_type": "code",
      "metadata": {
        "colab": {
          "base_uri": "https://localhost:8080/"
        },
        "id": "OQGYbr5LwaSr",
        "outputId": "8f903101-17ea-4ed1-d3c6-7866ceef1b93"
      },
      "source": [
        "print(\"Any nulls? \", df_test.isnull().values.any())"
      ],
      "execution_count": 46,
      "outputs": [
        {
          "output_type": "stream",
          "text": [
            "Any nulls?  False\n"
          ],
          "name": "stdout"
        }
      ]
    },
    {
      "cell_type": "code",
      "metadata": {
        "id": "Yz9G_5pOwaSt"
      },
      "source": [
        "df_test[\"s_num\"] = df_test[\"s_num\"].astype(str).astype(int)"
      ],
      "execution_count": 47,
      "outputs": []
    },
    {
      "cell_type": "code",
      "metadata": {
        "colab": {
          "base_uri": "https://localhost:8080/"
        },
        "id": "1Sm_AuZcwaSu",
        "outputId": "e4e63019-24b8-4d2e-cee9-777e45a383f6"
      },
      "source": [
        "print(\"Shape:\", df_test.shape)\n",
        "print(df_test.info())"
      ],
      "execution_count": 48,
      "outputs": [
        {
          "output_type": "stream",
          "text": [
            "Shape: (40087, 3)\n",
            "<class 'pandas.core.frame.DataFrame'>\n",
            "RangeIndex: 40087 entries, 0 to 40086\n",
            "Data columns (total 3 columns):\n",
            " #   Column  Non-Null Count  Dtype \n",
            "---  ------  --------------  ----- \n",
            " 0   s_num   40087 non-null  int64 \n",
            " 1   word    40087 non-null  object\n",
            " 2   tag     40087 non-null  object\n",
            "dtypes: int64(1), object(2)\n",
            "memory usage: 939.7+ KB\n",
            "None\n"
          ],
          "name": "stdout"
        }
      ]
    },
    {
      "cell_type": "code",
      "metadata": {
        "colab": {
          "base_uri": "https://localhost:8080/"
        },
        "id": "eaYrVHrQwaSu",
        "outputId": "e2c29077-d5d4-4bd5-f3bb-a62ecd20855b"
      },
      "source": [
        "print(\"Unique labels:\")\n",
        "sorted(df_test.tag.unique())"
      ],
      "execution_count": 49,
      "outputs": [
        {
          "output_type": "stream",
          "text": [
            "Unique labels:\n"
          ],
          "name": "stdout"
        },
        {
          "output_type": "execute_result",
          "data": {
            "text/plain": [
              "['B-1',\n",
              " 'B-11',\n",
              " 'B-12',\n",
              " 'B-13',\n",
              " 'B-14',\n",
              " 'B-2',\n",
              " 'B-3',\n",
              " 'B-4',\n",
              " 'B-5',\n",
              " 'B-50',\n",
              " 'B-5B',\n",
              " 'B-6',\n",
              " 'B-7',\n",
              " 'B-ANAPHOR',\n",
              " 'B-CHANGE-FACTOR',\n",
              " 'B-EXPLICIT',\n",
              " 'B-OTHER',\n",
              " 'B-RHETORICAL',\n",
              " 'I-1',\n",
              " 'I-11',\n",
              " 'I-12',\n",
              " 'I-13',\n",
              " 'I-14',\n",
              " 'I-2',\n",
              " 'I-3',\n",
              " 'I-4',\n",
              " 'I-5',\n",
              " 'I-50',\n",
              " 'I-5B',\n",
              " 'I-6',\n",
              " 'I-7',\n",
              " 'I-ANAPHOR',\n",
              " 'I-CHANGE-FACTOR',\n",
              " 'I-EXPLICIT',\n",
              " 'I-OTHER',\n",
              " 'I-RHETORICAL',\n",
              " 'O']"
            ]
          },
          "metadata": {
            "tags": []
          },
          "execution_count": 49
        }
      ]
    },
    {
      "cell_type": "code",
      "metadata": {
        "id": "402EU6Pyw52p"
      },
      "source": [
        "df_test[\"tag\"] = df_test.apply(lambda x: \"O\" if x[\"tag\"] in invalids else x[\"tag\"], axis=1)"
      ],
      "execution_count": 50,
      "outputs": []
    },
    {
      "cell_type": "code",
      "metadata": {
        "colab": {
          "base_uri": "https://localhost:8080/"
        },
        "id": "_glnTnxqwaSv",
        "outputId": "4c9b3a26-2bef-46e9-fcfc-3f55b645f291"
      },
      "source": [
        "print(df_test.tag.value_counts()[:10])"
      ],
      "execution_count": 51,
      "outputs": [
        {
          "output_type": "stream",
          "text": [
            "O       26715\n",
            "I-50     2455\n",
            "I-3      1654\n",
            "I-7      1181\n",
            "B-50      978\n",
            "I-1       954\n",
            "I-4       734\n",
            "I-14      717\n",
            "I-5B      638\n",
            "I-13      508\n",
            "Name: tag, dtype: int64\n"
          ],
          "name": "stdout"
        }
      ]
    },
    {
      "cell_type": "code",
      "metadata": {
        "colab": {
          "base_uri": "https://localhost:8080/"
        },
        "id": "c8JRa9kbwaSv",
        "outputId": "e308ed7b-9c67-4376-f641-a2a2cc953df2"
      },
      "source": [
        "print(df_test.s_num.value_counts()[:10])"
      ],
      "execution_count": 52,
      "outputs": [
        {
          "output_type": "stream",
          "text": [
            "123     67\n",
            "1988    65\n",
            "1152    65\n",
            "1415    64\n",
            "1414    64\n",
            "1413    64\n",
            "1530    62\n",
            "1787    54\n",
            "1045    53\n",
            "254     53\n",
            "Name: s_num, dtype: int64\n"
          ],
          "name": "stdout"
        }
      ]
    },
    {
      "cell_type": "markdown",
      "metadata": {
        "id": "bB-fALvlEc4L"
      },
      "source": [
        "We'll first take a look at a sample sentence to see what the model predicts for the tags versus what the tags actually were."
      ]
    },
    {
      "cell_type": "code",
      "metadata": {
        "colab": {
          "base_uri": "https://localhost:8080/"
        },
        "id": "MZfyawYPsXqc",
        "outputId": "8102b360-f448-44c3-904e-bbec99fe3225"
      },
      "source": [
        "n = 3\n",
        "first_sent_word = list(df_test[df_test[\"s_num\"] == n][\"word\"])\n",
        "first_sent_label = [\"O\"] + list(df_test[df_test[\"s_num\"] == n][\"tag\"])\n",
        "\n",
        "test_sentence = \"\"\n",
        "for val in first_sent_word:\n",
        "  test_sentence += val + ' '\n",
        "print(test_sentence) \n",
        "\n",
        "test_tokenized_sentence = tokenizer.encode(test_sentence)\n",
        "test_input_ids = torch.tensor([test_tokenized_sentence]).cuda()\n",
        "with torch.no_grad():\n",
        "    output = model(test_input_ids)\n",
        "test_label_indices = np.argmax(output[0].to('cpu').numpy(), axis=2)\n",
        "\n",
        "test_tokens = tokenizer.convert_ids_to_tokens(test_input_ids.to('cpu').numpy()[0])\n",
        "\n",
        "new_tokens, new_labels = [], []\n",
        "for token, idx in zip(test_tokens, test_label_indices[0]):\n",
        "    if token.startswith(\"##\"):\n",
        "        new_tokens[-1] = new_tokens[-1] + token[2:]\n",
        "    else:\n",
        "        new_labels.append(tag_values[idx])\n",
        "        new_tokens.append(token)\n",
        "for token, label, old in zip(new_tokens, new_labels, first_sent_label):\n",
        "    print(\"{}\\t{}\\t{}\".format(label, token, old))"
      ],
      "execution_count": 53,
      "outputs": [
        {
          "output_type": "stream",
          "text": [
            "Coral bleaching is most noticeable in the Pacific Ocean . \n",
            "O\t[CLS]\tO\n",
            "B-50\tCoral\tB-50\n",
            "I-50\tbleaching\tI-50\n",
            "O\tis\tO\n",
            "O\tmost\tO\n",
            "O\tnoticeable\tO\n",
            "O\tin\tO\n",
            "O\tthe\tO\n",
            "O\tPacific\tO\n",
            "O\tOcean\tO\n",
            "O\t.\tO\n"
          ],
          "name": "stdout"
        }
      ]
    },
    {
      "cell_type": "markdown",
      "metadata": {
        "id": "vE4oPgVdEk5h"
      },
      "source": [
        "Now is the actual evaluation of the entire test set, followed by the classification report and confusion matrix."
      ]
    },
    {
      "cell_type": "code",
      "metadata": {
        "id": "SeeP8lwvwmsQ"
      },
      "source": [
        "y_pred = []\n",
        "y_true = []\n",
        "\n",
        "for i in range(max(df_test[\"s_num\"]+1)):\n",
        "  first_sent_word = list(df_test[df_test[\"s_num\"] == i][\"word\"])\n",
        "  first_sent_label = [\"O\"] + list(df_test[df_test[\"s_num\"] == i][\"tag\"]) + [\"O\"]\n",
        "\n",
        "  test_sentence = \"\"\n",
        "  for val in first_sent_word:\n",
        "    test_sentence += val + ' '\n",
        "  # print(test_sentence) \n",
        "\n",
        "  test_tokenized_sentence = tokenizer.encode(test_sentence)\n",
        "  test_input_ids = torch.tensor([test_tokenized_sentence]).cuda()\n",
        "  with torch.no_grad():\n",
        "      output = model(test_input_ids)\n",
        "  test_label_indices = np.argmax(output[0].to('cpu').numpy(), axis=2)\n",
        "\n",
        "  test_tokens = tokenizer.convert_ids_to_tokens(test_input_ids.to('cpu').numpy()[0])\n",
        "\n",
        "  new_tokens, new_labels = [], []\n",
        "  for token, idx in zip(test_tokens, test_label_indices[0]):\n",
        "      if token.startswith(\"##\"):\n",
        "          new_tokens[-1] = new_tokens[-1] + token[2:]\n",
        "      else:\n",
        "          new_labels.append(tag_values[idx])\n",
        "          new_tokens.append(token)\n",
        "  y_pred += new_labels\n",
        "  y_true += first_sent_label\n",
        "# print(len(y_pred))\n",
        "# print(len(y_true))"
      ],
      "execution_count": 54,
      "outputs": []
    },
    {
      "cell_type": "code",
      "metadata": {
        "colab": {
          "base_uri": "https://localhost:8080/"
        },
        "id": "rG1dwHt-wnCd",
        "outputId": "6ec64700-6937-404b-fe03-3db492882c0c"
      },
      "source": [
        "print(classification_report(y_true, y_pred))"
      ],
      "execution_count": 55,
      "outputs": [
        {
          "output_type": "stream",
          "text": [
            "/usr/local/lib/python3.7/dist-packages/sklearn/metrics/_classification.py:1272: UndefinedMetricWarning: Precision and F-score are ill-defined and being set to 0.0 in labels with no predicted samples. Use `zero_division` parameter to control this behavior.\n",
            "  _warn_prf(average, modifier, msg_start, len(result))\n"
          ],
          "name": "stderr"
        },
        {
          "output_type": "stream",
          "text": [
            "              precision    recall  f1-score   support\n",
            "\n",
            "         B-1       0.84      0.80      0.82       335\n",
            "        B-11       0.77      0.87      0.82       128\n",
            "        B-12       0.91      0.68      0.78        59\n",
            "        B-13       0.77      0.78      0.77       175\n",
            "        B-14       0.76      0.61      0.68       116\n",
            "         B-2       0.73      0.42      0.54        45\n",
            "         B-3       0.75      0.80      0.77       416\n",
            "         B-4       0.85      0.54      0.66       157\n",
            "         B-5       0.81      0.31      0.45       167\n",
            "        B-50       0.73      0.82      0.77       978\n",
            "        B-5B       0.00      0.00      0.00        70\n",
            "         B-6       0.71      0.53      0.61       102\n",
            "         B-7       0.61      0.61      0.61       251\n",
            "         I-1       0.87      0.77      0.82       954\n",
            "        I-11       0.88      0.53      0.66       242\n",
            "        I-12       0.96      0.88      0.92       362\n",
            "        I-13       0.89      0.69      0.78       508\n",
            "        I-14       0.84      0.58      0.68       717\n",
            "         I-2       0.75      0.73      0.74       219\n",
            "         I-3       0.88      0.83      0.85      1654\n",
            "         I-4       0.80      0.82      0.81       734\n",
            "         I-5       0.76      0.63      0.69       463\n",
            "        I-50       0.79      0.68      0.73      2455\n",
            "        I-5B       0.69      0.40      0.51       638\n",
            "         I-6       0.84      0.68      0.75       246\n",
            "         I-7       0.94      0.65      0.77      1181\n",
            "           O       0.90      0.96      0.93     31255\n",
            "\n",
            "    accuracy                           0.88     44627\n",
            "   macro avg       0.78      0.65      0.70     44627\n",
            "weighted avg       0.88      0.88      0.88     44627\n",
            "\n"
          ],
          "name": "stdout"
        }
      ]
    },
    {
      "cell_type": "code",
      "metadata": {
        "colab": {
          "base_uri": "https://localhost:8080/"
        },
        "id": "1IalD6-t-OEg",
        "outputId": "8eae0566-5b21-464c-f168-993973128faf"
      },
      "source": [
        "print(confusion_matrix(y_true, y_pred))"
      ],
      "execution_count": 56,
      "outputs": [
        {
          "output_type": "stream",
          "text": [
            "[[  269     0     0 ...     0     0    43]\n",
            " [    0   111     0 ...     0     0    12]\n",
            " [    0     0    40 ...     0     0    10]\n",
            " ...\n",
            " [    0     0     0 ...   168     0    70]\n",
            " [    0     0     0 ...     0   772   343]\n",
            " [   28     3     0 ...    25    41 29945]]\n"
          ],
          "name": "stdout"
        }
      ]
    }
  ]
}