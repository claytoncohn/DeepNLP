{
  "nbformat": 4,
  "nbformat_minor": 0,
  "metadata": {
    "colab": {
      "name": "ConceptTaggingCB.ipynb",
      "provenance": [],
      "collapsed_sections": [],
      "machine_shape": "hm"
    },
    "kernelspec": {
      "name": "python3",
      "display_name": "Python 3"
    },
    "accelerator": "GPU"
  },
  "cells": [
    {
      "cell_type": "markdown",
      "metadata": {
        "id": "waEHsxpx-2n_"
      },
      "source": [
        "Clayton Cohn<br>\n",
        "DePaul University<br>\n",
        "19 Apr 2021<br>\n",
        "\n",
        "#<center> Tagging Concepts in Causal Chains w/ BERT"
      ]
    },
    {
      "cell_type": "markdown",
      "metadata": {
        "id": "ghDRjYUEYaQz"
      },
      "source": [
        "This code was adapted from Drew Perkins' tutorial via Towards Data Science: \n",
        "\n",
        "https://towardsdatascience.com/tagging-genes-and-proteins-with-biobert-c7b04fc6eb4f"
      ]
    },
    {
      "cell_type": "code",
      "metadata": {
        "colab": {
          "base_uri": "https://localhost:8080/"
        },
        "id": "Jm9JksAbEE4a",
        "outputId": "6727c0e0-6af6-4d0d-c855-1f59529a1e27"
      },
      "source": [
        "from google.colab import drive\n",
        "drive.mount('/content/drive')"
      ],
      "execution_count": 1,
      "outputs": [
        {
          "output_type": "stream",
          "text": [
            "Drive already mounted at /content/drive; to attempt to forcibly remount, call drive.mount(\"/content/drive\", force_remount=True).\n"
          ],
          "name": "stdout"
        }
      ]
    },
    {
      "cell_type": "markdown",
      "metadata": {
        "id": "tUqv3JUr_wrw"
      },
      "source": [
        "The below cell is for combining the *big* and *little* datasets if we want to do cross-validation. For this notebook, I simply used both the big and little datasets as-is."
      ]
    },
    {
      "cell_type": "code",
      "metadata": {
        "colab": {
          "base_uri": "https://localhost:8080/",
          "height": 35
        },
        "id": "G7jRUiA2E2da",
        "outputId": "80e1d3e5-d2a1-47d5-c49c-56c6597516c2"
      },
      "source": [
        "'''\n",
        "This cell used to concatenate big and little partitions\n",
        "'''\n",
        "\n",
        "# import pandas as pd\n",
        "\n",
        "# DATA_PATH = \"drive/My Drive/colab/DeepNLP/data/\"\n",
        "# FILE_NAME1 = \"EBA1415-SkinCancer-big-reln-repeat-iob2.csv\"\n",
        "# FILE_NAME2 = \"EBA1415-SkinCancer-little-reln-repeat-iob2.csv\"\n",
        "\n",
        "# df1 = pd.read_csv(DATA_PATH + FILE_NAME1)\n",
        "# df2 = pd.read_csv(DATA_PATH + FILE_NAME2)\n",
        "\n",
        "# print(\"1:\", len(df1))\n",
        "# print(\"2:\", len(df2))\n",
        "\n",
        "# df = pd.concat([df1, df2], ignore_index=True)\n",
        "# print(len(df))\n",
        "\n",
        "# print(df.head())\n",
        "\n",
        "# df.to_csv(DATA_PATH + 'EBA1415-SkinCancer-join-reln-repeat-iob2.csv', index=False)"
      ],
      "execution_count": 2,
      "outputs": [
        {
          "output_type": "execute_result",
          "data": {
            "application/vnd.google.colaboratory.intrinsic+json": {
              "type": "string"
            },
            "text/plain": [
              "'\\nThis cell used to concatenate big and little partitions\\n'"
            ]
          },
          "metadata": {
            "tags": []
          },
          "execution_count": 2
        }
      ]
    },
    {
      "cell_type": "code",
      "metadata": {
        "id": "7mDKS3oeEUL2"
      },
      "source": [
        "DATA_PATH = \"drive/My Drive/colab/DeepNLP/data/\"\n",
        "FILE_NAME = \"EBA1415-CoralBleaching-big-reln-repeat-iob2.csv\""
      ],
      "execution_count": 3,
      "outputs": []
    },
    {
      "cell_type": "code",
      "metadata": {
        "colab": {
          "base_uri": "https://localhost:8080/",
          "height": 824
        },
        "id": "c2lfnjVaE4FD",
        "outputId": "c53151e1-22ec-43e7-8763-fad05697f1b1"
      },
      "source": [
        "import pandas as pd\n",
        "\n",
        "df = pd.read_csv(DATA_PATH + FILE_NAME)\n",
        "df.head(25)"
      ],
      "execution_count": 4,
      "outputs": [
        {
          "output_type": "execute_result",
          "data": {
            "text/html": [
              "<div>\n",
              "<style scoped>\n",
              "    .dataframe tbody tr th:only-of-type {\n",
              "        vertical-align: middle;\n",
              "    }\n",
              "\n",
              "    .dataframe tbody tr th {\n",
              "        vertical-align: top;\n",
              "    }\n",
              "\n",
              "    .dataframe thead th {\n",
              "        text-align: right;\n",
              "    }\n",
              "</style>\n",
              "<table border=\"1\" class=\"dataframe\">\n",
              "  <thead>\n",
              "    <tr style=\"text-align: right;\">\n",
              "      <th></th>\n",
              "      <th>Sentence #</th>\n",
              "      <th>Word</th>\n",
              "      <th>STag</th>\n",
              "      <th>Tag</th>\n",
              "      <th>Relation</th>\n",
              "      <th>File</th>\n",
              "    </tr>\n",
              "  </thead>\n",
              "  <tbody>\n",
              "    <tr>\n",
              "      <th>0</th>\n",
              "      <td>Sentence 1</td>\n",
              "      <td>Coral</td>\n",
              "      <td>O</td>\n",
              "      <td>O</td>\n",
              "      <td>O</td>\n",
              "      <td>EBA1415_KNKC_1_CB_ES-05410</td>\n",
              "    </tr>\n",
              "    <tr>\n",
              "      <th>1</th>\n",
              "      <td>NaN</td>\n",
              "      <td>and</td>\n",
              "      <td>O</td>\n",
              "      <td>O</td>\n",
              "      <td>O</td>\n",
              "      <td>NaN</td>\n",
              "    </tr>\n",
              "    <tr>\n",
              "      <th>2</th>\n",
              "      <td>NaN</td>\n",
              "      <td>zooxanthellae</td>\n",
              "      <td>O</td>\n",
              "      <td>O</td>\n",
              "      <td>O</td>\n",
              "      <td>NaN</td>\n",
              "    </tr>\n",
              "    <tr>\n",
              "      <th>3</th>\n",
              "      <td>NaN</td>\n",
              "      <td>depend</td>\n",
              "      <td>O</td>\n",
              "      <td>O</td>\n",
              "      <td>O</td>\n",
              "      <td>NaN</td>\n",
              "    </tr>\n",
              "    <tr>\n",
              "      <th>4</th>\n",
              "      <td>NaN</td>\n",
              "      <td>an</td>\n",
              "      <td>O</td>\n",
              "      <td>O</td>\n",
              "      <td>O</td>\n",
              "      <td>NaN</td>\n",
              "    </tr>\n",
              "    <tr>\n",
              "      <th>5</th>\n",
              "      <td>NaN</td>\n",
              "      <td>each</td>\n",
              "      <td>O</td>\n",
              "      <td>O</td>\n",
              "      <td>O</td>\n",
              "      <td>NaN</td>\n",
              "    </tr>\n",
              "    <tr>\n",
              "      <th>6</th>\n",
              "      <td>NaN</td>\n",
              "      <td>other</td>\n",
              "      <td>O</td>\n",
              "      <td>O</td>\n",
              "      <td>O</td>\n",
              "      <td>NaN</td>\n",
              "    </tr>\n",
              "    <tr>\n",
              "      <th>7</th>\n",
              "      <td>NaN</td>\n",
              "      <td>in</td>\n",
              "      <td>O</td>\n",
              "      <td>O</td>\n",
              "      <td>O</td>\n",
              "      <td>NaN</td>\n",
              "    </tr>\n",
              "    <tr>\n",
              "      <th>8</th>\n",
              "      <td>NaN</td>\n",
              "      <td>order</td>\n",
              "      <td>O</td>\n",
              "      <td>O</td>\n",
              "      <td>O</td>\n",
              "      <td>NaN</td>\n",
              "    </tr>\n",
              "    <tr>\n",
              "      <th>9</th>\n",
              "      <td>NaN</td>\n",
              "      <td>to</td>\n",
              "      <td>O</td>\n",
              "      <td>O</td>\n",
              "      <td>O</td>\n",
              "      <td>NaN</td>\n",
              "    </tr>\n",
              "    <tr>\n",
              "      <th>10</th>\n",
              "      <td>NaN</td>\n",
              "      <td>live</td>\n",
              "      <td>O</td>\n",
              "      <td>O</td>\n",
              "      <td>O</td>\n",
              "      <td>NaN</td>\n",
              "    </tr>\n",
              "    <tr>\n",
              "      <th>11</th>\n",
              "      <td>NaN</td>\n",
              "      <td>.</td>\n",
              "      <td>O</td>\n",
              "      <td>O</td>\n",
              "      <td>O</td>\n",
              "      <td>NaN</td>\n",
              "    </tr>\n",
              "    <tr>\n",
              "      <th>12</th>\n",
              "      <td>Sentence 2</td>\n",
              "      <td>If</td>\n",
              "      <td>C-EXPLICIT</td>\n",
              "      <td>I-EXPLICIT</td>\n",
              "      <td>O</td>\n",
              "      <td>NaN</td>\n",
              "    </tr>\n",
              "    <tr>\n",
              "      <th>13</th>\n",
              "      <td>NaN</td>\n",
              "      <td>the</td>\n",
              "      <td>O</td>\n",
              "      <td>O</td>\n",
              "      <td>O</td>\n",
              "      <td>NaN</td>\n",
              "    </tr>\n",
              "    <tr>\n",
              "      <th>14</th>\n",
              "      <td>NaN</td>\n",
              "      <td>coral</td>\n",
              "      <td>O</td>\n",
              "      <td>O</td>\n",
              "      <td>O</td>\n",
              "      <td>NaN</td>\n",
              "    </tr>\n",
              "    <tr>\n",
              "      <th>15</th>\n",
              "      <td>NaN</td>\n",
              "      <td>dies</td>\n",
              "      <td>O</td>\n",
              "      <td>O</td>\n",
              "      <td>O</td>\n",
              "      <td>NaN</td>\n",
              "    </tr>\n",
              "    <tr>\n",
              "      <th>16</th>\n",
              "      <td>NaN</td>\n",
              "      <td>,</td>\n",
              "      <td>O</td>\n",
              "      <td>O</td>\n",
              "      <td>O</td>\n",
              "      <td>NaN</td>\n",
              "    </tr>\n",
              "    <tr>\n",
              "      <th>17</th>\n",
              "      <td>NaN</td>\n",
              "      <td>or</td>\n",
              "      <td>O</td>\n",
              "      <td>O</td>\n",
              "      <td>O</td>\n",
              "      <td>NaN</td>\n",
              "    </tr>\n",
              "    <tr>\n",
              "      <th>18</th>\n",
              "      <td>NaN</td>\n",
              "      <td>gets</td>\n",
              "      <td>C-50</td>\n",
              "      <td>B-50</td>\n",
              "      <td>R-7-50</td>\n",
              "      <td>NaN</td>\n",
              "    </tr>\n",
              "    <tr>\n",
              "      <th>19</th>\n",
              "      <td>NaN</td>\n",
              "      <td>bleached</td>\n",
              "      <td>C-50</td>\n",
              "      <td>I-50</td>\n",
              "      <td>R-7-50</td>\n",
              "      <td>NaN</td>\n",
              "    </tr>\n",
              "    <tr>\n",
              "      <th>20</th>\n",
              "      <td>NaN</td>\n",
              "      <td>,</td>\n",
              "      <td>O</td>\n",
              "      <td>O</td>\n",
              "      <td>O</td>\n",
              "      <td>NaN</td>\n",
              "    </tr>\n",
              "    <tr>\n",
              "      <th>21</th>\n",
              "      <td>NaN</td>\n",
              "      <td>then</td>\n",
              "      <td>C-EXPLICIT</td>\n",
              "      <td>B-EXPLICIT</td>\n",
              "      <td>R-7-50</td>\n",
              "      <td>NaN</td>\n",
              "    </tr>\n",
              "    <tr>\n",
              "      <th>22</th>\n",
              "      <td>NaN</td>\n",
              "      <td>the</td>\n",
              "      <td>O</td>\n",
              "      <td>O</td>\n",
              "      <td>O</td>\n",
              "      <td>NaN</td>\n",
              "    </tr>\n",
              "    <tr>\n",
              "      <th>23</th>\n",
              "      <td>NaN</td>\n",
              "      <td>zooxanthellae</td>\n",
              "      <td>C-7</td>\n",
              "      <td>B-7</td>\n",
              "      <td>R-7-50</td>\n",
              "      <td>NaN</td>\n",
              "    </tr>\n",
              "    <tr>\n",
              "      <th>24</th>\n",
              "      <td>NaN</td>\n",
              "      <td>dies</td>\n",
              "      <td>C-7</td>\n",
              "      <td>I-7</td>\n",
              "      <td>R-7-50</td>\n",
              "      <td>NaN</td>\n",
              "    </tr>\n",
              "  </tbody>\n",
              "</table>\n",
              "</div>"
            ],
            "text/plain": [
              "    Sentence #           Word  ... Relation                        File\n",
              "0   Sentence 1          Coral  ...        O  EBA1415_KNKC_1_CB_ES-05410\n",
              "1          NaN            and  ...        O                         NaN\n",
              "2          NaN  zooxanthellae  ...        O                         NaN\n",
              "3          NaN         depend  ...        O                         NaN\n",
              "4          NaN             an  ...        O                         NaN\n",
              "5          NaN           each  ...        O                         NaN\n",
              "6          NaN          other  ...        O                         NaN\n",
              "7          NaN             in  ...        O                         NaN\n",
              "8          NaN          order  ...        O                         NaN\n",
              "9          NaN             to  ...        O                         NaN\n",
              "10         NaN           live  ...        O                         NaN\n",
              "11         NaN              .  ...        O                         NaN\n",
              "12  Sentence 2             If  ...        O                         NaN\n",
              "13         NaN            the  ...        O                         NaN\n",
              "14         NaN          coral  ...        O                         NaN\n",
              "15         NaN           dies  ...        O                         NaN\n",
              "16         NaN              ,  ...        O                         NaN\n",
              "17         NaN             or  ...        O                         NaN\n",
              "18         NaN           gets  ...   R-7-50                         NaN\n",
              "19         NaN       bleached  ...   R-7-50                         NaN\n",
              "20         NaN              ,  ...        O                         NaN\n",
              "21         NaN           then  ...   R-7-50                         NaN\n",
              "22         NaN            the  ...        O                         NaN\n",
              "23         NaN  zooxanthellae  ...   R-7-50                         NaN\n",
              "24         NaN           dies  ...   R-7-50                         NaN\n",
              "\n",
              "[25 rows x 6 columns]"
            ]
          },
          "metadata": {
            "tags": []
          },
          "execution_count": 4
        }
      ]
    },
    {
      "cell_type": "markdown",
      "metadata": {
        "id": "rC8B_UMh_-nz"
      },
      "source": [
        "This was the raw dataset taken from the wiki. It has a lot of extraneous information that needs to be stripped. Considering that this is a tagging task, all we are concerned with is the sentence numberm, word, and label.\n",
        "\n",
        "Additionally, the sentence numbers need to be added, as currently only the first word of each sentence has a number."
      ]
    },
    {
      "cell_type": "code",
      "metadata": {
        "colab": {
          "base_uri": "https://localhost:8080/",
          "height": 824
        },
        "id": "TZk6wBUtAG_l",
        "outputId": "cd66c4cf-12c0-4763-ee43-523400159994"
      },
      "source": [
        "import numpy as np\n",
        "\n",
        "df_num = df.copy(deep=True)\n",
        "df_num.iloc[0][\"Sentence #\"] = 0\n",
        "df_num.drop(['File', 'Relation', 'STag'], axis=1, inplace=True)\n",
        "df_num.columns = [\"s_num\",\"word\",\"tag\"]\n",
        "df_num = df_num.fillna(-1)\n",
        "\n",
        "snum = -1\n",
        "for idx, row in df_num.iterrows():\n",
        "  if row[\"s_num\"] == -1: row[\"s_num\"] = snum\n",
        "  else: \n",
        "    snum += 1\n",
        "    row[\"s_num\"] = snum\n",
        "\n",
        "df_num.head(25)"
      ],
      "execution_count": 5,
      "outputs": [
        {
          "output_type": "execute_result",
          "data": {
            "text/html": [
              "<div>\n",
              "<style scoped>\n",
              "    .dataframe tbody tr th:only-of-type {\n",
              "        vertical-align: middle;\n",
              "    }\n",
              "\n",
              "    .dataframe tbody tr th {\n",
              "        vertical-align: top;\n",
              "    }\n",
              "\n",
              "    .dataframe thead th {\n",
              "        text-align: right;\n",
              "    }\n",
              "</style>\n",
              "<table border=\"1\" class=\"dataframe\">\n",
              "  <thead>\n",
              "    <tr style=\"text-align: right;\">\n",
              "      <th></th>\n",
              "      <th>s_num</th>\n",
              "      <th>word</th>\n",
              "      <th>tag</th>\n",
              "    </tr>\n",
              "  </thead>\n",
              "  <tbody>\n",
              "    <tr>\n",
              "      <th>0</th>\n",
              "      <td>0</td>\n",
              "      <td>Coral</td>\n",
              "      <td>O</td>\n",
              "    </tr>\n",
              "    <tr>\n",
              "      <th>1</th>\n",
              "      <td>0</td>\n",
              "      <td>and</td>\n",
              "      <td>O</td>\n",
              "    </tr>\n",
              "    <tr>\n",
              "      <th>2</th>\n",
              "      <td>0</td>\n",
              "      <td>zooxanthellae</td>\n",
              "      <td>O</td>\n",
              "    </tr>\n",
              "    <tr>\n",
              "      <th>3</th>\n",
              "      <td>0</td>\n",
              "      <td>depend</td>\n",
              "      <td>O</td>\n",
              "    </tr>\n",
              "    <tr>\n",
              "      <th>4</th>\n",
              "      <td>0</td>\n",
              "      <td>an</td>\n",
              "      <td>O</td>\n",
              "    </tr>\n",
              "    <tr>\n",
              "      <th>5</th>\n",
              "      <td>0</td>\n",
              "      <td>each</td>\n",
              "      <td>O</td>\n",
              "    </tr>\n",
              "    <tr>\n",
              "      <th>6</th>\n",
              "      <td>0</td>\n",
              "      <td>other</td>\n",
              "      <td>O</td>\n",
              "    </tr>\n",
              "    <tr>\n",
              "      <th>7</th>\n",
              "      <td>0</td>\n",
              "      <td>in</td>\n",
              "      <td>O</td>\n",
              "    </tr>\n",
              "    <tr>\n",
              "      <th>8</th>\n",
              "      <td>0</td>\n",
              "      <td>order</td>\n",
              "      <td>O</td>\n",
              "    </tr>\n",
              "    <tr>\n",
              "      <th>9</th>\n",
              "      <td>0</td>\n",
              "      <td>to</td>\n",
              "      <td>O</td>\n",
              "    </tr>\n",
              "    <tr>\n",
              "      <th>10</th>\n",
              "      <td>0</td>\n",
              "      <td>live</td>\n",
              "      <td>O</td>\n",
              "    </tr>\n",
              "    <tr>\n",
              "      <th>11</th>\n",
              "      <td>0</td>\n",
              "      <td>.</td>\n",
              "      <td>O</td>\n",
              "    </tr>\n",
              "    <tr>\n",
              "      <th>12</th>\n",
              "      <td>1</td>\n",
              "      <td>If</td>\n",
              "      <td>I-EXPLICIT</td>\n",
              "    </tr>\n",
              "    <tr>\n",
              "      <th>13</th>\n",
              "      <td>1</td>\n",
              "      <td>the</td>\n",
              "      <td>O</td>\n",
              "    </tr>\n",
              "    <tr>\n",
              "      <th>14</th>\n",
              "      <td>1</td>\n",
              "      <td>coral</td>\n",
              "      <td>O</td>\n",
              "    </tr>\n",
              "    <tr>\n",
              "      <th>15</th>\n",
              "      <td>1</td>\n",
              "      <td>dies</td>\n",
              "      <td>O</td>\n",
              "    </tr>\n",
              "    <tr>\n",
              "      <th>16</th>\n",
              "      <td>1</td>\n",
              "      <td>,</td>\n",
              "      <td>O</td>\n",
              "    </tr>\n",
              "    <tr>\n",
              "      <th>17</th>\n",
              "      <td>1</td>\n",
              "      <td>or</td>\n",
              "      <td>O</td>\n",
              "    </tr>\n",
              "    <tr>\n",
              "      <th>18</th>\n",
              "      <td>1</td>\n",
              "      <td>gets</td>\n",
              "      <td>B-50</td>\n",
              "    </tr>\n",
              "    <tr>\n",
              "      <th>19</th>\n",
              "      <td>1</td>\n",
              "      <td>bleached</td>\n",
              "      <td>I-50</td>\n",
              "    </tr>\n",
              "    <tr>\n",
              "      <th>20</th>\n",
              "      <td>1</td>\n",
              "      <td>,</td>\n",
              "      <td>O</td>\n",
              "    </tr>\n",
              "    <tr>\n",
              "      <th>21</th>\n",
              "      <td>1</td>\n",
              "      <td>then</td>\n",
              "      <td>B-EXPLICIT</td>\n",
              "    </tr>\n",
              "    <tr>\n",
              "      <th>22</th>\n",
              "      <td>1</td>\n",
              "      <td>the</td>\n",
              "      <td>O</td>\n",
              "    </tr>\n",
              "    <tr>\n",
              "      <th>23</th>\n",
              "      <td>1</td>\n",
              "      <td>zooxanthellae</td>\n",
              "      <td>B-7</td>\n",
              "    </tr>\n",
              "    <tr>\n",
              "      <th>24</th>\n",
              "      <td>1</td>\n",
              "      <td>dies</td>\n",
              "      <td>I-7</td>\n",
              "    </tr>\n",
              "  </tbody>\n",
              "</table>\n",
              "</div>"
            ],
            "text/plain": [
              "   s_num           word         tag\n",
              "0      0          Coral           O\n",
              "1      0            and           O\n",
              "2      0  zooxanthellae           O\n",
              "3      0         depend           O\n",
              "4      0             an           O\n",
              "5      0           each           O\n",
              "6      0          other           O\n",
              "7      0             in           O\n",
              "8      0          order           O\n",
              "9      0             to           O\n",
              "10     0           live           O\n",
              "11     0              .           O\n",
              "12     1             If  I-EXPLICIT\n",
              "13     1            the           O\n",
              "14     1          coral           O\n",
              "15     1           dies           O\n",
              "16     1              ,           O\n",
              "17     1             or           O\n",
              "18     1           gets        B-50\n",
              "19     1       bleached        I-50\n",
              "20     1              ,           O\n",
              "21     1           then  B-EXPLICIT\n",
              "22     1            the           O\n",
              "23     1  zooxanthellae         B-7\n",
              "24     1           dies         I-7"
            ]
          },
          "metadata": {
            "tags": []
          },
          "execution_count": 5
        }
      ]
    },
    {
      "cell_type": "markdown",
      "metadata": {
        "id": "hhPOrvNEAcHV"
      },
      "source": [
        "Once we have the cleaned and trimmed dataset we can make sure that there are no ```null``` values and also properly format the columns. This is also a good time to do some EDA and take a peek at the data."
      ]
    },
    {
      "cell_type": "code",
      "metadata": {
        "colab": {
          "base_uri": "https://localhost:8080/"
        },
        "id": "dAhNsk9uG7VA",
        "outputId": "60b7d71f-e446-4a55-e089-05e58a06c70b"
      },
      "source": [
        "print(\"Any nulls? \", df_num.isnull().values.any())"
      ],
      "execution_count": 6,
      "outputs": [
        {
          "output_type": "stream",
          "text": [
            "Any nulls?  False\n"
          ],
          "name": "stdout"
        }
      ]
    },
    {
      "cell_type": "code",
      "metadata": {
        "id": "XGk7UZ04Isbr"
      },
      "source": [
        "df_num[\"s_num\"] = df_num[\"s_num\"].astype(str).astype(int)"
      ],
      "execution_count": 7,
      "outputs": []
    },
    {
      "cell_type": "code",
      "metadata": {
        "colab": {
          "base_uri": "https://localhost:8080/"
        },
        "id": "8VwKhRwBIaeR",
        "outputId": "448bd4de-fa67-4c53-97c1-796126d685be"
      },
      "source": [
        "print(\"Shape:\", df_num.shape)\n",
        "print(df_num.info())"
      ],
      "execution_count": 8,
      "outputs": [
        {
          "output_type": "stream",
          "text": [
            "Shape: (165406, 3)\n",
            "<class 'pandas.core.frame.DataFrame'>\n",
            "RangeIndex: 165406 entries, 0 to 165405\n",
            "Data columns (total 3 columns):\n",
            " #   Column  Non-Null Count   Dtype \n",
            "---  ------  --------------   ----- \n",
            " 0   s_num   165406 non-null  int64 \n",
            " 1   word    165406 non-null  object\n",
            " 2   tag     165406 non-null  object\n",
            "dtypes: int64(1), object(2)\n",
            "memory usage: 3.8+ MB\n",
            "None\n"
          ],
          "name": "stdout"
        }
      ]
    },
    {
      "cell_type": "code",
      "metadata": {
        "colab": {
          "base_uri": "https://localhost:8080/"
        },
        "id": "eeupKUFHJaNI",
        "outputId": "d44acde3-903b-4851-fd91-b2e067052d87"
      },
      "source": [
        "print(\"Unique labels:\")\n",
        "sorted(df_num.tag.unique())"
      ],
      "execution_count": 9,
      "outputs": [
        {
          "output_type": "stream",
          "text": [
            "Unique labels:\n"
          ],
          "name": "stdout"
        },
        {
          "output_type": "execute_result",
          "data": {
            "text/plain": [
              "['B-1',\n",
              " 'B-11',\n",
              " 'B-12',\n",
              " 'B-13',\n",
              " 'B-14',\n",
              " 'B-2',\n",
              " 'B-3',\n",
              " 'B-4',\n",
              " 'B-5',\n",
              " 'B-50',\n",
              " 'B-5B',\n",
              " 'B-6',\n",
              " 'B-7',\n",
              " 'B-ANAPHOR',\n",
              " 'B-BCK',\n",
              " 'B-CHANGE-FACTOR',\n",
              " 'B-EXPLICIT',\n",
              " 'B-ND',\n",
              " 'B-OTHER',\n",
              " 'B-RHETORICAL',\n",
              " 'I-1',\n",
              " 'I-11',\n",
              " 'I-12',\n",
              " 'I-13',\n",
              " 'I-14',\n",
              " 'I-2',\n",
              " 'I-3',\n",
              " 'I-4',\n",
              " 'I-5',\n",
              " 'I-50',\n",
              " 'I-5B',\n",
              " 'I-6',\n",
              " 'I-7',\n",
              " 'I-ANAPHOR',\n",
              " 'I-CHANGE-FACTOR',\n",
              " 'I-EXPLICIT',\n",
              " 'I-ND',\n",
              " 'I-OTHER',\n",
              " 'I-RHETORICAL',\n",
              " 'O']"
            ]
          },
          "metadata": {
            "tags": []
          },
          "execution_count": 9
        }
      ]
    },
    {
      "cell_type": "markdown",
      "metadata": {
        "id": "LGasl4GtAtz6"
      },
      "source": [
        "There are a bunch of labels that do not correlate to actual concepts in our causal model, so we need to transform those into \"O\" tags. In this notebook we are only concerned with tagging the actual concepts found in the causal model.  "
      ]
    },
    {
      "cell_type": "code",
      "metadata": {
        "id": "Y2WcqUMvsZLp"
      },
      "source": [
        "invalids = {\"B-ANAPHOR\", \"B-BCK\", \"B-CHANGE-FACTOR\", \"B-EXPLICIT\", \"B-ND\", \"B-OTHER\", \"B-RHETORICAL\", \\\n",
        "            \"I-ANAPHOR\", \"I-CHANGE-FACTOR\", \"I-EXPLICIT\", \"I-ND\", \"I-OTHER\", \"I-RHETORICAL\"}"
      ],
      "execution_count": 10,
      "outputs": []
    },
    {
      "cell_type": "code",
      "metadata": {
        "id": "ZXRLSxdJtgqG"
      },
      "source": [
        "df_num[\"tag\"] = df_num.apply(lambda x: \"O\" if x[\"tag\"] in invalids else x[\"tag\"], axis=1)"
      ],
      "execution_count": 11,
      "outputs": []
    },
    {
      "cell_type": "markdown",
      "metadata": {
        "id": "4s-AmUHnBJGH"
      },
      "source": [
        "Below are the label counts for all of the concepts (and the \"O\" label)."
      ]
    },
    {
      "cell_type": "code",
      "metadata": {
        "colab": {
          "base_uri": "https://localhost:8080/"
        },
        "id": "puH5e7aGJurI",
        "outputId": "c3045a23-792c-4a11-8e8e-7de5a7ab639f"
      },
      "source": [
        "print(df_num.tag.value_counts()[:10])"
      ],
      "execution_count": 12,
      "outputs": [
        {
          "output_type": "stream",
          "text": [
            "O       109530\n",
            "I-50     10262\n",
            "I-3       8151\n",
            "I-1       4483\n",
            "B-50      4158\n",
            "I-7       4135\n",
            "I-4       2921\n",
            "I-14      2681\n",
            "I-13      2184\n",
            "I-5B      2145\n",
            "Name: tag, dtype: int64\n"
          ],
          "name": "stdout"
        }
      ]
    },
    {
      "cell_type": "code",
      "metadata": {
        "colab": {
          "base_uri": "https://localhost:8080/"
        },
        "id": "sskP_o9JKKkS",
        "outputId": "9f5352ea-22c7-431a-cd11-a8954de6c07e"
      },
      "source": [
        "print(df_num.s_num.value_counts()[:10])"
      ],
      "execution_count": 13,
      "outputs": [
        {
          "output_type": "stream",
          "text": [
            "3130    139\n",
            "3128    139\n",
            "3129    139\n",
            "3127    139\n",
            "7789     93\n",
            "7790     93\n",
            "5884     83\n",
            "796      80\n",
            "794      80\n",
            "795      80\n",
            "Name: s_num, dtype: int64\n"
          ],
          "name": "stdout"
        }
      ]
    },
    {
      "cell_type": "markdown",
      "metadata": {
        "id": "1L43Hf-zBTFc"
      },
      "source": [
        "The ```SentenceGetter``` class extracts the sentences from the DataFrame."
      ]
    },
    {
      "cell_type": "code",
      "metadata": {
        "id": "w90kjo9QKR7Z"
      },
      "source": [
        "class SentenceGetter(object):\n",
        "  def __init__(self, data):\n",
        "      self.n_sent = 1\n",
        "      self.data = data\n",
        "      self.empty = False\n",
        "      agg_func = lambda s: [(w, l) for w, l in zip(s[\"word\"].values.tolist(), s[\"tag\"].values.tolist())]\n",
        "      self.grouped = self.data.groupby(\"s_num\").apply(agg_func)\n",
        "      self.sentences = [s for s in self.grouped]\n",
        "\n",
        "  def get_next(self):\n",
        "      try:\n",
        "          s = self.grouped[\"Sentence: {}\".format(self.n_sent)]\n",
        "          self.n_sent += 1\n",
        "          return s\n",
        "      except:\n",
        "          return None"
      ],
      "execution_count": 14,
      "outputs": []
    },
    {
      "cell_type": "code",
      "metadata": {
        "id": "8F1_4-_KKU9g"
      },
      "source": [
        "getter = SentenceGetter(df_num)"
      ],
      "execution_count": 15,
      "outputs": []
    },
    {
      "cell_type": "code",
      "metadata": {
        "colab": {
          "base_uri": "https://localhost:8080/"
        },
        "id": "lJLwVy9CKXKt",
        "outputId": "9bdc02a0-b245-4aaa-a147-82f9dda7bfde"
      },
      "source": [
        "sents = [[word[0] for word in sentence] for sentence in getter.sentences]\n",
        "sents[1]"
      ],
      "execution_count": 16,
      "outputs": [
        {
          "output_type": "execute_result",
          "data": {
            "text/plain": [
              "['If',\n",
              " 'the',\n",
              " 'coral',\n",
              " 'dies',\n",
              " ',',\n",
              " 'or',\n",
              " 'gets',\n",
              " 'bleached',\n",
              " ',',\n",
              " 'then',\n",
              " 'the',\n",
              " 'zooxanthellae',\n",
              " 'dies',\n",
              " '.']"
            ]
          },
          "metadata": {
            "tags": []
          },
          "execution_count": 16
        }
      ]
    },
    {
      "cell_type": "code",
      "metadata": {
        "colab": {
          "base_uri": "https://localhost:8080/"
        },
        "id": "kOAVvSsnKcAW",
        "outputId": "31460ee5-bf2e-4cad-be61-0abf3c8d4aa7"
      },
      "source": [
        "labels = [[s[1] for s in sentence] for sentence in getter.sentences]\n",
        "print(labels[1])"
      ],
      "execution_count": 17,
      "outputs": [
        {
          "output_type": "stream",
          "text": [
            "['O', 'O', 'O', 'O', 'O', 'O', 'B-50', 'I-50', 'O', 'O', 'O', 'B-7', 'I-7', 'O']\n"
          ],
          "name": "stdout"
        }
      ]
    },
    {
      "cell_type": "markdown",
      "metadata": {
        "id": "1xJVc90PBfaM"
      },
      "source": [
        "We create a set of all tag values, i.e. concepts. We also add ```PAD``` as a value, as it will be used by BERT as the token for sequence padding.\n",
        "\n",
        "The ```tag2idx``` dictionary assigns each tag a numerical value, as we are required by BERT to represent labels via integers."
      ]
    },
    {
      "cell_type": "code",
      "metadata": {
        "id": "-TSHA42PKm5K"
      },
      "source": [
        "tag_values = list(set(df_num[\"tag\"].values))\n",
        "tag_values.append(\"PAD\")\n",
        "tag2idx = {t: i for i, t in enumerate(tag_values)}"
      ],
      "execution_count": 18,
      "outputs": []
    },
    {
      "cell_type": "code",
      "metadata": {
        "id": "jefGnD9fLJjC",
        "colab": {
          "base_uri": "https://localhost:8080/"
        },
        "outputId": "38f0ce8f-1776-44e5-e521-b1ea4563ef00"
      },
      "source": [
        "!pip install transformers\n",
        "!pip install torch"
      ],
      "execution_count": 19,
      "outputs": [
        {
          "output_type": "stream",
          "text": [
            "Requirement already satisfied: transformers in /usr/local/lib/python3.7/dist-packages (4.5.1)\n",
            "Requirement already satisfied: requests in /usr/local/lib/python3.7/dist-packages (from transformers) (2.23.0)\n",
            "Requirement already satisfied: importlib-metadata; python_version < \"3.8\" in /usr/local/lib/python3.7/dist-packages (from transformers) (3.10.1)\n",
            "Requirement already satisfied: numpy>=1.17 in /usr/local/lib/python3.7/dist-packages (from transformers) (1.19.5)\n",
            "Requirement already satisfied: regex!=2019.12.17 in /usr/local/lib/python3.7/dist-packages (from transformers) (2019.12.20)\n",
            "Requirement already satisfied: sacremoses in /usr/local/lib/python3.7/dist-packages (from transformers) (0.0.45)\n",
            "Requirement already satisfied: packaging in /usr/local/lib/python3.7/dist-packages (from transformers) (20.9)\n",
            "Requirement already satisfied: tokenizers<0.11,>=0.10.1 in /usr/local/lib/python3.7/dist-packages (from transformers) (0.10.2)\n",
            "Requirement already satisfied: tqdm>=4.27 in /usr/local/lib/python3.7/dist-packages (from transformers) (4.41.1)\n",
            "Requirement already satisfied: filelock in /usr/local/lib/python3.7/dist-packages (from transformers) (3.0.12)\n",
            "Requirement already satisfied: certifi>=2017.4.17 in /usr/local/lib/python3.7/dist-packages (from requests->transformers) (2020.12.5)\n",
            "Requirement already satisfied: urllib3!=1.25.0,!=1.25.1,<1.26,>=1.21.1 in /usr/local/lib/python3.7/dist-packages (from requests->transformers) (1.24.3)\n",
            "Requirement already satisfied: chardet<4,>=3.0.2 in /usr/local/lib/python3.7/dist-packages (from requests->transformers) (3.0.4)\n",
            "Requirement already satisfied: idna<3,>=2.5 in /usr/local/lib/python3.7/dist-packages (from requests->transformers) (2.10)\n",
            "Requirement already satisfied: typing-extensions>=3.6.4; python_version < \"3.8\" in /usr/local/lib/python3.7/dist-packages (from importlib-metadata; python_version < \"3.8\"->transformers) (3.7.4.3)\n",
            "Requirement already satisfied: zipp>=0.5 in /usr/local/lib/python3.7/dist-packages (from importlib-metadata; python_version < \"3.8\"->transformers) (3.4.1)\n",
            "Requirement already satisfied: six in /usr/local/lib/python3.7/dist-packages (from sacremoses->transformers) (1.15.0)\n",
            "Requirement already satisfied: joblib in /usr/local/lib/python3.7/dist-packages (from sacremoses->transformers) (1.0.1)\n",
            "Requirement already satisfied: click in /usr/local/lib/python3.7/dist-packages (from sacremoses->transformers) (7.1.2)\n",
            "Requirement already satisfied: pyparsing>=2.0.2 in /usr/local/lib/python3.7/dist-packages (from packaging->transformers) (2.4.7)\n",
            "Requirement already satisfied: torch in /usr/local/lib/python3.7/dist-packages (1.8.1+cu101)\n",
            "Requirement already satisfied: numpy in /usr/local/lib/python3.7/dist-packages (from torch) (1.19.5)\n",
            "Requirement already satisfied: typing-extensions in /usr/local/lib/python3.7/dist-packages (from torch) (3.7.4.3)\n"
          ],
          "name": "stdout"
        }
      ]
    },
    {
      "cell_type": "code",
      "metadata": {
        "colab": {
          "base_uri": "https://localhost:8080/",
          "height": 35
        },
        "id": "JbKe4ZBwLFGw",
        "outputId": "677ca24f-02e1-4bd7-c6ba-ecdb9d2fe801"
      },
      "source": [
        "import torch\n",
        "from torch.utils.data import TensorDataset, DataLoader, RandomSampler, SequentialSampler\n",
        "from transformers import BertTokenizer, BertConfig\n",
        "\n",
        "from keras.preprocessing.sequence import pad_sequences\n",
        "from sklearn.model_selection import train_test_split\n",
        "\n",
        "torch.__version__"
      ],
      "execution_count": 20,
      "outputs": [
        {
          "output_type": "execute_result",
          "data": {
            "application/vnd.google.colaboratory.intrinsic+json": {
              "type": "string"
            },
            "text/plain": [
              "'1.8.1+cu101'"
            ]
          },
          "metadata": {
            "tags": []
          },
          "execution_count": 20
        }
      ]
    },
    {
      "cell_type": "code",
      "metadata": {
        "colab": {
          "base_uri": "https://localhost:8080/",
          "height": 35
        },
        "id": "RHTwRuquLVt4",
        "outputId": "a538176a-f151-44de-976f-3a4f9844ab21"
      },
      "source": [
        "device = torch.device(\"cuda\" if torch.cuda.is_available() else \"cpu\")\n",
        "n_gpu = torch.cuda.device_count()\n",
        "torch.cuda.get_device_name(0)"
      ],
      "execution_count": 21,
      "outputs": [
        {
          "output_type": "execute_result",
          "data": {
            "application/vnd.google.colaboratory.intrinsic+json": {
              "type": "string"
            },
            "text/plain": [
              "'Tesla P100-PCIE-16GB'"
            ]
          },
          "metadata": {
            "tags": []
          },
          "execution_count": 21
        }
      ]
    },
    {
      "cell_type": "markdown",
      "metadata": {
        "id": "VBP0R0ynDEAk"
      },
      "source": [
        "The next step is tokenize the sentences, get their input IDs from BERT, and tensorize them for training."
      ]
    },
    {
      "cell_type": "code",
      "metadata": {
        "id": "VcnShjpgLnLA"
      },
      "source": [
        "tokenizer = BertTokenizer.from_pretrained('bert-base-cased', do_lower_case=False)"
      ],
      "execution_count": 22,
      "outputs": []
    },
    {
      "cell_type": "code",
      "metadata": {
        "id": "GO_meqzP1bYx"
      },
      "source": [
        "def tokenize_with_labels(sentence, text_labels):\n",
        "    tokenized_sentence = []\n",
        "    labels = []\n",
        "\n",
        "    for word, label in zip(sentence, text_labels):\n",
        "        tokenized_word = tokenizer.tokenize(word)\n",
        "        n_subwords = len(tokenized_word)\n",
        "        tokenized_sentence.extend(tokenized_word)\n",
        "        labels.extend([label] * n_subwords)\n",
        "\n",
        "    return tokenized_sentence, labels"
      ],
      "execution_count": 23,
      "outputs": []
    },
    {
      "cell_type": "code",
      "metadata": {
        "id": "9zOMXhTWBPTp"
      },
      "source": [
        "tokenized_texts_and_labels = [tokenize_with_labels(sent, labs) for sent, labs in zip(sents, labels)]"
      ],
      "execution_count": 24,
      "outputs": []
    },
    {
      "cell_type": "code",
      "metadata": {
        "id": "0xRMBKa3BqpZ"
      },
      "source": [
        "tokenized_texts = [token_label_pair[0] for token_label_pair in tokenized_texts_and_labels]\n",
        "labels = [token_label_pair[1] for token_label_pair in tokenized_texts_and_labels]"
      ],
      "execution_count": 25,
      "outputs": []
    },
    {
      "cell_type": "markdown",
      "metadata": {
        "id": "eMkG9iT3CTkm"
      },
      "source": [
        "The ```MAX_LEN``` hyperparameter was set to the maximum length instance."
      ]
    },
    {
      "cell_type": "code",
      "metadata": {
        "id": "6nJUtf_SLP1e",
        "colab": {
          "base_uri": "https://localhost:8080/"
        },
        "outputId": "bf7520fa-1b3d-49ca-e325-88c02be9b80a"
      },
      "source": [
        "MAX_LEN = max(map(len, tokenized_texts))\n",
        "BATCH_SIZE = 32\n",
        "print(\"MAX_LEN:\",MAX_LEN)"
      ],
      "execution_count": 26,
      "outputs": [
        {
          "output_type": "stream",
          "text": [
            "MAX_LEN: 154\n"
          ],
          "name": "stdout"
        }
      ]
    },
    {
      "cell_type": "code",
      "metadata": {
        "id": "llX95hrZBxUA"
      },
      "source": [
        "input_ids = pad_sequences([tokenizer.convert_tokens_to_ids(txt) for txt in tokenized_texts],\n",
        "                          maxlen=MAX_LEN, dtype=\"long\", value=0.0,\n",
        "                          truncating=\"post\", padding=\"post\")"
      ],
      "execution_count": 27,
      "outputs": []
    },
    {
      "cell_type": "code",
      "metadata": {
        "id": "8xyx6SrFB3YG"
      },
      "source": [
        "tags = pad_sequences([[tag2idx.get(l) for l in lab] for lab in labels],\n",
        "                     maxlen=MAX_LEN, value=tag2idx[\"PAD\"], padding=\"post\",\n",
        "                     dtype=\"long\", truncating=\"post\")"
      ],
      "execution_count": 28,
      "outputs": []
    },
    {
      "cell_type": "code",
      "metadata": {
        "id": "Fl4a3NmiB5uy"
      },
      "source": [
        "attention_masks = [[float(i != 0.0) for i in ii] for ii in input_ids]"
      ],
      "execution_count": 29,
      "outputs": []
    },
    {
      "cell_type": "code",
      "metadata": {
        "id": "jlRsLmscB8Lt"
      },
      "source": [
        "tr_inputs, val_inputs, tr_tags, val_tags = train_test_split(input_ids, tags,\n",
        "                                                            random_state=2018, test_size=0.1)\n",
        "tr_masks, val_masks, _, _ = train_test_split(attention_masks, input_ids,\n",
        "                                             random_state=2018, test_size=0.1)"
      ],
      "execution_count": 30,
      "outputs": []
    },
    {
      "cell_type": "code",
      "metadata": {
        "id": "vEZZ7LDhB_fT"
      },
      "source": [
        "tr_inputs = torch.tensor(tr_inputs)\n",
        "val_inputs = torch.tensor(val_inputs)\n",
        "tr_tags = torch.tensor(tr_tags)\n",
        "val_tags = torch.tensor(val_tags)\n",
        "tr_masks = torch.tensor(tr_masks)\n",
        "val_masks = torch.tensor(val_masks)"
      ],
      "execution_count": 31,
      "outputs": []
    },
    {
      "cell_type": "code",
      "metadata": {
        "id": "Rr8QJQxoCC5k"
      },
      "source": [
        "train_data = TensorDataset(tr_inputs, tr_masks, tr_tags)\n",
        "train_sampler = RandomSampler(train_data)\n",
        "train_dataloader = DataLoader(train_data, sampler=train_sampler, batch_size=BATCH_SIZE)\n",
        "\n",
        "valid_data = TensorDataset(val_inputs, val_masks, val_tags)\n",
        "valid_sampler = SequentialSampler(valid_data)\n",
        "valid_dataloader = DataLoader(valid_data, sampler=valid_sampler, batch_size=BATCH_SIZE)"
      ],
      "execution_count": 32,
      "outputs": []
    },
    {
      "cell_type": "code",
      "metadata": {
        "colab": {
          "base_uri": "https://localhost:8080/",
          "height": 35
        },
        "id": "O3pSx7aHCJTg",
        "outputId": "eac92500-9aeb-489d-aa38-a6a14abd92d9"
      },
      "source": [
        "import transformers\n",
        "from transformers import BertForTokenClassification, AdamW\n",
        "\n",
        "transformers.__version__"
      ],
      "execution_count": 33,
      "outputs": [
        {
          "output_type": "execute_result",
          "data": {
            "application/vnd.google.colaboratory.intrinsic+json": {
              "type": "string"
            },
            "text/plain": [
              "'4.5.1'"
            ]
          },
          "metadata": {
            "tags": []
          },
          "execution_count": 33
        }
      ]
    },
    {
      "cell_type": "markdown",
      "metadata": {
        "id": "MVgoRB7EDRGc"
      },
      "source": [
        "Create our instance of the PyTorch pretrained BERT model for set up for token classification. \n",
        "\n",
        "We will also make sure it runs on our GPU."
      ]
    },
    {
      "cell_type": "code",
      "metadata": {
        "colab": {
          "base_uri": "https://localhost:8080/"
        },
        "id": "iwINCHZ3CMfT",
        "outputId": "3b7ec355-d2c9-4b50-eebd-ed3600b7b886"
      },
      "source": [
        "model = BertForTokenClassification.from_pretrained(\n",
        "    \"bert-base-cased\",\n",
        "    num_labels=len(tag2idx),\n",
        "    output_attentions = False,\n",
        "    output_hidden_states = False\n",
        ")"
      ],
      "execution_count": 34,
      "outputs": [
        {
          "output_type": "stream",
          "text": [
            "Some weights of the model checkpoint at bert-base-cased were not used when initializing BertForTokenClassification: ['cls.predictions.bias', 'cls.predictions.transform.dense.weight', 'cls.predictions.transform.dense.bias', 'cls.predictions.decoder.weight', 'cls.seq_relationship.weight', 'cls.seq_relationship.bias', 'cls.predictions.transform.LayerNorm.weight', 'cls.predictions.transform.LayerNorm.bias']\n",
            "- This IS expected if you are initializing BertForTokenClassification from the checkpoint of a model trained on another task or with another architecture (e.g. initializing a BertForSequenceClassification model from a BertForPreTraining model).\n",
            "- This IS NOT expected if you are initializing BertForTokenClassification from the checkpoint of a model that you expect to be exactly identical (initializing a BertForSequenceClassification model from a BertForSequenceClassification model).\n",
            "Some weights of BertForTokenClassification were not initialized from the model checkpoint at bert-base-cased and are newly initialized: ['classifier.weight', 'classifier.bias']\n",
            "You should probably TRAIN this model on a down-stream task to be able to use it for predictions and inference.\n"
          ],
          "name": "stderr"
        }
      ]
    },
    {
      "cell_type": "code",
      "metadata": {
        "id": "qB5fREEjC7aT"
      },
      "source": [
        "model.cuda();"
      ],
      "execution_count": 35,
      "outputs": []
    },
    {
      "cell_type": "markdown",
      "metadata": {
        "id": "E-LI7r1LDdvC"
      },
      "source": [
        "Set parameters for fine-tuning, then train the model."
      ]
    },
    {
      "cell_type": "code",
      "metadata": {
        "id": "Py24O6EcCvfX"
      },
      "source": [
        "FULL_FINETUNING = True\n",
        "if FULL_FINETUNING:\n",
        "    param_optimizer = list(model.named_parameters())\n",
        "    no_decay = ['bias', 'gamma', 'beta']\n",
        "    optimizer_grouped_parameters = [\n",
        "        {'params': [p for n, p in param_optimizer if not any(nd in n for nd in no_decay)],\n",
        "         'weight_decay_rate': 0.01},\n",
        "        {'params': [p for n, p in param_optimizer if any(nd in n for nd in no_decay)],\n",
        "         'weight_decay_rate': 0.0}\n",
        "    ]\n",
        "else:\n",
        "    param_optimizer = list(model.classifier.named_parameters())\n",
        "    optimizer_grouped_parameters = [{\"params\": [p for n, p in param_optimizer]}]\n",
        "\n",
        "optimizer = AdamW(\n",
        "    optimizer_grouped_parameters,\n",
        "    lr=3e-5,\n",
        "    eps=1e-8\n",
        ")"
      ],
      "execution_count": 36,
      "outputs": []
    },
    {
      "cell_type": "code",
      "metadata": {
        "id": "U17hAShPm6z_"
      },
      "source": [
        "from transformers import get_linear_schedule_with_warmup\n",
        "\n",
        "EPOCHS = 3\n",
        "max_grad_norm = 1.0\n",
        "\n",
        "# Total number of training steps is number of batches * number of epochs.\n",
        "total_steps = len(train_dataloader) * EPOCHS\n",
        "\n",
        "# Create the learning rate scheduler.\n",
        "scheduler = get_linear_schedule_with_warmup(\n",
        "    optimizer,\n",
        "    num_warmup_steps=0,\n",
        "    num_training_steps=total_steps\n",
        ")"
      ],
      "execution_count": 37,
      "outputs": []
    },
    {
      "cell_type": "code",
      "metadata": {
        "colab": {
          "base_uri": "https://localhost:8080/"
        },
        "id": "rviLyViGnA3y",
        "outputId": "cb894a59-fd04-422e-e621-9c46125e63a7"
      },
      "source": [
        "!pip install seqeval\n",
        "from seqeval.metrics import f1_score, accuracy_score"
      ],
      "execution_count": 38,
      "outputs": [
        {
          "output_type": "stream",
          "text": [
            "Requirement already satisfied: seqeval in /usr/local/lib/python3.7/dist-packages (1.2.2)\n",
            "Requirement already satisfied: scikit-learn>=0.21.3 in /usr/local/lib/python3.7/dist-packages (from seqeval) (0.22.2.post1)\n",
            "Requirement already satisfied: numpy>=1.14.0 in /usr/local/lib/python3.7/dist-packages (from seqeval) (1.19.5)\n",
            "Requirement already satisfied: joblib>=0.11 in /usr/local/lib/python3.7/dist-packages (from scikit-learn>=0.21.3->seqeval) (1.0.1)\n",
            "Requirement already satisfied: scipy>=0.17.0 in /usr/local/lib/python3.7/dist-packages (from scikit-learn>=0.21.3->seqeval) (1.4.1)\n"
          ],
          "name": "stdout"
        }
      ]
    },
    {
      "cell_type": "code",
      "metadata": {
        "colab": {
          "base_uri": "https://localhost:8080/"
        },
        "id": "VrxDxTN5nDJ9",
        "outputId": "c69cafbd-739e-49dd-9fcf-386757561338"
      },
      "source": [
        "from tqdm import tqdm, trange\n",
        "\n",
        "## Store the average loss after each epoch so we can plot them.\n",
        "loss_values, validation_loss_values = [], []\n",
        "\n",
        "for _ in trange(EPOCHS, desc=\"Epoch\"):\n",
        "    # ========================================\n",
        "    #               Training\n",
        "    # ========================================\n",
        "    # Perform one full pass over the training set.\n",
        "\n",
        "    # Put the model into training mode.\n",
        "    model.train()\n",
        "    # Reset the total loss for this epoch.\n",
        "    total_loss = 0\n",
        "\n",
        "    # Training loop\n",
        "    for step, batch in enumerate(train_dataloader):\n",
        "        # add batch to gpu\n",
        "        batch = tuple(t.to(device) for t in batch)\n",
        "        b_input_ids, b_input_mask, b_labels = batch\n",
        "        # Always clear any previously calculated gradients before performing a backward pass.\n",
        "        model.zero_grad()\n",
        "        # forward pass\n",
        "        # This will return the loss (rather than the model output)\n",
        "        # because we have provided the `labels`.\n",
        "        outputs = model(b_input_ids, token_type_ids=None,\n",
        "                        attention_mask=b_input_mask, labels=b_labels)\n",
        "        # get the loss\n",
        "        loss = outputs[0]\n",
        "        # Perform a backward pass to calculate the gradients.\n",
        "        loss.backward()\n",
        "        # track train loss\n",
        "        total_loss += loss.item()\n",
        "        # Clip the norm of the gradient\n",
        "        # This is to help prevent the \"exploding gradients\" problem.\n",
        "        torch.nn.utils.clip_grad_norm_(parameters=model.parameters(), max_norm=max_grad_norm)\n",
        "        # update parameters\n",
        "        optimizer.step()\n",
        "        # Update the learning rate.\n",
        "        scheduler.step()\n",
        "\n",
        "    # Calculate the average loss over the training data.\n",
        "    avg_train_loss = total_loss / len(train_dataloader)\n",
        "    print(\"Average train loss: {}\".format(avg_train_loss))\n",
        "\n",
        "    # Store the loss value for plotting the learning curve.\n",
        "    loss_values.append(avg_train_loss)\n",
        "\n",
        "\n",
        "    # ========================================\n",
        "    #               Validation\n",
        "    # ========================================\n",
        "    # After the completion of each training epoch, measure our performance on\n",
        "    # our validation set.\n",
        "\n",
        "    # Put the model into evaluation mode\n",
        "    model.eval()\n",
        "    # Reset the validation loss for this epoch.\n",
        "    eval_loss, eval_accuracy = 0, 0\n",
        "    nb_eval_steps, nb_eval_examples = 0, 0\n",
        "    predictions , true_labels = [], []\n",
        "    for batch in valid_dataloader:\n",
        "        batch = tuple(t.to(device) for t in batch)\n",
        "        b_input_ids, b_input_mask, b_labels = batch\n",
        "\n",
        "        # Telling the model not to compute or store gradients,\n",
        "        # saving memory and speeding up validation\n",
        "        with torch.no_grad():\n",
        "            # Forward pass, calculate logit predictions.\n",
        "            # This will return the logits rather than the loss because we have not provided labels.\n",
        "            outputs = model(b_input_ids, token_type_ids=None,\n",
        "                            attention_mask=b_input_mask, labels=b_labels)\n",
        "        # Move logits and labels to CPU\n",
        "        logits = outputs[1].detach().cpu().numpy()\n",
        "        label_ids = b_labels.to('cpu').numpy()\n",
        "\n",
        "        # Calculate the accuracy for this batch of test sentences.\n",
        "        eval_loss += outputs[0].mean().item()\n",
        "        predictions.extend([list(p) for p in np.argmax(logits, axis=2)])\n",
        "        true_labels.extend(label_ids)\n",
        "\n",
        "    eval_loss = eval_loss / len(valid_dataloader)\n",
        "    validation_loss_values.append(eval_loss)\n",
        "    print(\"Validation loss: {}\".format(eval_loss))\n",
        "    pred_tags = [tag_values[p_i] for p, l in zip(predictions, true_labels)\n",
        "                                 for p_i, l_i in zip(p, l) if tag_values[l_i] != \"PAD\"]\n",
        "    valid_tags = [tag_values[l_i] for l in true_labels\n",
        "                                  for l_i in l if tag_values[l_i] != \"PAD\"]\n",
        "    print(\"Validation Accuracy: {}\".format(accuracy_score(valid_tags, pred_tags)))\n",
        "    print()"
      ],
      "execution_count": 39,
      "outputs": [
        {
          "output_type": "stream",
          "text": [
            "\rEpoch:   0%|          | 0/3 [00:00<?, ?it/s]"
          ],
          "name": "stderr"
        },
        {
          "output_type": "stream",
          "text": [
            "Average train loss: 0.7160649415004114\n"
          ],
          "name": "stdout"
        },
        {
          "output_type": "stream",
          "text": [
            "\rEpoch:  33%|███▎      | 1/3 [02:08<04:16, 128.43s/it]"
          ],
          "name": "stderr"
        },
        {
          "output_type": "stream",
          "text": [
            "Validation loss: 0.3768421200842693\n",
            "Validation Accuracy: 0.8764240102171137\n",
            "\n",
            "Average train loss: 0.3236939653116441\n"
          ],
          "name": "stdout"
        },
        {
          "output_type": "stream",
          "text": [
            "\rEpoch:  67%|██████▋   | 2/3 [04:16<02:08, 128.41s/it]"
          ],
          "name": "stderr"
        },
        {
          "output_type": "stream",
          "text": [
            "Validation loss: 0.29826826216845675\n",
            "Validation Accuracy: 0.9094763729246488\n",
            "\n",
            "Average train loss: 0.23571931776601518\n"
          ],
          "name": "stdout"
        },
        {
          "output_type": "stream",
          "text": [
            "Epoch: 100%|██████████| 3/3 [06:25<00:00, 128.39s/it]"
          ],
          "name": "stderr"
        },
        {
          "output_type": "stream",
          "text": [
            "Validation loss: 0.28399777720714436\n",
            "Validation Accuracy: 0.91514687100894\n",
            "\n"
          ],
          "name": "stdout"
        },
        {
          "output_type": "stream",
          "text": [
            "\n"
          ],
          "name": "stderr"
        }
      ]
    },
    {
      "cell_type": "markdown",
      "metadata": {
        "id": "0fVc4TzsDlZN"
      },
      "source": [
        "See where the training loss meets the validation loss, and examine the accuracy score, classification report, and confusion matrix of the validation instances."
      ]
    },
    {
      "cell_type": "code",
      "metadata": {
        "colab": {
          "base_uri": "https://localhost:8080/",
          "height": 427
        },
        "id": "GUSZG-KrqP6G",
        "outputId": "817c7283-c6a2-4acf-840c-48df93df8edd"
      },
      "source": [
        "import matplotlib.pyplot as plt\n",
        "%matplotlib inline\n",
        "\n",
        "import seaborn as sns\n",
        "\n",
        "# Use plot styling from seaborn.\n",
        "sns.set(style='darkgrid')\n",
        "\n",
        "# Increase the plot size and font size.\n",
        "sns.set(font_scale=1.5)\n",
        "plt.rcParams[\"figure.figsize\"] = (12,6)\n",
        "\n",
        "# Plot the learning curve.\n",
        "plt.plot(loss_values, 'b-o', label=\"training loss\")\n",
        "plt.plot(validation_loss_values, 'r-o', label=\"validation loss\")\n",
        "\n",
        "# Label the plot.\n",
        "plt.title(\"Learning curve\")\n",
        "plt.xlabel(\"Epoch\")\n",
        "plt.ylabel(\"Loss\")\n",
        "plt.legend()\n",
        "\n",
        "plt.show()"
      ],
      "execution_count": 40,
      "outputs": [
        {
          "output_type": "display_data",
          "data": {
            "image/png": "[encoded data removed]",
            "text/plain": [
              "<Figure size 864x432 with 1 Axes>"
            ]
          },
          "metadata": {
            "tags": []
          }
        }
      ]
    },
    {
      "cell_type": "code",
      "metadata": {
        "colab": {
          "base_uri": "https://localhost:8080/"
        },
        "id": "zfmnG38nrT4c",
        "outputId": "d2a4ad17-67bc-4720-fc90-67e7c32ff050"
      },
      "source": [
        "from sklearn.metrics import classification_report\n",
        "print(classification_report(valid_tags, pred_tags))"
      ],
      "execution_count": 41,
      "outputs": [
        {
          "output_type": "stream",
          "text": [
            "              precision    recall  f1-score   support\n",
            "\n",
            "         B-1       0.82      0.90      0.85       183\n",
            "        B-11       0.83      0.75      0.79        57\n",
            "        B-12       0.77      0.67      0.71        30\n",
            "        B-13       0.88      0.85      0.86       124\n",
            "        B-14       0.84      0.72      0.77        67\n",
            "         B-2       0.93      0.37      0.53        35\n",
            "         B-3       0.79      0.86      0.83       226\n",
            "         B-4       0.81      0.74      0.78        86\n",
            "         B-5       0.68      0.71      0.70       107\n",
            "        B-50       0.82      0.86      0.84       549\n",
            "        B-5B       0.80      0.23      0.36        35\n",
            "         B-6       0.80      0.89      0.84        64\n",
            "         B-7       0.76      0.86      0.81       184\n",
            "         I-1       0.88      0.93      0.90       486\n",
            "        I-11       0.73      0.76      0.75       118\n",
            "        I-12       0.87      0.99      0.93       159\n",
            "        I-13       0.86      0.89      0.87       324\n",
            "        I-14       0.81      0.97      0.89       385\n",
            "         I-2       0.88      0.80      0.84       195\n",
            "         I-3       0.91      0.91      0.91       995\n",
            "         I-4       0.81      0.94      0.87       325\n",
            "         I-5       0.80      0.85      0.83       262\n",
            "        I-50       0.88      0.94      0.91      1727\n",
            "        I-5B       0.53      0.75      0.62       142\n",
            "         I-6       0.81      0.93      0.86       102\n",
            "         I-7       0.90      0.90      0.90       534\n",
            "           O       0.96      0.93      0.95     12074\n",
            "\n",
            "    accuracy                           0.92     19575\n",
            "   macro avg       0.82      0.81      0.80     19575\n",
            "weighted avg       0.92      0.92      0.92     19575\n",
            "\n"
          ],
          "name": "stdout"
        }
      ]
    },
    {
      "cell_type": "code",
      "metadata": {
        "colab": {
          "base_uri": "https://localhost:8080/"
        },
        "id": "EQ2-TQTjr1Qd",
        "outputId": "2f2ff862-1bf2-428a-f858-92d0398c1c0f"
      },
      "source": [
        "from sklearn.metrics import confusion_matrix\n",
        "np.set_printoptions(threshold=50)\n",
        "print(confusion_matrix(valid_tags, pred_tags))"
      ],
      "execution_count": 42,
      "outputs": [
        {
          "output_type": "stream",
          "text": [
            "[[  164     0     0 ...     0     0     9]\n",
            " [    0    43     1 ...     0     0     2]\n",
            " [    0     0    20 ...     0     0     0]\n",
            " ...\n",
            " [    0     0     0 ...    95     0     6]\n",
            " [    0     0     0 ...     0   481    32]\n",
            " [   22     6     5 ...    18    41 11232]]\n"
          ],
          "name": "stdout"
        }
      ]
    },
    {
      "cell_type": "markdown",
      "metadata": {
        "id": "u2cFHCKyD8Yy"
      },
      "source": [
        "Now it's time to evaluate the test data. Like the training dataset, this partition also needs to be cleaned and stripped.\n"
      ]
    },
    {
      "cell_type": "code",
      "metadata": {
        "id": "lcC9nSvQseBK"
      },
      "source": [
        "FILE_NAME = \"EBA1415-CoralBleaching-little-reln-repeat-iob2.csv\""
      ],
      "execution_count": 43,
      "outputs": []
    },
    {
      "cell_type": "code",
      "metadata": {
        "colab": {
          "base_uri": "https://localhost:8080/",
          "height": 824
        },
        "id": "3UFwWiN1seFq",
        "outputId": "bc33f7c1-64cc-4bf4-a1a0-841443ea6566"
      },
      "source": [
        "df = pd.read_csv(DATA_PATH + FILE_NAME)\n",
        "df.head(25)"
      ],
      "execution_count": 44,
      "outputs": [
        {
          "output_type": "execute_result",
          "data": {
            "text/html": [
              "<div>\n",
              "<style scoped>\n",
              "    .dataframe tbody tr th:only-of-type {\n",
              "        vertical-align: middle;\n",
              "    }\n",
              "\n",
              "    .dataframe tbody tr th {\n",
              "        vertical-align: top;\n",
              "    }\n",
              "\n",
              "    .dataframe thead th {\n",
              "        text-align: right;\n",
              "    }\n",
              "</style>\n",
              "<table border=\"1\" class=\"dataframe\">\n",
              "  <thead>\n",
              "    <tr style=\"text-align: right;\">\n",
              "      <th></th>\n",
              "      <th>Sentence #</th>\n",
              "      <th>Word</th>\n",
              "      <th>STag</th>\n",
              "      <th>Tag</th>\n",
              "      <th>Relation</th>\n",
              "      <th>File</th>\n",
              "    </tr>\n",
              "  </thead>\n",
              "  <tbody>\n",
              "    <tr>\n",
              "      <th>0</th>\n",
              "      <td>Sentence 1</td>\n",
              "      <td>No</td>\n",
              "      <td>O</td>\n",
              "      <td>O</td>\n",
              "      <td>O</td>\n",
              "      <td>EBA1415_TFBM_2_CB_ES-05548</td>\n",
              "    </tr>\n",
              "    <tr>\n",
              "      <th>1</th>\n",
              "      <td>NaN</td>\n",
              "      <td>essay</td>\n",
              "      <td>O</td>\n",
              "      <td>O</td>\n",
              "      <td>O</td>\n",
              "      <td>NaN</td>\n",
              "    </tr>\n",
              "    <tr>\n",
              "      <th>2</th>\n",
              "      <td>NaN</td>\n",
              "      <td>/</td>\n",
              "      <td>O</td>\n",
              "      <td>O</td>\n",
              "      <td>O</td>\n",
              "      <td>NaN</td>\n",
              "    </tr>\n",
              "    <tr>\n",
              "      <th>3</th>\n",
              "      <td>NaN</td>\n",
              "      <td>/</td>\n",
              "      <td>O</td>\n",
              "      <td>O</td>\n",
              "      <td>O</td>\n",
              "      <td>NaN</td>\n",
              "    </tr>\n",
              "    <tr>\n",
              "      <th>4</th>\n",
              "      <td>Sentence 2</td>\n",
              "      <td>Somethings</td>\n",
              "      <td>O</td>\n",
              "      <td>O</td>\n",
              "      <td>O</td>\n",
              "      <td>EBA1415_TRJA_11_CB_ES-06110</td>\n",
              "    </tr>\n",
              "    <tr>\n",
              "      <th>5</th>\n",
              "      <td>NaN</td>\n",
              "      <td>that</td>\n",
              "      <td>O</td>\n",
              "      <td>O</td>\n",
              "      <td>O</td>\n",
              "      <td>NaN</td>\n",
              "    </tr>\n",
              "    <tr>\n",
              "      <th>6</th>\n",
              "      <td>NaN</td>\n",
              "      <td>lead</td>\n",
              "      <td>O</td>\n",
              "      <td>O</td>\n",
              "      <td>O</td>\n",
              "      <td>NaN</td>\n",
              "    </tr>\n",
              "    <tr>\n",
              "      <th>7</th>\n",
              "      <td>NaN</td>\n",
              "      <td>to</td>\n",
              "      <td>O</td>\n",
              "      <td>O</td>\n",
              "      <td>O</td>\n",
              "      <td>NaN</td>\n",
              "    </tr>\n",
              "    <tr>\n",
              "      <th>8</th>\n",
              "      <td>NaN</td>\n",
              "      <td>the</td>\n",
              "      <td>O</td>\n",
              "      <td>O</td>\n",
              "      <td>O</td>\n",
              "      <td>NaN</td>\n",
              "    </tr>\n",
              "    <tr>\n",
              "      <th>9</th>\n",
              "      <td>NaN</td>\n",
              "      <td>differences</td>\n",
              "      <td>O</td>\n",
              "      <td>O</td>\n",
              "      <td>O</td>\n",
              "      <td>NaN</td>\n",
              "    </tr>\n",
              "    <tr>\n",
              "      <th>10</th>\n",
              "      <td>NaN</td>\n",
              "      <td>are</td>\n",
              "      <td>O</td>\n",
              "      <td>O</td>\n",
              "      <td>O</td>\n",
              "      <td>NaN</td>\n",
              "    </tr>\n",
              "    <tr>\n",
              "      <th>11</th>\n",
              "      <td>NaN</td>\n",
              "      <td>.</td>\n",
              "      <td>O</td>\n",
              "      <td>O</td>\n",
              "      <td>O</td>\n",
              "      <td>NaN</td>\n",
              "    </tr>\n",
              "    <tr>\n",
              "      <th>12</th>\n",
              "      <td>NaN</td>\n",
              "      <td>.</td>\n",
              "      <td>O</td>\n",
              "      <td>O</td>\n",
              "      <td>O</td>\n",
              "      <td>NaN</td>\n",
              "    </tr>\n",
              "    <tr>\n",
              "      <th>13</th>\n",
              "      <td>NaN</td>\n",
              "      <td>it</td>\n",
              "      <td>O</td>\n",
              "      <td>O</td>\n",
              "      <td>O</td>\n",
              "      <td>NaN</td>\n",
              "    </tr>\n",
              "    <tr>\n",
              "      <th>14</th>\n",
              "      <td>NaN</td>\n",
              "      <td>is</td>\n",
              "      <td>O</td>\n",
              "      <td>O</td>\n",
              "      <td>O</td>\n",
              "      <td>NaN</td>\n",
              "    </tr>\n",
              "    <tr>\n",
              "      <th>15</th>\n",
              "      <td>NaN</td>\n",
              "      <td>a</td>\n",
              "      <td>O</td>\n",
              "      <td>O</td>\n",
              "      <td>O</td>\n",
              "      <td>NaN</td>\n",
              "    </tr>\n",
              "    <tr>\n",
              "      <th>16</th>\n",
              "      <td>NaN</td>\n",
              "      <td>problem</td>\n",
              "      <td>O</td>\n",
              "      <td>O</td>\n",
              "      <td>O</td>\n",
              "      <td>NaN</td>\n",
              "    </tr>\n",
              "    <tr>\n",
              "      <th>17</th>\n",
              "      <td>NaN</td>\n",
              "      <td>with</td>\n",
              "      <td>O</td>\n",
              "      <td>O</td>\n",
              "      <td>O</td>\n",
              "      <td>NaN</td>\n",
              "    </tr>\n",
              "    <tr>\n",
              "      <th>18</th>\n",
              "      <td>NaN</td>\n",
              "      <td>serious</td>\n",
              "      <td>O</td>\n",
              "      <td>O</td>\n",
              "      <td>O</td>\n",
              "      <td>NaN</td>\n",
              "    </tr>\n",
              "    <tr>\n",
              "      <th>19</th>\n",
              "      <td>NaN</td>\n",
              "      <td>impacto</td>\n",
              "      <td>O</td>\n",
              "      <td>O</td>\n",
              "      <td>O</td>\n",
              "      <td>NaN</td>\n",
              "    </tr>\n",
              "    <tr>\n",
              "      <th>20</th>\n",
              "      <td>NaN</td>\n",
              "      <td>n</td>\n",
              "      <td>O</td>\n",
              "      <td>O</td>\n",
              "      <td>O</td>\n",
              "      <td>NaN</td>\n",
              "    </tr>\n",
              "    <tr>\n",
              "      <th>21</th>\n",
              "      <td>NaN</td>\n",
              "      <td>the</td>\n",
              "      <td>O</td>\n",
              "      <td>O</td>\n",
              "      <td>O</td>\n",
              "      <td>NaN</td>\n",
              "    </tr>\n",
              "    <tr>\n",
              "      <th>22</th>\n",
              "      <td>NaN</td>\n",
              "      <td>world</td>\n",
              "      <td>O</td>\n",
              "      <td>O</td>\n",
              "      <td>O</td>\n",
              "      <td>NaN</td>\n",
              "    </tr>\n",
              "    <tr>\n",
              "      <th>23</th>\n",
              "      <td>NaN</td>\n",
              "      <td>'</td>\n",
              "      <td>O</td>\n",
              "      <td>O</td>\n",
              "      <td>O</td>\n",
              "      <td>NaN</td>\n",
              "    </tr>\n",
              "    <tr>\n",
              "      <th>24</th>\n",
              "      <td>NaN</td>\n",
              "      <td>s</td>\n",
              "      <td>O</td>\n",
              "      <td>O</td>\n",
              "      <td>O</td>\n",
              "      <td>NaN</td>\n",
              "    </tr>\n",
              "  </tbody>\n",
              "</table>\n",
              "</div>"
            ],
            "text/plain": [
              "    Sentence #         Word STag Tag Relation                         File\n",
              "0   Sentence 1           No    O   O        O   EBA1415_TFBM_2_CB_ES-05548\n",
              "1          NaN        essay    O   O        O                          NaN\n",
              "2          NaN            /    O   O        O                          NaN\n",
              "3          NaN            /    O   O        O                          NaN\n",
              "4   Sentence 2   Somethings    O   O        O  EBA1415_TRJA_11_CB_ES-06110\n",
              "5          NaN         that    O   O        O                          NaN\n",
              "6          NaN         lead    O   O        O                          NaN\n",
              "7          NaN           to    O   O        O                          NaN\n",
              "8          NaN          the    O   O        O                          NaN\n",
              "9          NaN  differences    O   O        O                          NaN\n",
              "10         NaN          are    O   O        O                          NaN\n",
              "11         NaN            .    O   O        O                          NaN\n",
              "12         NaN            .    O   O        O                          NaN\n",
              "13         NaN           it    O   O        O                          NaN\n",
              "14         NaN           is    O   O        O                          NaN\n",
              "15         NaN            a    O   O        O                          NaN\n",
              "16         NaN      problem    O   O        O                          NaN\n",
              "17         NaN         with    O   O        O                          NaN\n",
              "18         NaN      serious    O   O        O                          NaN\n",
              "19         NaN      impacto    O   O        O                          NaN\n",
              "20         NaN            n    O   O        O                          NaN\n",
              "21         NaN          the    O   O        O                          NaN\n",
              "22         NaN        world    O   O        O                          NaN\n",
              "23         NaN            '    O   O        O                          NaN\n",
              "24         NaN            s    O   O        O                          NaN"
            ]
          },
          "metadata": {
            "tags": []
          },
          "execution_count": 44
        }
      ]
    },
    {
      "cell_type": "code",
      "metadata": {
        "colab": {
          "base_uri": "https://localhost:8080/",
          "height": 824
        },
        "id": "CQNfTbnNwFhJ",
        "outputId": "236e37f2-0773-4368-a8d3-511413f7b859"
      },
      "source": [
        "df_test = df.copy(deep=True)\n",
        "df_test.iloc[0][\"Sentence #\"] = 0\n",
        "df_test.drop(['File', 'Relation', 'STag'], axis=1, inplace=True)\n",
        "df_test.columns = [\"s_num\",\"word\",\"tag\"]\n",
        "df_test = df_test.fillna(-1)\n",
        "\n",
        "snum = -1\n",
        "for idx, row in df_test.iterrows():\n",
        "  if row[\"s_num\"] == -1: row[\"s_num\"] = snum\n",
        "  else: \n",
        "    snum += 1\n",
        "    row[\"s_num\"] = snum\n",
        "\n",
        "df_test.head(25)"
      ],
      "execution_count": 45,
      "outputs": [
        {
          "output_type": "execute_result",
          "data": {
            "text/html": [
              "<div>\n",
              "<style scoped>\n",
              "    .dataframe tbody tr th:only-of-type {\n",
              "        vertical-align: middle;\n",
              "    }\n",
              "\n",
              "    .dataframe tbody tr th {\n",
              "        vertical-align: top;\n",
              "    }\n",
              "\n",
              "    .dataframe thead th {\n",
              "        text-align: right;\n",
              "    }\n",
              "</style>\n",
              "<table border=\"1\" class=\"dataframe\">\n",
              "  <thead>\n",
              "    <tr style=\"text-align: right;\">\n",
              "      <th></th>\n",
              "      <th>s_num</th>\n",
              "      <th>word</th>\n",
              "      <th>tag</th>\n",
              "    </tr>\n",
              "  </thead>\n",
              "  <tbody>\n",
              "    <tr>\n",
              "      <th>0</th>\n",
              "      <td>0</td>\n",
              "      <td>No</td>\n",
              "      <td>O</td>\n",
              "    </tr>\n",
              "    <tr>\n",
              "      <th>1</th>\n",
              "      <td>0</td>\n",
              "      <td>essay</td>\n",
              "      <td>O</td>\n",
              "    </tr>\n",
              "    <tr>\n",
              "      <th>2</th>\n",
              "      <td>0</td>\n",
              "      <td>/</td>\n",
              "      <td>O</td>\n",
              "    </tr>\n",
              "    <tr>\n",
              "      <th>3</th>\n",
              "      <td>0</td>\n",
              "      <td>/</td>\n",
              "      <td>O</td>\n",
              "    </tr>\n",
              "    <tr>\n",
              "      <th>4</th>\n",
              "      <td>1</td>\n",
              "      <td>Somethings</td>\n",
              "      <td>O</td>\n",
              "    </tr>\n",
              "    <tr>\n",
              "      <th>5</th>\n",
              "      <td>1</td>\n",
              "      <td>that</td>\n",
              "      <td>O</td>\n",
              "    </tr>\n",
              "    <tr>\n",
              "      <th>6</th>\n",
              "      <td>1</td>\n",
              "      <td>lead</td>\n",
              "      <td>O</td>\n",
              "    </tr>\n",
              "    <tr>\n",
              "      <th>7</th>\n",
              "      <td>1</td>\n",
              "      <td>to</td>\n",
              "      <td>O</td>\n",
              "    </tr>\n",
              "    <tr>\n",
              "      <th>8</th>\n",
              "      <td>1</td>\n",
              "      <td>the</td>\n",
              "      <td>O</td>\n",
              "    </tr>\n",
              "    <tr>\n",
              "      <th>9</th>\n",
              "      <td>1</td>\n",
              "      <td>differences</td>\n",
              "      <td>O</td>\n",
              "    </tr>\n",
              "    <tr>\n",
              "      <th>10</th>\n",
              "      <td>1</td>\n",
              "      <td>are</td>\n",
              "      <td>O</td>\n",
              "    </tr>\n",
              "    <tr>\n",
              "      <th>11</th>\n",
              "      <td>1</td>\n",
              "      <td>.</td>\n",
              "      <td>O</td>\n",
              "    </tr>\n",
              "    <tr>\n",
              "      <th>12</th>\n",
              "      <td>1</td>\n",
              "      <td>.</td>\n",
              "      <td>O</td>\n",
              "    </tr>\n",
              "    <tr>\n",
              "      <th>13</th>\n",
              "      <td>1</td>\n",
              "      <td>it</td>\n",
              "      <td>O</td>\n",
              "    </tr>\n",
              "    <tr>\n",
              "      <th>14</th>\n",
              "      <td>1</td>\n",
              "      <td>is</td>\n",
              "      <td>O</td>\n",
              "    </tr>\n",
              "    <tr>\n",
              "      <th>15</th>\n",
              "      <td>1</td>\n",
              "      <td>a</td>\n",
              "      <td>O</td>\n",
              "    </tr>\n",
              "    <tr>\n",
              "      <th>16</th>\n",
              "      <td>1</td>\n",
              "      <td>problem</td>\n",
              "      <td>O</td>\n",
              "    </tr>\n",
              "    <tr>\n",
              "      <th>17</th>\n",
              "      <td>1</td>\n",
              "      <td>with</td>\n",
              "      <td>O</td>\n",
              "    </tr>\n",
              "    <tr>\n",
              "      <th>18</th>\n",
              "      <td>1</td>\n",
              "      <td>serious</td>\n",
              "      <td>O</td>\n",
              "    </tr>\n",
              "    <tr>\n",
              "      <th>19</th>\n",
              "      <td>1</td>\n",
              "      <td>impacto</td>\n",
              "      <td>O</td>\n",
              "    </tr>\n",
              "    <tr>\n",
              "      <th>20</th>\n",
              "      <td>1</td>\n",
              "      <td>n</td>\n",
              "      <td>O</td>\n",
              "    </tr>\n",
              "    <tr>\n",
              "      <th>21</th>\n",
              "      <td>1</td>\n",
              "      <td>the</td>\n",
              "      <td>O</td>\n",
              "    </tr>\n",
              "    <tr>\n",
              "      <th>22</th>\n",
              "      <td>1</td>\n",
              "      <td>world</td>\n",
              "      <td>O</td>\n",
              "    </tr>\n",
              "    <tr>\n",
              "      <th>23</th>\n",
              "      <td>1</td>\n",
              "      <td>'</td>\n",
              "      <td>O</td>\n",
              "    </tr>\n",
              "    <tr>\n",
              "      <th>24</th>\n",
              "      <td>1</td>\n",
              "      <td>s</td>\n",
              "      <td>O</td>\n",
              "    </tr>\n",
              "  </tbody>\n",
              "</table>\n",
              "</div>"
            ],
            "text/plain": [
              "   s_num         word tag\n",
              "0      0           No   O\n",
              "1      0        essay   O\n",
              "2      0            /   O\n",
              "3      0            /   O\n",
              "4      1   Somethings   O\n",
              "5      1         that   O\n",
              "6      1         lead   O\n",
              "7      1           to   O\n",
              "8      1          the   O\n",
              "9      1  differences   O\n",
              "10     1          are   O\n",
              "11     1            .   O\n",
              "12     1            .   O\n",
              "13     1           it   O\n",
              "14     1           is   O\n",
              "15     1            a   O\n",
              "16     1      problem   O\n",
              "17     1         with   O\n",
              "18     1      serious   O\n",
              "19     1      impacto   O\n",
              "20     1            n   O\n",
              "21     1          the   O\n",
              "22     1        world   O\n",
              "23     1            '   O\n",
              "24     1            s   O"
            ]
          },
          "metadata": {
            "tags": []
          },
          "execution_count": 45
        }
      ]
    },
    {
      "cell_type": "code",
      "metadata": {
        "colab": {
          "base_uri": "https://localhost:8080/"
        },
        "id": "OQGYbr5LwaSr",
        "outputId": "3e462935-5ca1-4f0c-aafb-1d4f0107e3ff"
      },
      "source": [
        "print(\"Any nulls? \", df_test.isnull().values.any())"
      ],
      "execution_count": 46,
      "outputs": [
        {
          "output_type": "stream",
          "text": [
            "Any nulls?  False\n"
          ],
          "name": "stdout"
        }
      ]
    },
    {
      "cell_type": "code",
      "metadata": {
        "id": "Yz9G_5pOwaSt"
      },
      "source": [
        "df_test[\"s_num\"] = df_test[\"s_num\"].astype(str).astype(int)"
      ],
      "execution_count": 47,
      "outputs": []
    },
    {
      "cell_type": "code",
      "metadata": {
        "colab": {
          "base_uri": "https://localhost:8080/"
        },
        "id": "1Sm_AuZcwaSu",
        "outputId": "9c95e807-2889-43a0-979d-865cb934be1c"
      },
      "source": [
        "print(\"Shape:\", df_test.shape)\n",
        "print(df_test.info())"
      ],
      "execution_count": 48,
      "outputs": [
        {
          "output_type": "stream",
          "text": [
            "Shape: (40087, 3)\n",
            "<class 'pandas.core.frame.DataFrame'>\n",
            "RangeIndex: 40087 entries, 0 to 40086\n",
            "Data columns (total 3 columns):\n",
            " #   Column  Non-Null Count  Dtype \n",
            "---  ------  --------------  ----- \n",
            " 0   s_num   40087 non-null  int64 \n",
            " 1   word    40087 non-null  object\n",
            " 2   tag     40087 non-null  object\n",
            "dtypes: int64(1), object(2)\n",
            "memory usage: 939.7+ KB\n",
            "None\n"
          ],
          "name": "stdout"
        }
      ]
    },
    {
      "cell_type": "code",
      "metadata": {
        "colab": {
          "base_uri": "https://localhost:8080/"
        },
        "id": "eaYrVHrQwaSu",
        "outputId": "d29762da-d3cf-45a2-a100-aab843c3d150"
      },
      "source": [
        "print(\"Unique labels:\")\n",
        "sorted(df_test.tag.unique())"
      ],
      "execution_count": 49,
      "outputs": [
        {
          "output_type": "stream",
          "text": [
            "Unique labels:\n"
          ],
          "name": "stdout"
        },
        {
          "output_type": "execute_result",
          "data": {
            "text/plain": [
              "['B-1',\n",
              " 'B-11',\n",
              " 'B-12',\n",
              " 'B-13',\n",
              " 'B-14',\n",
              " 'B-2',\n",
              " 'B-3',\n",
              " 'B-4',\n",
              " 'B-5',\n",
              " 'B-50',\n",
              " 'B-5B',\n",
              " 'B-6',\n",
              " 'B-7',\n",
              " 'B-ANAPHOR',\n",
              " 'B-CHANGE-FACTOR',\n",
              " 'B-EXPLICIT',\n",
              " 'B-OTHER',\n",
              " 'B-RHETORICAL',\n",
              " 'I-1',\n",
              " 'I-11',\n",
              " 'I-12',\n",
              " 'I-13',\n",
              " 'I-14',\n",
              " 'I-2',\n",
              " 'I-3',\n",
              " 'I-4',\n",
              " 'I-5',\n",
              " 'I-50',\n",
              " 'I-5B',\n",
              " 'I-6',\n",
              " 'I-7',\n",
              " 'I-ANAPHOR',\n",
              " 'I-CHANGE-FACTOR',\n",
              " 'I-EXPLICIT',\n",
              " 'I-OTHER',\n",
              " 'I-RHETORICAL',\n",
              " 'O']"
            ]
          },
          "metadata": {
            "tags": []
          },
          "execution_count": 49
        }
      ]
    },
    {
      "cell_type": "code",
      "metadata": {
        "id": "402EU6Pyw52p"
      },
      "source": [
        "df_test[\"tag\"] = df_test.apply(lambda x: \"O\" if x[\"tag\"] in invalids else x[\"tag\"], axis=1)"
      ],
      "execution_count": 50,
      "outputs": []
    },
    {
      "cell_type": "code",
      "metadata": {
        "colab": {
          "base_uri": "https://localhost:8080/"
        },
        "id": "_glnTnxqwaSv",
        "outputId": "1edfe4fd-0cd0-484b-8a6b-1603e66b974a"
      },
      "source": [
        "print(df_test.tag.value_counts()[:10])"
      ],
      "execution_count": 51,
      "outputs": [
        {
          "output_type": "stream",
          "text": [
            "O       26715\n",
            "I-50     2455\n",
            "I-3      1654\n",
            "I-7      1181\n",
            "B-50      978\n",
            "I-1       954\n",
            "I-4       734\n",
            "I-14      717\n",
            "I-5B      638\n",
            "I-13      508\n",
            "Name: tag, dtype: int64\n"
          ],
          "name": "stdout"
        }
      ]
    },
    {
      "cell_type": "code",
      "metadata": {
        "colab": {
          "base_uri": "https://localhost:8080/"
        },
        "id": "c8JRa9kbwaSv",
        "outputId": "10be16eb-c987-4588-8e2d-cc39140f3974"
      },
      "source": [
        "print(df_test.s_num.value_counts()[:10])"
      ],
      "execution_count": 52,
      "outputs": [
        {
          "output_type": "stream",
          "text": [
            "123     67\n",
            "1988    65\n",
            "1152    65\n",
            "1415    64\n",
            "1414    64\n",
            "1413    64\n",
            "1530    62\n",
            "1787    54\n",
            "1045    53\n",
            "254     53\n",
            "Name: s_num, dtype: int64\n"
          ],
          "name": "stdout"
        }
      ]
    },
    {
      "cell_type": "markdown",
      "metadata": {
        "id": "bB-fALvlEc4L"
      },
      "source": [
        "We'll first take a look at a sample sentence to see what the model predicts for the tags versus what the tags actually were."
      ]
    },
    {
      "cell_type": "code",
      "metadata": {
        "colab": {
          "base_uri": "https://localhost:8080/"
        },
        "id": "MZfyawYPsXqc",
        "outputId": "63fd8a1a-1899-4a81-851a-877ab261d156"
      },
      "source": [
        "n = 3\n",
        "first_sent_word = list(df_test[df_test[\"s_num\"] == n][\"word\"])\n",
        "first_sent_label = [\"O\"] + list(df_test[df_test[\"s_num\"] == n][\"tag\"])\n",
        "\n",
        "test_sentence = \"\"\n",
        "for val in first_sent_word:\n",
        "  test_sentence += val + ' '\n",
        "print(test_sentence) \n",
        "\n",
        "test_tokenized_sentence = tokenizer.encode(test_sentence)\n",
        "test_input_ids = torch.tensor([test_tokenized_sentence]).cuda()\n",
        "with torch.no_grad():\n",
        "    output = model(test_input_ids)\n",
        "test_label_indices = np.argmax(output[0].to('cpu').numpy(), axis=2)\n",
        "\n",
        "test_tokens = tokenizer.convert_ids_to_tokens(test_input_ids.to('cpu').numpy()[0])\n",
        "\n",
        "new_tokens, new_labels = [], []\n",
        "for token, idx in zip(test_tokens, test_label_indices[0]):\n",
        "    if token.startswith(\"##\"):\n",
        "        new_tokens[-1] = new_tokens[-1] + token[2:]\n",
        "    else:\n",
        "        new_labels.append(tag_values[idx])\n",
        "        new_tokens.append(token)\n",
        "for token, label, old in zip(new_tokens, new_labels, first_sent_label):\n",
        "    print(\"{}\\t{}\\t{}\".format(label, token, old))"
      ],
      "execution_count": 53,
      "outputs": [
        {
          "output_type": "stream",
          "text": [
            "Coral bleaching is most noticeable in the Pacific Ocean . \n",
            "O\t[CLS]\tO\n",
            "B-50\tCoral\tB-50\n",
            "I-50\tbleaching\tI-50\n",
            "O\tis\tO\n",
            "O\tmost\tO\n",
            "O\tnoticeable\tO\n",
            "O\tin\tO\n",
            "O\tthe\tO\n",
            "O\tPacific\tO\n",
            "O\tOcean\tO\n",
            "O\t.\tO\n"
          ],
          "name": "stdout"
        }
      ]
    },
    {
      "cell_type": "markdown",
      "metadata": {
        "id": "vE4oPgVdEk5h"
      },
      "source": [
        "Now is the actual evaluation of the entire test set, followed by the classification report and confusion matrix."
      ]
    },
    {
      "cell_type": "code",
      "metadata": {
        "id": "SeeP8lwvwmsQ"
      },
      "source": [
        "y_pred = []\n",
        "y_true = []\n",
        "y_tokens = []\n",
        "\n",
        "for i in range(max(df_test[\"s_num\"]+1)):\n",
        "  first_sent_word = list(df_test[df_test[\"s_num\"] == i][\"word\"])\n",
        "  first_sent_label = [\"O\"] + list(df_test[df_test[\"s_num\"] == i][\"tag\"]) + [\"O\"]\n",
        "\n",
        "  test_sentence = \"\"\n",
        "  for val in first_sent_word:\n",
        "    test_sentence += val + ' '\n",
        "  # print(test_sentence) \n",
        "\n",
        "  test_tokenized_sentence = tokenizer.encode(test_sentence)\n",
        "  test_input_ids = torch.tensor([test_tokenized_sentence]).cuda()\n",
        "  with torch.no_grad():\n",
        "      output = model(test_input_ids)\n",
        "  test_label_indices = np.argmax(output[0].to('cpu').numpy(), axis=2)\n",
        "\n",
        "  test_tokens = tokenizer.convert_ids_to_tokens(test_input_ids.to('cpu').numpy()[0])\n",
        "\n",
        "  new_tokens, new_labels = [], []\n",
        "  for token, idx in zip(test_tokens, test_label_indices[0]):\n",
        "      if token.startswith(\"##\"):\n",
        "          new_tokens[-1] = new_tokens[-1] + token[2:]\n",
        "      else:\n",
        "          new_labels.append(tag_values[idx])\n",
        "          new_tokens.append(token)\n",
        "  y_pred += new_labels\n",
        "  y_true += first_sent_label\n",
        "  y_tokens += new_tokens\n",
        "# print(len(y_pred))\n",
        "# print(len(y_true))"
      ],
      "execution_count": 54,
      "outputs": []
    },
    {
      "cell_type": "code",
      "metadata": {
        "colab": {
          "base_uri": "https://localhost:8080/"
        },
        "id": "rG1dwHt-wnCd",
        "outputId": "7099d511-3855-424e-9064-41acb2be8be5"
      },
      "source": [
        "report = classification_report(y_true, y_pred, output_dict=True)\n",
        "print(report)"
      ],
      "execution_count": 55,
      "outputs": [
        {
          "output_type": "stream",
          "text": [
            "{'B-1': {'precision': 0.8344370860927153, 'recall': 0.7522388059701492, 'f1-score': 0.7912087912087913, 'support': 335}, 'B-11': {'precision': 0.6774193548387096, 'recall': 0.8203125, 'f1-score': 0.7420494699646644, 'support': 128}, 'B-12': {'precision': 0.9, 'recall': 0.3050847457627119, 'f1-score': 0.45569620253164556, 'support': 59}, 'B-13': {'precision': 0.7039106145251397, 'recall': 0.72, 'f1-score': 0.7118644067796609, 'support': 175}, 'B-14': {'precision': 0.9473684210526315, 'recall': 0.46551724137931033, 'f1-score': 0.6242774566473988, 'support': 116}, 'B-2': {'precision': 0.6818181818181818, 'recall': 0.3333333333333333, 'f1-score': 0.4477611940298507, 'support': 45}, 'B-3': {'precision': 0.7688442211055276, 'recall': 0.7355769230769231, 'f1-score': 0.7518427518427518, 'support': 416}, 'B-4': {'precision': 0.8292682926829268, 'recall': 0.43312101910828027, 'f1-score': 0.5690376569037657, 'support': 157}, 'B-5': {'precision': 0.648854961832061, 'recall': 0.5089820359281437, 'f1-score': 0.5704697986577181, 'support': 167}, 'B-50': {'precision': 0.6369327073552425, 'recall': 0.8323108384458078, 'f1-score': 0.7216312056737589, 'support': 978}, 'B-5B': {'precision': 0.0, 'recall': 0.0, 'f1-score': 0.0, 'support': 70}, 'B-6': {'precision': 0.7066666666666667, 'recall': 0.5196078431372549, 'f1-score': 0.5988700564971752, 'support': 102}, 'B-7': {'precision': 0.5484848484848485, 'recall': 0.7211155378486056, 'f1-score': 0.6230636833046471, 'support': 251}, 'I-1': {'precision': 0.8576642335766423, 'recall': 0.7389937106918238, 'f1-score': 0.793918918918919, 'support': 954}, 'I-11': {'precision': 0.9090909090909091, 'recall': 0.4132231404958678, 'f1-score': 0.5681818181818181, 'support': 242}, 'I-12': {'precision': 0.9818181818181818, 'recall': 0.8950276243093923, 'f1-score': 0.9364161849710984, 'support': 362}, 'I-13': {'precision': 0.8726415094339622, 'recall': 0.7283464566929134, 'f1-score': 0.7939914163090128, 'support': 508}, 'I-14': {'precision': 0.8508771929824561, 'recall': 0.5411436541143654, 'f1-score': 0.6615515771526, 'support': 717}, 'I-2': {'precision': 0.8194444444444444, 'recall': 0.5388127853881278, 'f1-score': 0.650137741046832, 'support': 219}, 'I-3': {'precision': 0.8977657413676371, 'recall': 0.8016928657799275, 'f1-score': 0.8470137336314276, 'support': 1654}, 'I-4': {'precision': 0.7731829573934837, 'recall': 0.840599455040872, 'f1-score': 0.8054830287206267, 'support': 734}, 'I-5': {'precision': 0.8631578947368421, 'recall': 0.531317494600432, 'f1-score': 0.6577540106951871, 'support': 463}, 'I-50': {'precision': 0.7787307032590052, 'recall': 0.7397148676171079, 'f1-score': 0.7587215374973887, 'support': 2455}, 'I-5B': {'precision': 0.6487394957983194, 'recall': 0.6050156739811913, 'f1-score': 0.6261151662611517, 'support': 638}, 'I-6': {'precision': 0.832, 'recall': 0.8455284552845529, 'f1-score': 0.8387096774193549, 'support': 246}, 'I-7': {'precision': 0.8442028985507246, 'recall': 0.7891617273497037, 'f1-score': 0.8157549234135668, 'support': 1181}, 'O': {'precision': 0.9144133045888513, 'recall': 0.9499600063989762, 'f1-score': 0.9318477834444879, 'support': 31255}, 'accuracy': 0.8807224326080624, 'macro avg': {'precision': 0.7676938823517078, 'recall': 0.6335458793235472, 'f1-score': 0.6775322293224186, 'support': 44627}, 'weighted avg': {'precision': 0.87973749273839, 'recall': 0.8807224326080624, 'f1-score': 0.8768702689356418, 'support': 44627}}\n"
          ],
          "name": "stdout"
        }
      ]
    },
    {
      "cell_type": "code",
      "metadata": {
        "colab": {
          "base_uri": "https://localhost:8080/"
        },
        "id": "1IalD6-t-OEg",
        "outputId": "c340da30-b8bb-47ee-8783-59bce4124f3c"
      },
      "source": [
        "print(confusion_matrix(y_true, y_pred))"
      ],
      "execution_count": 56,
      "outputs": [
        {
          "output_type": "stream",
          "text": [
            "[[  252     0     0 ...     0     0    48]\n",
            " [    0   105     0 ...     0     0    16]\n",
            " [    0     0    18 ...     0     0    32]\n",
            " ...\n",
            " [    0     0     0 ...   208     0    33]\n",
            " [    0     0     0 ...     0   932   183]\n",
            " [   22     7     2 ...    21   151 29691]]\n"
          ],
          "name": "stdout"
        }
      ]
    },
    {
      "cell_type": "code",
      "metadata": {
        "colab": {
          "base_uri": "https://localhost:8080/",
          "height": 204
        },
        "id": "YgvFs1h3yLJp",
        "outputId": "91400c34-785b-438c-bb4f-ce508105e7c6"
      },
      "source": [
        "df_report = pd.DataFrame(report).transpose()\n",
        "df_report.head()"
      ],
      "execution_count": 57,
      "outputs": [
        {
          "output_type": "execute_result",
          "data": {
            "text/html": [
              "<div>\n",
              "<style scoped>\n",
              "    .dataframe tbody tr th:only-of-type {\n",
              "        vertical-align: middle;\n",
              "    }\n",
              "\n",
              "    .dataframe tbody tr th {\n",
              "        vertical-align: top;\n",
              "    }\n",
              "\n",
              "    .dataframe thead th {\n",
              "        text-align: right;\n",
              "    }\n",
              "</style>\n",
              "<table border=\"1\" class=\"dataframe\">\n",
              "  <thead>\n",
              "    <tr style=\"text-align: right;\">\n",
              "      <th></th>\n",
              "      <th>precision</th>\n",
              "      <th>recall</th>\n",
              "      <th>f1-score</th>\n",
              "      <th>support</th>\n",
              "    </tr>\n",
              "  </thead>\n",
              "  <tbody>\n",
              "    <tr>\n",
              "      <th>B-1</th>\n",
              "      <td>0.834437</td>\n",
              "      <td>0.752239</td>\n",
              "      <td>0.791209</td>\n",
              "      <td>335.0</td>\n",
              "    </tr>\n",
              "    <tr>\n",
              "      <th>B-11</th>\n",
              "      <td>0.677419</td>\n",
              "      <td>0.820312</td>\n",
              "      <td>0.742049</td>\n",
              "      <td>128.0</td>\n",
              "    </tr>\n",
              "    <tr>\n",
              "      <th>B-12</th>\n",
              "      <td>0.900000</td>\n",
              "      <td>0.305085</td>\n",
              "      <td>0.455696</td>\n",
              "      <td>59.0</td>\n",
              "    </tr>\n",
              "    <tr>\n",
              "      <th>B-13</th>\n",
              "      <td>0.703911</td>\n",
              "      <td>0.720000</td>\n",
              "      <td>0.711864</td>\n",
              "      <td>175.0</td>\n",
              "    </tr>\n",
              "    <tr>\n",
              "      <th>B-14</th>\n",
              "      <td>0.947368</td>\n",
              "      <td>0.465517</td>\n",
              "      <td>0.624277</td>\n",
              "      <td>116.0</td>\n",
              "    </tr>\n",
              "  </tbody>\n",
              "</table>\n",
              "</div>"
            ],
            "text/plain": [
              "      precision    recall  f1-score  support\n",
              "B-1    0.834437  0.752239  0.791209    335.0\n",
              "B-11   0.677419  0.820312  0.742049    128.0\n",
              "B-12   0.900000  0.305085  0.455696     59.0\n",
              "B-13   0.703911  0.720000  0.711864    175.0\n",
              "B-14   0.947368  0.465517  0.624277    116.0"
            ]
          },
          "metadata": {
            "tags": []
          },
          "execution_count": 57
        }
      ]
    },
    {
      "cell_type": "code",
      "metadata": {
        "id": "NO2-tkJzy7fn"
      },
      "source": [
        "# df_report.to_csv(DATA_PATH + 'tagging_results_cb.csv')"
      ],
      "execution_count": 58,
      "outputs": []
    },
    {
      "cell_type": "code",
      "metadata": {
        "colab": {
          "base_uri": "https://localhost:8080/"
        },
        "id": "qs6E5aVr3Ak-",
        "outputId": "dad51c9c-e439-4249-c85b-9f3f0a411d1b"
      },
      "source": [
        "word_acc = {}\n",
        "\n",
        "for word, true, pred in zip(y_tokens, y_true, y_pred):\n",
        "  if word in word_acc:\n",
        "    word_acc[word][1] += 1\n",
        "    if pred == true: word_acc[word][0] += 1\n",
        "  else:\n",
        "    word_acc[word] = [1,1] if pred == true else [0,1]\n",
        "  \n",
        "word_acc = {k: [v[0]/v[1], v[1]] for k, v in word_acc.items()}\n",
        "word_acc[\"the\"]"
      ],
      "execution_count": 59,
      "outputs": [
        {
          "output_type": "execute_result",
          "data": {
            "text/plain": [
              "[0.8827433628318584, 2712]"
            ]
          },
          "metadata": {
            "tags": []
          },
          "execution_count": 59
        }
      ]
    },
    {
      "cell_type": "code",
      "metadata": {
        "colab": {
          "base_uri": "https://localhost:8080/"
        },
        "id": "JZZFuCUQ5j54",
        "outputId": "6d7e538d-0b4e-418d-f547-57c66d22738e"
      },
      "source": [
        "word_arr = sorted(word_acc.items(), key=lambda item: item[1][1])\n",
        "word_arr[:20]"
      ],
      "execution_count": 60,
      "outputs": [
        {
          "output_type": "execute_result",
          "data": {
            "text/plain": [
              "[('impacto', [1.0, 1]),\n",
              " ('Colonies', [1.0, 1]),\n",
              " ('Tradewinds', [1.0, 1]),\n",
              " ('geting', [1.0, 1]),\n",
              " ('resource', [1.0, 1]),\n",
              " ('benefitting', [0.0, 1]),\n",
              " ('moderata', [1.0, 1]),\n",
              " ('servire', [1.0, 1]),\n",
              " ('photoosynthesis', [1.0, 1]),\n",
              " ('Less', [0.0, 1]),\n",
              " ('force', [1.0, 1]),\n",
              " ('prone', [1.0, 1]),\n",
              " ('somewhat', [1.0, 1]),\n",
              " ('tremendous', [1.0, 1]),\n",
              " ('Unhealthy', [1.0, 1]),\n",
              " ('decline', [1.0, 1]),\n",
              " ('tremendously', [1.0, 1]),\n",
              " ('Being', [1.0, 1]),\n",
              " ('containing', [1.0, 1]),\n",
              " ('betten', [1.0, 1])]"
            ]
          },
          "metadata": {
            "tags": []
          },
          "execution_count": 60
        }
      ]
    }
  ]
}