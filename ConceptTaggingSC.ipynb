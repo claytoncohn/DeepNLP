{
  "nbformat": 4,
  "nbformat_minor": 0,
  "metadata": {
    "colab": {
      "name": "ConceptTaggingSC.ipynb",
      "provenance": [],
      "collapsed_sections": [],
      "machine_shape": "hm"
    },
    "kernelspec": {
      "name": "python3",
      "display_name": "Python 3"
    },
    "accelerator": "GPU"
  },
  "cells": [
    {
      "cell_type": "markdown",
      "metadata": {
        "id": "waEHsxpx-2n_"
      },
      "source": [
        "Clayton Cohn<br>\n",
        "DePaul University<br>\n",
        "19 Apr 2021<br>\n",
        "\n",
        "#<center> Tagging Concepts in Causal Chains w/ BERT"
      ]
    },
    {
      "cell_type": "markdown",
      "metadata": {
        "id": "ghDRjYUEYaQz"
      },
      "source": [
        "This code was adapted from Drew Perkins' tutorial via Towards Data Science: \n",
        "\n",
        "https://towardsdatascience.com/tagging-genes-and-proteins-with-biobert-c7b04fc6eb4f"
      ]
    },
    {
      "cell_type": "code",
      "metadata": {
        "id": "Jm9JksAbEE4a",
        "colab": {
          "base_uri": "https://localhost:8080/"
        },
        "outputId": "b3c59475-739e-4b9d-8174-bfde198e69ab"
      },
      "source": [
        "from google.colab import drive\n",
        "drive.mount('/content/drive')"
      ],
      "execution_count": 1,
      "outputs": [
        {
          "output_type": "stream",
          "text": [
            "Drive already mounted at /content/drive; to attempt to forcibly remount, call drive.mount(\"/content/drive\", force_remount=True).\n"
          ],
          "name": "stdout"
        }
      ]
    },
    {
      "cell_type": "markdown",
      "metadata": {
        "id": "tUqv3JUr_wrw"
      },
      "source": [
        "The below cell is for combining the *big* and *little* datasets if we want to do cross-validation. For this notebook, I simply used both the big and little datasets as-is."
      ]
    },
    {
      "cell_type": "code",
      "metadata": {
        "id": "G7jRUiA2E2da",
        "colab": {
          "base_uri": "https://localhost:8080/",
          "height": 35
        },
        "outputId": "28149fbd-7cc0-4b4f-9c4c-34cef53695d9"
      },
      "source": [
        "'''\n",
        "This cell used to concatenate big and little partitions\n",
        "'''\n",
        "\n",
        "# import pandas as pd\n",
        "\n",
        "# DATA_PATH = \"drive/My Drive/colab/DeepNLP/data/\"\n",
        "# FILE_NAME1 = \"EBA1415-SkinCancer-big-reln-repeat-iob2.csv\"\n",
        "# FILE_NAME2 = \"EBA1415-SkinCancer-little-reln-repeat-iob2.csv\"\n",
        "\n",
        "# df1 = pd.read_csv(DATA_PATH + FILE_NAME1)\n",
        "# df2 = pd.read_csv(DATA_PATH + FILE_NAME2)\n",
        "\n",
        "# print(\"1:\", len(df1))\n",
        "# print(\"2:\", len(df2))\n",
        "\n",
        "# df = pd.concat([df1, df2], ignore_index=True)\n",
        "# print(len(df))\n",
        "\n",
        "# print(df.head())\n",
        "\n",
        "# df.to_csv(DATA_PATH + 'EBA1415-SkinCancer-join-reln-repeat-iob2.csv', index=False)"
      ],
      "execution_count": 2,
      "outputs": [
        {
          "output_type": "execute_result",
          "data": {
            "application/vnd.google.colaboratory.intrinsic+json": {
              "type": "string"
            },
            "text/plain": [
              "'\\nThis cell used to concatenate big and little partitions\\n'"
            ]
          },
          "metadata": {
            "tags": []
          },
          "execution_count": 2
        }
      ]
    },
    {
      "cell_type": "code",
      "metadata": {
        "id": "7mDKS3oeEUL2"
      },
      "source": [
        "DATA_PATH = \"drive/My Drive/colab/DeepNLP/data/\"\n",
        "FILE_NAME = \"EBA1415-SkinCancer-big-reln-repeat-iob2.csv\""
      ],
      "execution_count": 3,
      "outputs": []
    },
    {
      "cell_type": "code",
      "metadata": {
        "id": "c2lfnjVaE4FD",
        "colab": {
          "base_uri": "https://localhost:8080/",
          "height": 824
        },
        "outputId": "d067bc5c-3ade-4eea-e91c-f73d5aa90615"
      },
      "source": [
        "import pandas as pd\n",
        "\n",
        "df = pd.read_csv(DATA_PATH + FILE_NAME)\n",
        "df.head(25)"
      ],
      "execution_count": 4,
      "outputs": [
        {
          "output_type": "execute_result",
          "data": {
            "text/html": [
              "<div>\n",
              "<style scoped>\n",
              "    .dataframe tbody tr th:only-of-type {\n",
              "        vertical-align: middle;\n",
              "    }\n",
              "\n",
              "    .dataframe tbody tr th {\n",
              "        vertical-align: top;\n",
              "    }\n",
              "\n",
              "    .dataframe thead th {\n",
              "        text-align: right;\n",
              "    }\n",
              "</style>\n",
              "<table border=\"1\" class=\"dataframe\">\n",
              "  <thead>\n",
              "    <tr style=\"text-align: right;\">\n",
              "      <th></th>\n",
              "      <th>Sentence #</th>\n",
              "      <th>Word</th>\n",
              "      <th>STag</th>\n",
              "      <th>Tag</th>\n",
              "      <th>Relation</th>\n",
              "      <th>File</th>\n",
              "    </tr>\n",
              "  </thead>\n",
              "  <tbody>\n",
              "    <tr>\n",
              "      <th>0</th>\n",
              "      <td>Sentence 1</td>\n",
              "      <td>This</td>\n",
              "      <td>O</td>\n",
              "      <td>O</td>\n",
              "      <td>O</td>\n",
              "      <td>EBA1415_TFHC_1_SC_ES-05947</td>\n",
              "    </tr>\n",
              "    <tr>\n",
              "      <th>1</th>\n",
              "      <td>NaN</td>\n",
              "      <td>essay</td>\n",
              "      <td>O</td>\n",
              "      <td>O</td>\n",
              "      <td>O</td>\n",
              "      <td>NaN</td>\n",
              "    </tr>\n",
              "    <tr>\n",
              "      <th>2</th>\n",
              "      <td>NaN</td>\n",
              "      <td>is</td>\n",
              "      <td>O</td>\n",
              "      <td>O</td>\n",
              "      <td>O</td>\n",
              "      <td>NaN</td>\n",
              "    </tr>\n",
              "    <tr>\n",
              "      <th>3</th>\n",
              "      <td>NaN</td>\n",
              "      <td>about</td>\n",
              "      <td>O</td>\n",
              "      <td>O</td>\n",
              "      <td>O</td>\n",
              "      <td>NaN</td>\n",
              "    </tr>\n",
              "    <tr>\n",
              "      <th>4</th>\n",
              "      <td>NaN</td>\n",
              "      <td>skin</td>\n",
              "      <td>O</td>\n",
              "      <td>O</td>\n",
              "      <td>O</td>\n",
              "      <td>NaN</td>\n",
              "    </tr>\n",
              "    <tr>\n",
              "      <th>5</th>\n",
              "      <td>NaN</td>\n",
              "      <td>damage</td>\n",
              "      <td>O</td>\n",
              "      <td>O</td>\n",
              "      <td>O</td>\n",
              "      <td>NaN</td>\n",
              "    </tr>\n",
              "    <tr>\n",
              "      <th>6</th>\n",
              "      <td>NaN</td>\n",
              "      <td>,</td>\n",
              "      <td>O</td>\n",
              "      <td>O</td>\n",
              "      <td>O</td>\n",
              "      <td>NaN</td>\n",
              "    </tr>\n",
              "    <tr>\n",
              "      <th>7</th>\n",
              "      <td>NaN</td>\n",
              "      <td>latitude</td>\n",
              "      <td>O</td>\n",
              "      <td>O</td>\n",
              "      <td>O</td>\n",
              "      <td>NaN</td>\n",
              "    </tr>\n",
              "    <tr>\n",
              "      <th>8</th>\n",
              "      <td>NaN</td>\n",
              "      <td>and</td>\n",
              "      <td>O</td>\n",
              "      <td>O</td>\n",
              "      <td>O</td>\n",
              "      <td>NaN</td>\n",
              "    </tr>\n",
              "    <tr>\n",
              "      <th>9</th>\n",
              "      <td>NaN</td>\n",
              "      <td>direct</td>\n",
              "      <td>O</td>\n",
              "      <td>O</td>\n",
              "      <td>O</td>\n",
              "      <td>NaN</td>\n",
              "    </tr>\n",
              "    <tr>\n",
              "      <th>10</th>\n",
              "      <td>NaN</td>\n",
              "      <td>sunlight</td>\n",
              "      <td>O</td>\n",
              "      <td>O</td>\n",
              "      <td>O</td>\n",
              "      <td>NaN</td>\n",
              "    </tr>\n",
              "    <tr>\n",
              "      <th>11</th>\n",
              "      <td>NaN</td>\n",
              "      <td>,</td>\n",
              "      <td>O</td>\n",
              "      <td>O</td>\n",
              "      <td>O</td>\n",
              "      <td>NaN</td>\n",
              "    </tr>\n",
              "    <tr>\n",
              "      <th>12</th>\n",
              "      <td>NaN</td>\n",
              "      <td>skin</td>\n",
              "      <td>O</td>\n",
              "      <td>O</td>\n",
              "      <td>O</td>\n",
              "      <td>NaN</td>\n",
              "    </tr>\n",
              "    <tr>\n",
              "      <th>13</th>\n",
              "      <td>NaN</td>\n",
              "      <td>cancer</td>\n",
              "      <td>O</td>\n",
              "      <td>O</td>\n",
              "      <td>O</td>\n",
              "      <td>NaN</td>\n",
              "    </tr>\n",
              "    <tr>\n",
              "      <th>14</th>\n",
              "      <td>NaN</td>\n",
              "      <td>and</td>\n",
              "      <td>O</td>\n",
              "      <td>O</td>\n",
              "      <td>O</td>\n",
              "      <td>NaN</td>\n",
              "    </tr>\n",
              "    <tr>\n",
              "      <th>15</th>\n",
              "      <td>NaN</td>\n",
              "      <td>latitude</td>\n",
              "      <td>O</td>\n",
              "      <td>O</td>\n",
              "      <td>O</td>\n",
              "      <td>NaN</td>\n",
              "    </tr>\n",
              "    <tr>\n",
              "      <th>16</th>\n",
              "      <td>NaN</td>\n",
              "      <td>,</td>\n",
              "      <td>O</td>\n",
              "      <td>O</td>\n",
              "      <td>O</td>\n",
              "      <td>NaN</td>\n",
              "    </tr>\n",
              "    <tr>\n",
              "      <th>17</th>\n",
              "      <td>NaN</td>\n",
              "      <td>your</td>\n",
              "      <td>O</td>\n",
              "      <td>O</td>\n",
              "      <td>O</td>\n",
              "      <td>NaN</td>\n",
              "    </tr>\n",
              "    <tr>\n",
              "      <th>18</th>\n",
              "      <td>NaN</td>\n",
              "      <td>skin</td>\n",
              "      <td>O</td>\n",
              "      <td>O</td>\n",
              "      <td>O</td>\n",
              "      <td>NaN</td>\n",
              "    </tr>\n",
              "    <tr>\n",
              "      <th>19</th>\n",
              "      <td>NaN</td>\n",
              "      <td>protects</td>\n",
              "      <td>O</td>\n",
              "      <td>O</td>\n",
              "      <td>O</td>\n",
              "      <td>NaN</td>\n",
              "    </tr>\n",
              "    <tr>\n",
              "      <th>20</th>\n",
              "      <td>NaN</td>\n",
              "      <td>you</td>\n",
              "      <td>O</td>\n",
              "      <td>O</td>\n",
              "      <td>O</td>\n",
              "      <td>NaN</td>\n",
              "    </tr>\n",
              "    <tr>\n",
              "      <th>21</th>\n",
              "      <td>NaN</td>\n",
              "      <td>and</td>\n",
              "      <td>O</td>\n",
              "      <td>O</td>\n",
              "      <td>O</td>\n",
              "      <td>NaN</td>\n",
              "    </tr>\n",
              "    <tr>\n",
              "      <th>22</th>\n",
              "      <td>NaN</td>\n",
              "      <td>about</td>\n",
              "      <td>O</td>\n",
              "      <td>O</td>\n",
              "      <td>O</td>\n",
              "      <td>NaN</td>\n",
              "    </tr>\n",
              "    <tr>\n",
              "      <th>23</th>\n",
              "      <td>NaN</td>\n",
              "      <td>sunburns</td>\n",
              "      <td>O</td>\n",
              "      <td>O</td>\n",
              "      <td>O</td>\n",
              "      <td>NaN</td>\n",
              "    </tr>\n",
              "    <tr>\n",
              "      <th>24</th>\n",
              "      <td>NaN</td>\n",
              "      <td>.</td>\n",
              "      <td>O</td>\n",
              "      <td>O</td>\n",
              "      <td>O</td>\n",
              "      <td>NaN</td>\n",
              "    </tr>\n",
              "  </tbody>\n",
              "</table>\n",
              "</div>"
            ],
            "text/plain": [
              "    Sentence #      Word STag Tag Relation                        File\n",
              "0   Sentence 1      This    O   O        O  EBA1415_TFHC_1_SC_ES-05947\n",
              "1          NaN     essay    O   O        O                         NaN\n",
              "2          NaN        is    O   O        O                         NaN\n",
              "3          NaN     about    O   O        O                         NaN\n",
              "4          NaN      skin    O   O        O                         NaN\n",
              "5          NaN    damage    O   O        O                         NaN\n",
              "6          NaN         ,    O   O        O                         NaN\n",
              "7          NaN  latitude    O   O        O                         NaN\n",
              "8          NaN       and    O   O        O                         NaN\n",
              "9          NaN    direct    O   O        O                         NaN\n",
              "10         NaN  sunlight    O   O        O                         NaN\n",
              "11         NaN         ,    O   O        O                         NaN\n",
              "12         NaN      skin    O   O        O                         NaN\n",
              "13         NaN    cancer    O   O        O                         NaN\n",
              "14         NaN       and    O   O        O                         NaN\n",
              "15         NaN  latitude    O   O        O                         NaN\n",
              "16         NaN         ,    O   O        O                         NaN\n",
              "17         NaN      your    O   O        O                         NaN\n",
              "18         NaN      skin    O   O        O                         NaN\n",
              "19         NaN  protects    O   O        O                         NaN\n",
              "20         NaN       you    O   O        O                         NaN\n",
              "21         NaN       and    O   O        O                         NaN\n",
              "22         NaN     about    O   O        O                         NaN\n",
              "23         NaN  sunburns    O   O        O                         NaN\n",
              "24         NaN         .    O   O        O                         NaN"
            ]
          },
          "metadata": {
            "tags": []
          },
          "execution_count": 4
        }
      ]
    },
    {
      "cell_type": "markdown",
      "metadata": {
        "id": "rC8B_UMh_-nz"
      },
      "source": [
        "This was the raw dataset taken from the wiki. It has a lot of extraneous information that needs to be stripped. Considering that this is a tagging task, all we are concerned with is the sentence numberm, word, and label.\n",
        "\n",
        "Additionally, the sentence numbers need to be added, as currently only the first word of each sentence has a number."
      ]
    },
    {
      "cell_type": "code",
      "metadata": {
        "id": "TZk6wBUtAG_l",
        "colab": {
          "base_uri": "https://localhost:8080/",
          "height": 824
        },
        "outputId": "fb120d95-ad73-4a78-8e29-1764a245caf4"
      },
      "source": [
        "import numpy as np\n",
        "\n",
        "df_num = df.copy(deep=True)\n",
        "df_num.iloc[0][\"Sentence #\"] = 0\n",
        "df_num.drop(['File', 'Relation', 'STag'], axis=1, inplace=True)\n",
        "df_num.columns = [\"s_num\",\"word\",\"tag\"]\n",
        "df_num = df_num.fillna(-1)\n",
        "\n",
        "snum = -1\n",
        "for idx, row in df_num.iterrows():\n",
        "  if row[\"s_num\"] == -1: row[\"s_num\"] = snum\n",
        "  else: \n",
        "    snum += 1\n",
        "    row[\"s_num\"] = snum\n",
        "\n",
        "df_num.head(25)"
      ],
      "execution_count": 5,
      "outputs": [
        {
          "output_type": "execute_result",
          "data": {
            "text/html": [
              "<div>\n",
              "<style scoped>\n",
              "    .dataframe tbody tr th:only-of-type {\n",
              "        vertical-align: middle;\n",
              "    }\n",
              "\n",
              "    .dataframe tbody tr th {\n",
              "        vertical-align: top;\n",
              "    }\n",
              "\n",
              "    .dataframe thead th {\n",
              "        text-align: right;\n",
              "    }\n",
              "</style>\n",
              "<table border=\"1\" class=\"dataframe\">\n",
              "  <thead>\n",
              "    <tr style=\"text-align: right;\">\n",
              "      <th></th>\n",
              "      <th>s_num</th>\n",
              "      <th>word</th>\n",
              "      <th>tag</th>\n",
              "    </tr>\n",
              "  </thead>\n",
              "  <tbody>\n",
              "    <tr>\n",
              "      <th>0</th>\n",
              "      <td>0</td>\n",
              "      <td>This</td>\n",
              "      <td>O</td>\n",
              "    </tr>\n",
              "    <tr>\n",
              "      <th>1</th>\n",
              "      <td>0</td>\n",
              "      <td>essay</td>\n",
              "      <td>O</td>\n",
              "    </tr>\n",
              "    <tr>\n",
              "      <th>2</th>\n",
              "      <td>0</td>\n",
              "      <td>is</td>\n",
              "      <td>O</td>\n",
              "    </tr>\n",
              "    <tr>\n",
              "      <th>3</th>\n",
              "      <td>0</td>\n",
              "      <td>about</td>\n",
              "      <td>O</td>\n",
              "    </tr>\n",
              "    <tr>\n",
              "      <th>4</th>\n",
              "      <td>0</td>\n",
              "      <td>skin</td>\n",
              "      <td>O</td>\n",
              "    </tr>\n",
              "    <tr>\n",
              "      <th>5</th>\n",
              "      <td>0</td>\n",
              "      <td>damage</td>\n",
              "      <td>O</td>\n",
              "    </tr>\n",
              "    <tr>\n",
              "      <th>6</th>\n",
              "      <td>0</td>\n",
              "      <td>,</td>\n",
              "      <td>O</td>\n",
              "    </tr>\n",
              "    <tr>\n",
              "      <th>7</th>\n",
              "      <td>0</td>\n",
              "      <td>latitude</td>\n",
              "      <td>O</td>\n",
              "    </tr>\n",
              "    <tr>\n",
              "      <th>8</th>\n",
              "      <td>0</td>\n",
              "      <td>and</td>\n",
              "      <td>O</td>\n",
              "    </tr>\n",
              "    <tr>\n",
              "      <th>9</th>\n",
              "      <td>0</td>\n",
              "      <td>direct</td>\n",
              "      <td>O</td>\n",
              "    </tr>\n",
              "    <tr>\n",
              "      <th>10</th>\n",
              "      <td>0</td>\n",
              "      <td>sunlight</td>\n",
              "      <td>O</td>\n",
              "    </tr>\n",
              "    <tr>\n",
              "      <th>11</th>\n",
              "      <td>0</td>\n",
              "      <td>,</td>\n",
              "      <td>O</td>\n",
              "    </tr>\n",
              "    <tr>\n",
              "      <th>12</th>\n",
              "      <td>0</td>\n",
              "      <td>skin</td>\n",
              "      <td>O</td>\n",
              "    </tr>\n",
              "    <tr>\n",
              "      <th>13</th>\n",
              "      <td>0</td>\n",
              "      <td>cancer</td>\n",
              "      <td>O</td>\n",
              "    </tr>\n",
              "    <tr>\n",
              "      <th>14</th>\n",
              "      <td>0</td>\n",
              "      <td>and</td>\n",
              "      <td>O</td>\n",
              "    </tr>\n",
              "    <tr>\n",
              "      <th>15</th>\n",
              "      <td>0</td>\n",
              "      <td>latitude</td>\n",
              "      <td>O</td>\n",
              "    </tr>\n",
              "    <tr>\n",
              "      <th>16</th>\n",
              "      <td>0</td>\n",
              "      <td>,</td>\n",
              "      <td>O</td>\n",
              "    </tr>\n",
              "    <tr>\n",
              "      <th>17</th>\n",
              "      <td>0</td>\n",
              "      <td>your</td>\n",
              "      <td>O</td>\n",
              "    </tr>\n",
              "    <tr>\n",
              "      <th>18</th>\n",
              "      <td>0</td>\n",
              "      <td>skin</td>\n",
              "      <td>O</td>\n",
              "    </tr>\n",
              "    <tr>\n",
              "      <th>19</th>\n",
              "      <td>0</td>\n",
              "      <td>protects</td>\n",
              "      <td>O</td>\n",
              "    </tr>\n",
              "    <tr>\n",
              "      <th>20</th>\n",
              "      <td>0</td>\n",
              "      <td>you</td>\n",
              "      <td>O</td>\n",
              "    </tr>\n",
              "    <tr>\n",
              "      <th>21</th>\n",
              "      <td>0</td>\n",
              "      <td>and</td>\n",
              "      <td>O</td>\n",
              "    </tr>\n",
              "    <tr>\n",
              "      <th>22</th>\n",
              "      <td>0</td>\n",
              "      <td>about</td>\n",
              "      <td>O</td>\n",
              "    </tr>\n",
              "    <tr>\n",
              "      <th>23</th>\n",
              "      <td>0</td>\n",
              "      <td>sunburns</td>\n",
              "      <td>O</td>\n",
              "    </tr>\n",
              "    <tr>\n",
              "      <th>24</th>\n",
              "      <td>0</td>\n",
              "      <td>.</td>\n",
              "      <td>O</td>\n",
              "    </tr>\n",
              "  </tbody>\n",
              "</table>\n",
              "</div>"
            ],
            "text/plain": [
              "   s_num      word tag\n",
              "0      0      This   O\n",
              "1      0     essay   O\n",
              "2      0        is   O\n",
              "3      0     about   O\n",
              "4      0      skin   O\n",
              "5      0    damage   O\n",
              "6      0         ,   O\n",
              "7      0  latitude   O\n",
              "8      0       and   O\n",
              "9      0    direct   O\n",
              "10     0  sunlight   O\n",
              "11     0         ,   O\n",
              "12     0      skin   O\n",
              "13     0    cancer   O\n",
              "14     0       and   O\n",
              "15     0  latitude   O\n",
              "16     0         ,   O\n",
              "17     0      your   O\n",
              "18     0      skin   O\n",
              "19     0  protects   O\n",
              "20     0       you   O\n",
              "21     0       and   O\n",
              "22     0     about   O\n",
              "23     0  sunburns   O\n",
              "24     0         .   O"
            ]
          },
          "metadata": {
            "tags": []
          },
          "execution_count": 5
        }
      ]
    },
    {
      "cell_type": "markdown",
      "metadata": {
        "id": "hhPOrvNEAcHV"
      },
      "source": [
        "Once we have the cleaned and trimmed dataset we can make sure that there are no ```null``` values and also properly format the columns. This is also a good time to do some EDA and take a peek at the data."
      ]
    },
    {
      "cell_type": "code",
      "metadata": {
        "id": "dAhNsk9uG7VA",
        "colab": {
          "base_uri": "https://localhost:8080/"
        },
        "outputId": "fd1eacee-2e8d-4e2f-a858-4387debe39c8"
      },
      "source": [
        "print(\"Any nulls? \", df_num.isnull().values.any())"
      ],
      "execution_count": 6,
      "outputs": [
        {
          "output_type": "stream",
          "text": [
            "Any nulls?  False\n"
          ],
          "name": "stdout"
        }
      ]
    },
    {
      "cell_type": "code",
      "metadata": {
        "id": "XGk7UZ04Isbr"
      },
      "source": [
        "df_num[\"s_num\"] = df_num[\"s_num\"].astype(str).astype(int)\n",
        "df_num[\"word\"] = df_num[\"word\"].astype(str)"
      ],
      "execution_count": 7,
      "outputs": []
    },
    {
      "cell_type": "code",
      "metadata": {
        "id": "8VwKhRwBIaeR",
        "colab": {
          "base_uri": "https://localhost:8080/"
        },
        "outputId": "6914f0f6-585f-4ece-9ef2-3a531614deb3"
      },
      "source": [
        "print(\"Shape:\", df_num.shape)\n",
        "print(df_num.info())"
      ],
      "execution_count": 8,
      "outputs": [
        {
          "output_type": "stream",
          "text": [
            "Shape: (191903, 3)\n",
            "<class 'pandas.core.frame.DataFrame'>\n",
            "RangeIndex: 191903 entries, 0 to 191902\n",
            "Data columns (total 3 columns):\n",
            " #   Column  Non-Null Count   Dtype \n",
            "---  ------  --------------   ----- \n",
            " 0   s_num   191903 non-null  int64 \n",
            " 1   word    191903 non-null  object\n",
            " 2   tag     191903 non-null  object\n",
            "dtypes: int64(1), object(2)\n",
            "memory usage: 4.4+ MB\n",
            "None\n"
          ],
          "name": "stdout"
        }
      ]
    },
    {
      "cell_type": "code",
      "metadata": {
        "id": "eeupKUFHJaNI",
        "colab": {
          "base_uri": "https://localhost:8080/"
        },
        "outputId": "3decaeeb-7321-4061-d40d-eefd3f3de85b"
      },
      "source": [
        "print(\"Unique labels:\")\n",
        "sorted(df_num.tag.unique())"
      ],
      "execution_count": 9,
      "outputs": [
        {
          "output_type": "stream",
          "text": [
            "Unique labels:\n"
          ],
          "name": "stdout"
        },
        {
          "output_type": "execute_result",
          "data": {
            "text/plain": [
              "['B-1',\n",
              " 'B-11',\n",
              " 'B-12',\n",
              " 'B-2',\n",
              " 'B-3',\n",
              " 'B-4',\n",
              " 'B-5',\n",
              " 'B-50',\n",
              " 'B-6',\n",
              " 'B-ANAPHOR',\n",
              " 'B-BCK',\n",
              " 'B-EXPLICIT',\n",
              " 'B-ND',\n",
              " 'B-OTHER',\n",
              " 'B-RHETORICAL',\n",
              " 'I-1',\n",
              " 'I-11',\n",
              " 'I-12',\n",
              " 'I-2',\n",
              " 'I-3',\n",
              " 'I-4',\n",
              " 'I-5',\n",
              " 'I-50',\n",
              " 'I-6',\n",
              " 'I-ANAPHOR',\n",
              " 'I-BCK',\n",
              " 'I-EXPLICIT',\n",
              " 'I-ND',\n",
              " 'I-OTHER',\n",
              " 'I-RHETORICAL',\n",
              " 'O']"
            ]
          },
          "metadata": {
            "tags": []
          },
          "execution_count": 9
        }
      ]
    },
    {
      "cell_type": "markdown",
      "metadata": {
        "id": "LGasl4GtAtz6"
      },
      "source": [
        "There are a bunch of labels that do not correlate to actual concepts in our causal model, so we need to transform those into \"O\" tags. In this notebook we are only concerned with tagging the actual concepts found in the causal model.  "
      ]
    },
    {
      "cell_type": "code",
      "metadata": {
        "id": "Y2WcqUMvsZLp"
      },
      "source": [
        "invalids = {\"B-ANAPHOR\", \"B-BCK\", \"B-CHANGE-FACTOR\", \"B-EXPLICIT\", \"B-ND\", \"B-OTHER\", \"B-RHETORICAL\", \\\n",
        "            \"I-ANAPHOR\", \"I-CHANGE-FACTOR\", \"I-EXPLICIT\", \"I-ND\", \"I-OTHER\", \"I-RHETORICAL\", \"I-BCK\", \"B-BCK\"}"
      ],
      "execution_count": 10,
      "outputs": []
    },
    {
      "cell_type": "code",
      "metadata": {
        "id": "ZXRLSxdJtgqG"
      },
      "source": [
        "df_num[\"tag\"] = df_num.apply(lambda x: \"O\" if x[\"tag\"] in invalids else x[\"tag\"], axis=1)"
      ],
      "execution_count": 11,
      "outputs": []
    },
    {
      "cell_type": "markdown",
      "metadata": {
        "id": "4s-AmUHnBJGH"
      },
      "source": [
        "Below are the label counts for all of the concepts (and the \"O\" label)."
      ]
    },
    {
      "cell_type": "code",
      "metadata": {
        "id": "puH5e7aGJurI",
        "colab": {
          "base_uri": "https://localhost:8080/"
        },
        "outputId": "a6c6fb82-7b57-4f03-af30-92afd942f5f5"
      },
      "source": [
        "print(df_num.tag.value_counts()[:10])"
      ],
      "execution_count": 12,
      "outputs": [
        {
          "output_type": "stream",
          "text": [
            "O       139582\n",
            "I-50      9561\n",
            "I-6       5703\n",
            "I-1       5420\n",
            "I-2       4888\n",
            "B-50      3872\n",
            "I-3       3526\n",
            "I-5       2933\n",
            "I-4       2924\n",
            "B-5       2863\n",
            "Name: tag, dtype: int64\n"
          ],
          "name": "stdout"
        }
      ]
    },
    {
      "cell_type": "code",
      "metadata": {
        "id": "sskP_o9JKKkS",
        "colab": {
          "base_uri": "https://localhost:8080/"
        },
        "outputId": "fb2646c8-5e00-4cca-a0f0-265c14b6bc2b"
      },
      "source": [
        "print(df_num.s_num.value_counts()[:10])"
      ],
      "execution_count": 13,
      "outputs": [
        {
          "output_type": "stream",
          "text": [
            "2359    123\n",
            "2361    123\n",
            "2360    123\n",
            "7635     91\n",
            "9331     83\n",
            "4135     73\n",
            "6138     71\n",
            "6137     71\n",
            "2018     71\n",
            "6139     71\n",
            "Name: s_num, dtype: int64\n"
          ],
          "name": "stdout"
        }
      ]
    },
    {
      "cell_type": "markdown",
      "metadata": {
        "id": "1L43Hf-zBTFc"
      },
      "source": [
        "The ```SentenceGetter``` class extracts the sentences from the DataFrame."
      ]
    },
    {
      "cell_type": "code",
      "metadata": {
        "id": "w90kjo9QKR7Z"
      },
      "source": [
        "class SentenceGetter(object):\n",
        "  def __init__(self, data):\n",
        "      self.n_sent = 1\n",
        "      self.data = data\n",
        "      self.empty = False\n",
        "      agg_func = lambda s: [(w, l) for w, l in zip(s[\"word\"].values.tolist(), s[\"tag\"].values.tolist())]\n",
        "      self.grouped = self.data.groupby(\"s_num\").apply(agg_func)\n",
        "      self.sentences = [s for s in self.grouped]\n",
        "\n",
        "  def get_next(self):\n",
        "      try:\n",
        "          s = self.grouped[\"Sentence: {}\".format(self.n_sent)]\n",
        "          self.n_sent += 1\n",
        "          return s\n",
        "      except:\n",
        "          return None"
      ],
      "execution_count": 14,
      "outputs": []
    },
    {
      "cell_type": "code",
      "metadata": {
        "id": "8F1_4-_KKU9g"
      },
      "source": [
        "getter = SentenceGetter(df_num)"
      ],
      "execution_count": 15,
      "outputs": []
    },
    {
      "cell_type": "code",
      "metadata": {
        "id": "lJLwVy9CKXKt",
        "colab": {
          "base_uri": "https://localhost:8080/"
        },
        "outputId": "1e653d7f-e383-45ce-837c-8acadd6e3d81"
      },
      "source": [
        "sents = [[word[0] for word in sentence] for sentence in getter.sentences]\n",
        "sents[1]"
      ],
      "execution_count": 16,
      "outputs": [
        {
          "output_type": "execute_result",
          "data": {
            "text/plain": [
              "['The',\n",
              " 'skin',\n",
              " 'damage',\n",
              " 'is',\n",
              " 'on',\n",
              " 'our',\n",
              " 'bodies',\n",
              " 'that',\n",
              " 'have',\n",
              " 'numerous',\n",
              " 'skin',\n",
              " 'disorders',\n",
              " ',',\n",
              " 'conditions',\n",
              " ',',\n",
              " 'and',\n",
              " 'diseases',\n",
              " '.']"
            ]
          },
          "metadata": {
            "tags": []
          },
          "execution_count": 16
        }
      ]
    },
    {
      "cell_type": "code",
      "metadata": {
        "id": "kOAVvSsnKcAW",
        "colab": {
          "base_uri": "https://localhost:8080/"
        },
        "outputId": "ddea9a8d-ca92-4a19-9181-13b372a3c6e6"
      },
      "source": [
        "labels = [[s[1] for s in sentence] for sentence in getter.sentences]\n",
        "print(labels[1])"
      ],
      "execution_count": 17,
      "outputs": [
        {
          "output_type": "stream",
          "text": [
            "['O', 'B-4', 'I-4', 'O', 'O', 'O', 'O', 'O', 'O', 'O', 'O', 'O', 'O', 'O', 'O', 'O', 'O', 'O']\n"
          ],
          "name": "stdout"
        }
      ]
    },
    {
      "cell_type": "markdown",
      "metadata": {
        "id": "1xJVc90PBfaM"
      },
      "source": [
        "We create a set of all tag values, i.e. concepts. We also add ```PAD``` as a value, as it will be used by BERT as the token for sequence padding.\n",
        "\n",
        "The ```tag2idx``` dictionary assigns each tag a numerical value, as we are required by BERT to represent labels via integers."
      ]
    },
    {
      "cell_type": "code",
      "metadata": {
        "id": "-TSHA42PKm5K"
      },
      "source": [
        "tag_values = list(set(df_num[\"tag\"].values))\n",
        "tag_values.append(\"PAD\")\n",
        "tag2idx = {t: i for i, t in enumerate(tag_values)}"
      ],
      "execution_count": 18,
      "outputs": []
    },
    {
      "cell_type": "code",
      "metadata": {
        "id": "jefGnD9fLJjC",
        "colab": {
          "base_uri": "https://localhost:8080/"
        },
        "outputId": "143d3853-aa6b-4037-957c-d27e625b0c71"
      },
      "source": [
        "!pip install transformers\n",
        "!pip install torch"
      ],
      "execution_count": 19,
      "outputs": [
        {
          "output_type": "stream",
          "text": [
            "Requirement already satisfied: transformers in /usr/local/lib/python3.7/dist-packages (4.5.1)\n",
            "Requirement already satisfied: regex!=2019.12.17 in /usr/local/lib/python3.7/dist-packages (from transformers) (2019.12.20)\n",
            "Requirement already satisfied: packaging in /usr/local/lib/python3.7/dist-packages (from transformers) (20.9)\n",
            "Requirement already satisfied: requests in /usr/local/lib/python3.7/dist-packages (from transformers) (2.23.0)\n",
            "Requirement already satisfied: sacremoses in /usr/local/lib/python3.7/dist-packages (from transformers) (0.0.45)\n",
            "Requirement already satisfied: importlib-metadata; python_version < \"3.8\" in /usr/local/lib/python3.7/dist-packages (from transformers) (3.10.1)\n",
            "Requirement already satisfied: filelock in /usr/local/lib/python3.7/dist-packages (from transformers) (3.0.12)\n",
            "Requirement already satisfied: numpy>=1.17 in /usr/local/lib/python3.7/dist-packages (from transformers) (1.19.5)\n",
            "Requirement already satisfied: tqdm>=4.27 in /usr/local/lib/python3.7/dist-packages (from transformers) (4.41.1)\n",
            "Requirement already satisfied: tokenizers<0.11,>=0.10.1 in /usr/local/lib/python3.7/dist-packages (from transformers) (0.10.2)\n",
            "Requirement already satisfied: pyparsing>=2.0.2 in /usr/local/lib/python3.7/dist-packages (from packaging->transformers) (2.4.7)\n",
            "Requirement already satisfied: chardet<4,>=3.0.2 in /usr/local/lib/python3.7/dist-packages (from requests->transformers) (3.0.4)\n",
            "Requirement already satisfied: urllib3!=1.25.0,!=1.25.1,<1.26,>=1.21.1 in /usr/local/lib/python3.7/dist-packages (from requests->transformers) (1.24.3)\n",
            "Requirement already satisfied: idna<3,>=2.5 in /usr/local/lib/python3.7/dist-packages (from requests->transformers) (2.10)\n",
            "Requirement already satisfied: certifi>=2017.4.17 in /usr/local/lib/python3.7/dist-packages (from requests->transformers) (2020.12.5)\n",
            "Requirement already satisfied: joblib in /usr/local/lib/python3.7/dist-packages (from sacremoses->transformers) (1.0.1)\n",
            "Requirement already satisfied: six in /usr/local/lib/python3.7/dist-packages (from sacremoses->transformers) (1.15.0)\n",
            "Requirement already satisfied: click in /usr/local/lib/python3.7/dist-packages (from sacremoses->transformers) (7.1.2)\n",
            "Requirement already satisfied: zipp>=0.5 in /usr/local/lib/python3.7/dist-packages (from importlib-metadata; python_version < \"3.8\"->transformers) (3.4.1)\n",
            "Requirement already satisfied: typing-extensions>=3.6.4; python_version < \"3.8\" in /usr/local/lib/python3.7/dist-packages (from importlib-metadata; python_version < \"3.8\"->transformers) (3.7.4.3)\n",
            "Requirement already satisfied: torch in /usr/local/lib/python3.7/dist-packages (1.8.1+cu101)\n",
            "Requirement already satisfied: typing-extensions in /usr/local/lib/python3.7/dist-packages (from torch) (3.7.4.3)\n",
            "Requirement already satisfied: numpy in /usr/local/lib/python3.7/dist-packages (from torch) (1.19.5)\n"
          ],
          "name": "stdout"
        }
      ]
    },
    {
      "cell_type": "code",
      "metadata": {
        "id": "JbKe4ZBwLFGw",
        "colab": {
          "base_uri": "https://localhost:8080/",
          "height": 35
        },
        "outputId": "f42b52ca-8068-4909-83c2-bcb0bb11ae9f"
      },
      "source": [
        "import torch\n",
        "from torch.utils.data import TensorDataset, DataLoader, RandomSampler, SequentialSampler\n",
        "from transformers import BertTokenizer, BertConfig\n",
        "\n",
        "from keras.preprocessing.sequence import pad_sequences\n",
        "from sklearn.model_selection import train_test_split\n",
        "\n",
        "torch.__version__"
      ],
      "execution_count": 20,
      "outputs": [
        {
          "output_type": "execute_result",
          "data": {
            "application/vnd.google.colaboratory.intrinsic+json": {
              "type": "string"
            },
            "text/plain": [
              "'1.8.1+cu101'"
            ]
          },
          "metadata": {
            "tags": []
          },
          "execution_count": 20
        }
      ]
    },
    {
      "cell_type": "code",
      "metadata": {
        "id": "RHTwRuquLVt4",
        "colab": {
          "base_uri": "https://localhost:8080/",
          "height": 35
        },
        "outputId": "361cad11-bba3-43d0-c069-0d33282a1021"
      },
      "source": [
        "device = torch.device(\"cuda\" if torch.cuda.is_available() else \"cpu\")\n",
        "n_gpu = torch.cuda.device_count()\n",
        "torch.cuda.get_device_name(0)"
      ],
      "execution_count": 21,
      "outputs": [
        {
          "output_type": "execute_result",
          "data": {
            "application/vnd.google.colaboratory.intrinsic+json": {
              "type": "string"
            },
            "text/plain": [
              "'Tesla P100-PCIE-16GB'"
            ]
          },
          "metadata": {
            "tags": []
          },
          "execution_count": 21
        }
      ]
    },
    {
      "cell_type": "markdown",
      "metadata": {
        "id": "VBP0R0ynDEAk"
      },
      "source": [
        "The next step is tokenize the sentences, get their input IDs from BERT, and tensorize them for training."
      ]
    },
    {
      "cell_type": "code",
      "metadata": {
        "id": "VcnShjpgLnLA"
      },
      "source": [
        "tokenizer = BertTokenizer.from_pretrained('bert-base-cased', do_lower_case=False)"
      ],
      "execution_count": 22,
      "outputs": []
    },
    {
      "cell_type": "code",
      "metadata": {
        "id": "GO_meqzP1bYx"
      },
      "source": [
        "def tokenize_with_labels(sentence, text_labels):\n",
        "    tokenized_sentence = []\n",
        "    labels = []\n",
        "\n",
        "    for word, label in zip(sentence, text_labels):\n",
        "        tokenized_word = tokenizer.tokenize(word)\n",
        "        n_subwords = len(tokenized_word)\n",
        "        tokenized_sentence.extend(tokenized_word)\n",
        "        labels.extend([label] * n_subwords)\n",
        "\n",
        "    return tokenized_sentence, labels"
      ],
      "execution_count": 23,
      "outputs": []
    },
    {
      "cell_type": "code",
      "metadata": {
        "id": "9zOMXhTWBPTp"
      },
      "source": [
        "tokenized_texts_and_labels = [tokenize_with_labels(sent, labs) for sent, labs in zip(sents, labels)]"
      ],
      "execution_count": 24,
      "outputs": []
    },
    {
      "cell_type": "code",
      "metadata": {
        "id": "0xRMBKa3BqpZ"
      },
      "source": [
        "tokenized_texts = [token_label_pair[0] for token_label_pair in tokenized_texts_and_labels]\n",
        "labels = [token_label_pair[1] for token_label_pair in tokenized_texts_and_labels]"
      ],
      "execution_count": 25,
      "outputs": []
    },
    {
      "cell_type": "markdown",
      "metadata": {
        "id": "eMkG9iT3CTkm"
      },
      "source": [
        "The ```MAX_LEN``` hyperparameter was set to the maximum length instance."
      ]
    },
    {
      "cell_type": "code",
      "metadata": {
        "id": "6nJUtf_SLP1e",
        "colab": {
          "base_uri": "https://localhost:8080/"
        },
        "outputId": "5749482f-4046-4221-c565-e6ccc79ca7d8"
      },
      "source": [
        "MAX_LEN = max(map(len, tokenized_texts))\n",
        "BATCH_SIZE = 32\n",
        "print(\"MAX_LEN:\",MAX_LEN)"
      ],
      "execution_count": 26,
      "outputs": [
        {
          "output_type": "stream",
          "text": [
            "MAX_LEN: 139\n"
          ],
          "name": "stdout"
        }
      ]
    },
    {
      "cell_type": "code",
      "metadata": {
        "id": "llX95hrZBxUA"
      },
      "source": [
        "input_ids = pad_sequences([tokenizer.convert_tokens_to_ids(txt) for txt in tokenized_texts],\n",
        "                          maxlen=MAX_LEN, dtype=\"long\", value=0.0,\n",
        "                          truncating=\"post\", padding=\"post\")"
      ],
      "execution_count": 27,
      "outputs": []
    },
    {
      "cell_type": "code",
      "metadata": {
        "id": "8xyx6SrFB3YG"
      },
      "source": [
        "tags = pad_sequences([[tag2idx.get(l) for l in lab] for lab in labels],\n",
        "                     maxlen=MAX_LEN, value=tag2idx[\"PAD\"], padding=\"post\",\n",
        "                     dtype=\"long\", truncating=\"post\")"
      ],
      "execution_count": 28,
      "outputs": []
    },
    {
      "cell_type": "code",
      "metadata": {
        "id": "Fl4a3NmiB5uy"
      },
      "source": [
        "attention_masks = [[float(i != 0.0) for i in ii] for ii in input_ids]"
      ],
      "execution_count": 29,
      "outputs": []
    },
    {
      "cell_type": "code",
      "metadata": {
        "id": "jlRsLmscB8Lt"
      },
      "source": [
        "tr_inputs, val_inputs, tr_tags, val_tags = train_test_split(input_ids, tags,\n",
        "                                                            random_state=2018, test_size=0.1)\n",
        "tr_masks, val_masks, _, _ = train_test_split(attention_masks, input_ids,\n",
        "                                             random_state=2018, test_size=0.1)"
      ],
      "execution_count": 30,
      "outputs": []
    },
    {
      "cell_type": "code",
      "metadata": {
        "id": "vEZZ7LDhB_fT"
      },
      "source": [
        "tr_inputs = torch.tensor(tr_inputs)\n",
        "val_inputs = torch.tensor(val_inputs)\n",
        "tr_tags = torch.tensor(tr_tags)\n",
        "val_tags = torch.tensor(val_tags)\n",
        "tr_masks = torch.tensor(tr_masks)\n",
        "val_masks = torch.tensor(val_masks)"
      ],
      "execution_count": 31,
      "outputs": []
    },
    {
      "cell_type": "code",
      "metadata": {
        "id": "Rr8QJQxoCC5k"
      },
      "source": [
        "train_data = TensorDataset(tr_inputs, tr_masks, tr_tags)\n",
        "train_sampler = RandomSampler(train_data)\n",
        "train_dataloader = DataLoader(train_data, sampler=train_sampler, batch_size=BATCH_SIZE)\n",
        "\n",
        "valid_data = TensorDataset(val_inputs, val_masks, val_tags)\n",
        "valid_sampler = SequentialSampler(valid_data)\n",
        "valid_dataloader = DataLoader(valid_data, sampler=valid_sampler, batch_size=BATCH_SIZE)"
      ],
      "execution_count": 32,
      "outputs": []
    },
    {
      "cell_type": "code",
      "metadata": {
        "id": "O3pSx7aHCJTg",
        "colab": {
          "base_uri": "https://localhost:8080/",
          "height": 35
        },
        "outputId": "18de6be3-29d9-4f47-b408-cc599799eb17"
      },
      "source": [
        "import transformers\n",
        "from transformers import BertForTokenClassification, AdamW\n",
        "\n",
        "transformers.__version__"
      ],
      "execution_count": 33,
      "outputs": [
        {
          "output_type": "execute_result",
          "data": {
            "application/vnd.google.colaboratory.intrinsic+json": {
              "type": "string"
            },
            "text/plain": [
              "'4.5.1'"
            ]
          },
          "metadata": {
            "tags": []
          },
          "execution_count": 33
        }
      ]
    },
    {
      "cell_type": "markdown",
      "metadata": {
        "id": "MVgoRB7EDRGc"
      },
      "source": [
        "Create our instance of the PyTorch pretrained BERT model for set up for token classification. \n",
        "\n",
        "We will also make sure it runs on our GPU."
      ]
    },
    {
      "cell_type": "code",
      "metadata": {
        "id": "iwINCHZ3CMfT",
        "colab": {
          "base_uri": "https://localhost:8080/"
        },
        "outputId": "64e3a7e6-1f93-4454-a4f0-3419d74c801e"
      },
      "source": [
        "model = BertForTokenClassification.from_pretrained(\n",
        "    \"bert-base-cased\",\n",
        "    num_labels=len(tag2idx),\n",
        "    output_attentions = False,\n",
        "    output_hidden_states = False\n",
        ")"
      ],
      "execution_count": 34,
      "outputs": [
        {
          "output_type": "stream",
          "text": [
            "Some weights of the model checkpoint at bert-base-cased were not used when initializing BertForTokenClassification: ['cls.predictions.bias', 'cls.predictions.transform.dense.weight', 'cls.predictions.transform.dense.bias', 'cls.predictions.decoder.weight', 'cls.seq_relationship.weight', 'cls.seq_relationship.bias', 'cls.predictions.transform.LayerNorm.weight', 'cls.predictions.transform.LayerNorm.bias']\n",
            "- This IS expected if you are initializing BertForTokenClassification from the checkpoint of a model trained on another task or with another architecture (e.g. initializing a BertForSequenceClassification model from a BertForPreTraining model).\n",
            "- This IS NOT expected if you are initializing BertForTokenClassification from the checkpoint of a model that you expect to be exactly identical (initializing a BertForSequenceClassification model from a BertForSequenceClassification model).\n",
            "Some weights of BertForTokenClassification were not initialized from the model checkpoint at bert-base-cased and are newly initialized: ['classifier.weight', 'classifier.bias']\n",
            "You should probably TRAIN this model on a down-stream task to be able to use it for predictions and inference.\n"
          ],
          "name": "stderr"
        }
      ]
    },
    {
      "cell_type": "code",
      "metadata": {
        "id": "qB5fREEjC7aT"
      },
      "source": [
        "model.cuda();"
      ],
      "execution_count": 35,
      "outputs": []
    },
    {
      "cell_type": "markdown",
      "metadata": {
        "id": "E-LI7r1LDdvC"
      },
      "source": [
        "Set parameters for fine-tuning, then train the model."
      ]
    },
    {
      "cell_type": "code",
      "metadata": {
        "id": "Py24O6EcCvfX"
      },
      "source": [
        "FULL_FINETUNING = True\n",
        "if FULL_FINETUNING:\n",
        "    param_optimizer = list(model.named_parameters())\n",
        "    no_decay = ['bias', 'gamma', 'beta']\n",
        "    optimizer_grouped_parameters = [\n",
        "        {'params': [p for n, p in param_optimizer if not any(nd in n for nd in no_decay)],\n",
        "         'weight_decay_rate': 0.01},\n",
        "        {'params': [p for n, p in param_optimizer if any(nd in n for nd in no_decay)],\n",
        "         'weight_decay_rate': 0.0}\n",
        "    ]\n",
        "else:\n",
        "    param_optimizer = list(model.classifier.named_parameters())\n",
        "    optimizer_grouped_parameters = [{\"params\": [p for n, p in param_optimizer]}]\n",
        "\n",
        "optimizer = AdamW(\n",
        "    optimizer_grouped_parameters,\n",
        "    lr=3e-5,\n",
        "    eps=1e-8\n",
        ")"
      ],
      "execution_count": 36,
      "outputs": []
    },
    {
      "cell_type": "code",
      "metadata": {
        "id": "U17hAShPm6z_"
      },
      "source": [
        "from transformers import get_linear_schedule_with_warmup\n",
        "\n",
        "EPOCHS = 3\n",
        "max_grad_norm = 1.0\n",
        "\n",
        "# Total number of training steps is number of batches * number of epochs.\n",
        "total_steps = len(train_dataloader) * EPOCHS\n",
        "\n",
        "# Create the learning rate scheduler.\n",
        "scheduler = get_linear_schedule_with_warmup(\n",
        "    optimizer,\n",
        "    num_warmup_steps=0,\n",
        "    num_training_steps=total_steps\n",
        ")"
      ],
      "execution_count": 37,
      "outputs": []
    },
    {
      "cell_type": "code",
      "metadata": {
        "id": "rviLyViGnA3y",
        "colab": {
          "base_uri": "https://localhost:8080/"
        },
        "outputId": "99d7e65c-17c4-475f-ab85-d3bb3fd01b97"
      },
      "source": [
        "!pip install seqeval\n",
        "from seqeval.metrics import f1_score, accuracy_score"
      ],
      "execution_count": 38,
      "outputs": [
        {
          "output_type": "stream",
          "text": [
            "Requirement already satisfied: seqeval in /usr/local/lib/python3.7/dist-packages (1.2.2)\n",
            "Requirement already satisfied: numpy>=1.14.0 in /usr/local/lib/python3.7/dist-packages (from seqeval) (1.19.5)\n",
            "Requirement already satisfied: scikit-learn>=0.21.3 in /usr/local/lib/python3.7/dist-packages (from seqeval) (0.22.2.post1)\n",
            "Requirement already satisfied: scipy>=0.17.0 in /usr/local/lib/python3.7/dist-packages (from scikit-learn>=0.21.3->seqeval) (1.4.1)\n",
            "Requirement already satisfied: joblib>=0.11 in /usr/local/lib/python3.7/dist-packages (from scikit-learn>=0.21.3->seqeval) (1.0.1)\n"
          ],
          "name": "stdout"
        }
      ]
    },
    {
      "cell_type": "code",
      "metadata": {
        "id": "VrxDxTN5nDJ9",
        "colab": {
          "base_uri": "https://localhost:8080/"
        },
        "outputId": "c3752ea4-aef0-4e69-f15a-ee23d9b8bc0c"
      },
      "source": [
        "from tqdm import tqdm, trange\n",
        "\n",
        "## Store the average loss after each epoch so we can plot them.\n",
        "loss_values, validation_loss_values = [], []\n",
        "\n",
        "for _ in trange(EPOCHS, desc=\"Epoch\"):\n",
        "    # ========================================\n",
        "    #               Training\n",
        "    # ========================================\n",
        "    # Perform one full pass over the training set.\n",
        "\n",
        "    # Put the model into training mode.\n",
        "    model.train()\n",
        "    # Reset the total loss for this epoch.\n",
        "    total_loss = 0\n",
        "\n",
        "    # Training loop\n",
        "    for step, batch in enumerate(train_dataloader):\n",
        "        # add batch to gpu\n",
        "        batch = tuple(t.to(device) for t in batch)\n",
        "        b_input_ids, b_input_mask, b_labels = batch\n",
        "        # Always clear any previously calculated gradients before performing a backward pass.\n",
        "        model.zero_grad()\n",
        "        # forward pass\n",
        "        # This will return the loss (rather than the model output)\n",
        "        # because we have provided the `labels`.\n",
        "        outputs = model(b_input_ids, token_type_ids=None,\n",
        "                        attention_mask=b_input_mask, labels=b_labels)\n",
        "        # get the loss\n",
        "        loss = outputs[0]\n",
        "        # Perform a backward pass to calculate the gradients.\n",
        "        loss.backward()\n",
        "        # track train loss\n",
        "        total_loss += loss.item()\n",
        "        # Clip the norm of the gradient\n",
        "        # This is to help prevent the \"exploding gradients\" problem.\n",
        "        torch.nn.utils.clip_grad_norm_(parameters=model.parameters(), max_norm=max_grad_norm)\n",
        "        # update parameters\n",
        "        optimizer.step()\n",
        "        # Update the learning rate.\n",
        "        scheduler.step()\n",
        "\n",
        "    # Calculate the average loss over the training data.\n",
        "    avg_train_loss = total_loss / len(train_dataloader)\n",
        "    print(\"Average train loss: {}\".format(avg_train_loss))\n",
        "\n",
        "    # Store the loss value for plotting the learning curve.\n",
        "    loss_values.append(avg_train_loss)\n",
        "\n",
        "\n",
        "    # ========================================\n",
        "    #               Validation\n",
        "    # ========================================\n",
        "    # After the completion of each training epoch, measure our performance on\n",
        "    # our validation set.\n",
        "\n",
        "    # Put the model into evaluation mode\n",
        "    model.eval()\n",
        "    # Reset the validation loss for this epoch.\n",
        "    eval_loss, eval_accuracy = 0, 0\n",
        "    nb_eval_steps, nb_eval_examples = 0, 0\n",
        "    predictions , true_labels = [], []\n",
        "    for batch in valid_dataloader:\n",
        "        batch = tuple(t.to(device) for t in batch)\n",
        "        b_input_ids, b_input_mask, b_labels = batch\n",
        "\n",
        "        # Telling the model not to compute or store gradients,\n",
        "        # saving memory and speeding up validation\n",
        "        with torch.no_grad():\n",
        "            # Forward pass, calculate logit predictions.\n",
        "            # This will return the logits rather than the loss because we have not provided labels.\n",
        "            outputs = model(b_input_ids, token_type_ids=None,\n",
        "                            attention_mask=b_input_mask, labels=b_labels)\n",
        "        # Move logits and labels to CPU\n",
        "        logits = outputs[1].detach().cpu().numpy()\n",
        "        label_ids = b_labels.to('cpu').numpy()\n",
        "\n",
        "        # Calculate the accuracy for this batch of test sentences.\n",
        "        eval_loss += outputs[0].mean().item()\n",
        "        predictions.extend([list(p) for p in np.argmax(logits, axis=2)])\n",
        "        true_labels.extend(label_ids)\n",
        "\n",
        "    eval_loss = eval_loss / len(valid_dataloader)\n",
        "    validation_loss_values.append(eval_loss)\n",
        "    print(\"Validation loss: {}\".format(eval_loss))\n",
        "    pred_tags = [tag_values[p_i] for p, l in zip(predictions, true_labels)\n",
        "                                 for p_i, l_i in zip(p, l) if tag_values[l_i] != \"PAD\"]\n",
        "    valid_tags = [tag_values[l_i] for l in true_labels\n",
        "                                  for l_i in l if tag_values[l_i] != \"PAD\"]\n",
        "    print(\"Validation Accuracy: {}\".format(accuracy_score(valid_tags, pred_tags)))\n",
        "    print()"
      ],
      "execution_count": 39,
      "outputs": [
        {
          "output_type": "stream",
          "text": [
            "\rEpoch:   0%|          | 0/3 [00:00<?, ?it/s]"
          ],
          "name": "stderr"
        },
        {
          "output_type": "stream",
          "text": [
            "Average train loss: 0.5049889481603893\n"
          ],
          "name": "stdout"
        },
        {
          "output_type": "stream",
          "text": [
            "\rEpoch:  33%|███▎      | 1/3 [02:05<04:10, 125.18s/it]"
          ],
          "name": "stderr"
        },
        {
          "output_type": "stream",
          "text": [
            "Validation loss: 0.2711347994027716\n",
            "Validation Accuracy: 0.9169233641370298\n",
            "\n",
            "Average train loss: 0.21701386663740482\n"
          ],
          "name": "stdout"
        },
        {
          "output_type": "stream",
          "text": [
            "\rEpoch:  67%|██████▋   | 2/3 [04:10<02:05, 125.19s/it]"
          ],
          "name": "stderr"
        },
        {
          "output_type": "stream",
          "text": [
            "Validation loss: 0.22377607296926505\n",
            "Validation Accuracy: 0.931485111546719\n",
            "\n",
            "Average train loss: 0.16068559885025024\n"
          ],
          "name": "stdout"
        },
        {
          "output_type": "stream",
          "text": [
            "Epoch: 100%|██████████| 3/3 [06:15<00:00, 125.19s/it]"
          ],
          "name": "stderr"
        },
        {
          "output_type": "stream",
          "text": [
            "Validation loss: 0.21731272408964508\n",
            "Validation Accuracy: 0.9373658172314011\n",
            "\n"
          ],
          "name": "stdout"
        },
        {
          "output_type": "stream",
          "text": [
            "\n"
          ],
          "name": "stderr"
        }
      ]
    },
    {
      "cell_type": "markdown",
      "metadata": {
        "id": "0fVc4TzsDlZN"
      },
      "source": [
        "See where the training loss meets the validation loss, and examine the accuracy score, classification report, and confusion matrix of the validation instances."
      ]
    },
    {
      "cell_type": "code",
      "metadata": {
        "id": "GUSZG-KrqP6G",
        "colab": {
          "base_uri": "https://localhost:8080/",
          "height": 427
        },
        "outputId": "baf55c93-fee6-4186-dd32-ee352984d462"
      },
      "source": [
        "import matplotlib.pyplot as plt\n",
        "%matplotlib inline\n",
        "\n",
        "import seaborn as sns\n",
        "\n",
        "# Use plot styling from seaborn.\n",
        "sns.set(style='darkgrid')\n",
        "\n",
        "# Increase the plot size and font size.\n",
        "sns.set(font_scale=1.5)\n",
        "plt.rcParams[\"figure.figsize\"] = (12,6)\n",
        "\n",
        "# Plot the learning curve.\n",
        "plt.plot(loss_values, 'b-o', label=\"training loss\")\n",
        "plt.plot(validation_loss_values, 'r-o', label=\"validation loss\")\n",
        "\n",
        "# Label the plot.\n",
        "plt.title(\"Learning curve\")\n",
        "plt.xlabel(\"Epoch\")\n",
        "plt.ylabel(\"Loss\")\n",
        "plt.legend()\n",
        "\n",
        "plt.show()"
      ],
      "execution_count": 40,
      "outputs": [
        {
          "output_type": "display_data",
          "data": {
            "image/png": "[encoded data removed]",
            "text/plain": [
              "<Figure size 864x432 with 1 Axes>"
            ]
          },
          "metadata": {
            "tags": []
          }
        }
      ]
    },
    {
      "cell_type": "code",
      "metadata": {
        "id": "zfmnG38nrT4c",
        "colab": {
          "base_uri": "https://localhost:8080/"
        },
        "outputId": "d7e1b529-472c-4d3c-8450-4ca8ec531a30"
      },
      "source": [
        "from sklearn.metrics import classification_report\n",
        "print(classification_report(valid_tags, pred_tags))"
      ],
      "execution_count": 41,
      "outputs": [
        {
          "output_type": "stream",
          "text": [
            "              precision    recall  f1-score   support\n",
            "\n",
            "         B-1       0.75      0.73      0.74       213\n",
            "        B-11       0.84      0.96      0.90       108\n",
            "        B-12       0.78      0.73      0.75       103\n",
            "         B-2       0.81      0.86      0.83       242\n",
            "         B-3       0.89      0.90      0.89       304\n",
            "         B-4       0.83      0.81      0.82       110\n",
            "         B-5       0.90      0.95      0.92       504\n",
            "        B-50       0.81      0.87      0.84       388\n",
            "         B-6       0.77      0.73      0.75       131\n",
            "         I-1       0.88      0.90      0.89       710\n",
            "        I-11       1.00      0.93      0.97        75\n",
            "        I-12       0.70      0.74      0.72        54\n",
            "         I-2       0.86      0.87      0.86       480\n",
            "         I-3       0.90      0.92      0.91       454\n",
            "         I-4       0.88      0.82      0.85       313\n",
            "         I-5       0.84      0.88      0.86       376\n",
            "        I-50       0.90      0.91      0.91      1017\n",
            "         I-6       0.82      0.90      0.86       551\n",
            "           O       0.97      0.96      0.96     15293\n",
            "\n",
            "    accuracy                           0.94     21426\n",
            "   macro avg       0.85      0.86      0.85     21426\n",
            "weighted avg       0.94      0.94      0.94     21426\n",
            "\n"
          ],
          "name": "stdout"
        }
      ]
    },
    {
      "cell_type": "code",
      "metadata": {
        "id": "EQ2-TQTjr1Qd",
        "colab": {
          "base_uri": "https://localhost:8080/"
        },
        "outputId": "c5f4cff8-d148-4291-8bc7-5eb893d83b0e"
      },
      "source": [
        "from sklearn.metrics import confusion_matrix\n",
        "np.set_printoptions(threshold=50)\n",
        "print(confusion_matrix(valid_tags, pred_tags))"
      ],
      "execution_count": 42,
      "outputs": [
        {
          "output_type": "stream",
          "text": [
            "[[  156     0     0 ...     0     0    33]\n",
            " [    0   104     0 ...     0     0     4]\n",
            " [    0     6    75 ...     0     0    14]\n",
            " ...\n",
            " [    0     0     0 ...   923     0    68]\n",
            " [    0     0     0 ...     0   495    43]\n",
            " [   22    12    20 ...    82    83 14681]]\n"
          ],
          "name": "stdout"
        }
      ]
    },
    {
      "cell_type": "markdown",
      "metadata": {
        "id": "u2cFHCKyD8Yy"
      },
      "source": [
        "Now it's time to evaluate the test data. Like the training dataset, this partition also needs to be cleaned and stripped.\n"
      ]
    },
    {
      "cell_type": "code",
      "metadata": {
        "id": "lcC9nSvQseBK"
      },
      "source": [
        "FILE_NAME = \"EBA1415-SkinCancer-little-reln-repeat-iob2.csv\""
      ],
      "execution_count": 43,
      "outputs": []
    },
    {
      "cell_type": "code",
      "metadata": {
        "id": "3UFwWiN1seFq",
        "colab": {
          "base_uri": "https://localhost:8080/",
          "height": 824
        },
        "outputId": "f5a31321-eade-485e-8759-48a7fb40c69a"
      },
      "source": [
        "df = pd.read_csv(DATA_PATH + FILE_NAME)\n",
        "df.head(25)"
      ],
      "execution_count": 44,
      "outputs": [
        {
          "output_type": "execute_result",
          "data": {
            "text/html": [
              "<div>\n",
              "<style scoped>\n",
              "    .dataframe tbody tr th:only-of-type {\n",
              "        vertical-align: middle;\n",
              "    }\n",
              "\n",
              "    .dataframe tbody tr th {\n",
              "        vertical-align: top;\n",
              "    }\n",
              "\n",
              "    .dataframe thead th {\n",
              "        text-align: right;\n",
              "    }\n",
              "</style>\n",
              "<table border=\"1\" class=\"dataframe\">\n",
              "  <thead>\n",
              "    <tr style=\"text-align: right;\">\n",
              "      <th></th>\n",
              "      <th>Sentence #</th>\n",
              "      <th>Word</th>\n",
              "      <th>STag</th>\n",
              "      <th>Tag</th>\n",
              "      <th>Relation</th>\n",
              "      <th>File</th>\n",
              "    </tr>\n",
              "  </thead>\n",
              "  <tbody>\n",
              "    <tr>\n",
              "      <th>0</th>\n",
              "      <td>Sentence 1</td>\n",
              "      <td>The</td>\n",
              "      <td>O</td>\n",
              "      <td>O</td>\n",
              "      <td>O</td>\n",
              "      <td>EBA1415_TFHC_4_SC_ES-05825</td>\n",
              "    </tr>\n",
              "    <tr>\n",
              "      <th>1</th>\n",
              "      <td>NaN</td>\n",
              "      <td>lead</td>\n",
              "      <td>O</td>\n",
              "      <td>O</td>\n",
              "      <td>O</td>\n",
              "      <td>NaN</td>\n",
              "    </tr>\n",
              "    <tr>\n",
              "      <th>2</th>\n",
              "      <td>NaN</td>\n",
              "      <td>to</td>\n",
              "      <td>O</td>\n",
              "      <td>O</td>\n",
              "      <td>O</td>\n",
              "      <td>NaN</td>\n",
              "    </tr>\n",
              "    <tr>\n",
              "      <th>3</th>\n",
              "      <td>NaN</td>\n",
              "      <td>skin</td>\n",
              "      <td>O</td>\n",
              "      <td>O</td>\n",
              "      <td>O</td>\n",
              "      <td>NaN</td>\n",
              "    </tr>\n",
              "    <tr>\n",
              "      <th>4</th>\n",
              "      <td>NaN</td>\n",
              "      <td>cancer</td>\n",
              "      <td>O</td>\n",
              "      <td>O</td>\n",
              "      <td>O</td>\n",
              "      <td>NaN</td>\n",
              "    </tr>\n",
              "    <tr>\n",
              "      <th>5</th>\n",
              "      <td>NaN</td>\n",
              "      <td>differ</td>\n",
              "      <td>O</td>\n",
              "      <td>O</td>\n",
              "      <td>O</td>\n",
              "      <td>NaN</td>\n",
              "    </tr>\n",
              "    <tr>\n",
              "      <th>6</th>\n",
              "      <td>NaN</td>\n",
              "      <td>on</td>\n",
              "      <td>O</td>\n",
              "      <td>O</td>\n",
              "      <td>O</td>\n",
              "      <td>NaN</td>\n",
              "    </tr>\n",
              "    <tr>\n",
              "      <th>7</th>\n",
              "      <td>NaN</td>\n",
              "      <td>a</td>\n",
              "      <td>O</td>\n",
              "      <td>O</td>\n",
              "      <td>O</td>\n",
              "      <td>NaN</td>\n",
              "    </tr>\n",
              "    <tr>\n",
              "      <th>8</th>\n",
              "      <td>NaN</td>\n",
              "      <td>few</td>\n",
              "      <td>O</td>\n",
              "      <td>O</td>\n",
              "      <td>O</td>\n",
              "      <td>NaN</td>\n",
              "    </tr>\n",
              "    <tr>\n",
              "      <th>9</th>\n",
              "      <td>NaN</td>\n",
              "      <td>things</td>\n",
              "      <td>O</td>\n",
              "      <td>O</td>\n",
              "      <td>O</td>\n",
              "      <td>NaN</td>\n",
              "    </tr>\n",
              "    <tr>\n",
              "      <th>10</th>\n",
              "      <td>NaN</td>\n",
              "      <td>,</td>\n",
              "      <td>O</td>\n",
              "      <td>O</td>\n",
              "      <td>O</td>\n",
              "      <td>NaN</td>\n",
              "    </tr>\n",
              "    <tr>\n",
              "      <th>11</th>\n",
              "      <td>NaN</td>\n",
              "      <td>one</td>\n",
              "      <td>O</td>\n",
              "      <td>O</td>\n",
              "      <td>O</td>\n",
              "      <td>NaN</td>\n",
              "    </tr>\n",
              "    <tr>\n",
              "      <th>12</th>\n",
              "      <td>NaN</td>\n",
              "      <td>is</td>\n",
              "      <td>O</td>\n",
              "      <td>O</td>\n",
              "      <td>O</td>\n",
              "      <td>NaN</td>\n",
              "    </tr>\n",
              "    <tr>\n",
              "      <th>13</th>\n",
              "      <td>NaN</td>\n",
              "      <td>the</td>\n",
              "      <td>O</td>\n",
              "      <td>O</td>\n",
              "      <td>O</td>\n",
              "      <td>NaN</td>\n",
              "    </tr>\n",
              "    <tr>\n",
              "      <th>14</th>\n",
              "      <td>NaN</td>\n",
              "      <td>type</td>\n",
              "      <td>O</td>\n",
              "      <td>O</td>\n",
              "      <td>O</td>\n",
              "      <td>NaN</td>\n",
              "    </tr>\n",
              "    <tr>\n",
              "      <th>15</th>\n",
              "      <td>NaN</td>\n",
              "      <td>of</td>\n",
              "      <td>O</td>\n",
              "      <td>O</td>\n",
              "      <td>O</td>\n",
              "      <td>NaN</td>\n",
              "    </tr>\n",
              "    <tr>\n",
              "      <th>16</th>\n",
              "      <td>NaN</td>\n",
              "      <td>cancer</td>\n",
              "      <td>O</td>\n",
              "      <td>O</td>\n",
              "      <td>O</td>\n",
              "      <td>NaN</td>\n",
              "    </tr>\n",
              "    <tr>\n",
              "      <th>17</th>\n",
              "      <td>NaN</td>\n",
              "      <td>as</td>\n",
              "      <td>O</td>\n",
              "      <td>O</td>\n",
              "      <td>O</td>\n",
              "      <td>NaN</td>\n",
              "    </tr>\n",
              "    <tr>\n",
              "      <th>18</th>\n",
              "      <td>NaN</td>\n",
              "      <td>it</td>\n",
              "      <td>O</td>\n",
              "      <td>O</td>\n",
              "      <td>O</td>\n",
              "      <td>NaN</td>\n",
              "    </tr>\n",
              "    <tr>\n",
              "      <th>19</th>\n",
              "      <td>NaN</td>\n",
              "      <td>says</td>\n",
              "      <td>O</td>\n",
              "      <td>O</td>\n",
              "      <td>O</td>\n",
              "      <td>NaN</td>\n",
              "    </tr>\n",
              "    <tr>\n",
              "      <th>20</th>\n",
              "      <td>NaN</td>\n",
              "      <td>in</td>\n",
              "      <td>O</td>\n",
              "      <td>O</td>\n",
              "      <td>O</td>\n",
              "      <td>NaN</td>\n",
              "    </tr>\n",
              "    <tr>\n",
              "      <th>21</th>\n",
              "      <td>NaN</td>\n",
              "      <td>the</td>\n",
              "      <td>O</td>\n",
              "      <td>O</td>\n",
              "      <td>O</td>\n",
              "      <td>NaN</td>\n",
              "    </tr>\n",
              "    <tr>\n",
              "      <th>22</th>\n",
              "      <td>NaN</td>\n",
              "      <td>background</td>\n",
              "      <td>O</td>\n",
              "      <td>O</td>\n",
              "      <td>O</td>\n",
              "      <td>NaN</td>\n",
              "    </tr>\n",
              "    <tr>\n",
              "      <th>23</th>\n",
              "      <td>NaN</td>\n",
              "      <td>\"</td>\n",
              "      <td>O</td>\n",
              "      <td>O</td>\n",
              "      <td>O</td>\n",
              "      <td>NaN</td>\n",
              "    </tr>\n",
              "    <tr>\n",
              "      <th>24</th>\n",
              "      <td>NaN</td>\n",
              "      <td>Then</td>\n",
              "      <td>O</td>\n",
              "      <td>O</td>\n",
              "      <td>O</td>\n",
              "      <td>NaN</td>\n",
              "    </tr>\n",
              "  </tbody>\n",
              "</table>\n",
              "</div>"
            ],
            "text/plain": [
              "    Sentence #        Word STag Tag Relation                        File\n",
              "0   Sentence 1         The    O   O        O  EBA1415_TFHC_4_SC_ES-05825\n",
              "1          NaN        lead    O   O        O                         NaN\n",
              "2          NaN          to    O   O        O                         NaN\n",
              "3          NaN        skin    O   O        O                         NaN\n",
              "4          NaN      cancer    O   O        O                         NaN\n",
              "5          NaN      differ    O   O        O                         NaN\n",
              "6          NaN          on    O   O        O                         NaN\n",
              "7          NaN           a    O   O        O                         NaN\n",
              "8          NaN         few    O   O        O                         NaN\n",
              "9          NaN      things    O   O        O                         NaN\n",
              "10         NaN           ,    O   O        O                         NaN\n",
              "11         NaN         one    O   O        O                         NaN\n",
              "12         NaN          is    O   O        O                         NaN\n",
              "13         NaN         the    O   O        O                         NaN\n",
              "14         NaN        type    O   O        O                         NaN\n",
              "15         NaN          of    O   O        O                         NaN\n",
              "16         NaN      cancer    O   O        O                         NaN\n",
              "17         NaN          as    O   O        O                         NaN\n",
              "18         NaN          it    O   O        O                         NaN\n",
              "19         NaN        says    O   O        O                         NaN\n",
              "20         NaN          in    O   O        O                         NaN\n",
              "21         NaN         the    O   O        O                         NaN\n",
              "22         NaN  background    O   O        O                         NaN\n",
              "23         NaN           \"    O   O        O                         NaN\n",
              "24         NaN        Then    O   O        O                         NaN"
            ]
          },
          "metadata": {
            "tags": []
          },
          "execution_count": 44
        }
      ]
    },
    {
      "cell_type": "code",
      "metadata": {
        "id": "CQNfTbnNwFhJ",
        "colab": {
          "base_uri": "https://localhost:8080/",
          "height": 824
        },
        "outputId": "7814773f-46f7-4795-ab7d-4b0f9c31958c"
      },
      "source": [
        "df_test = df.copy(deep=True)\n",
        "df_test.iloc[0][\"Sentence #\"] = 0\n",
        "df_test.drop(['File', 'Relation', 'STag'], axis=1, inplace=True)\n",
        "df_test.columns = [\"s_num\",\"word\",\"tag\"]\n",
        "df_test = df_test.fillna(-1)\n",
        "\n",
        "snum = -1\n",
        "for idx, row in df_test.iterrows():\n",
        "  if row[\"s_num\"] == -1: row[\"s_num\"] = snum\n",
        "  else: \n",
        "    snum += 1\n",
        "    row[\"s_num\"] = snum\n",
        "\n",
        "df_test.head(25)"
      ],
      "execution_count": 45,
      "outputs": [
        {
          "output_type": "execute_result",
          "data": {
            "text/html": [
              "<div>\n",
              "<style scoped>\n",
              "    .dataframe tbody tr th:only-of-type {\n",
              "        vertical-align: middle;\n",
              "    }\n",
              "\n",
              "    .dataframe tbody tr th {\n",
              "        vertical-align: top;\n",
              "    }\n",
              "\n",
              "    .dataframe thead th {\n",
              "        text-align: right;\n",
              "    }\n",
              "</style>\n",
              "<table border=\"1\" class=\"dataframe\">\n",
              "  <thead>\n",
              "    <tr style=\"text-align: right;\">\n",
              "      <th></th>\n",
              "      <th>s_num</th>\n",
              "      <th>word</th>\n",
              "      <th>tag</th>\n",
              "    </tr>\n",
              "  </thead>\n",
              "  <tbody>\n",
              "    <tr>\n",
              "      <th>0</th>\n",
              "      <td>0</td>\n",
              "      <td>The</td>\n",
              "      <td>O</td>\n",
              "    </tr>\n",
              "    <tr>\n",
              "      <th>1</th>\n",
              "      <td>0</td>\n",
              "      <td>lead</td>\n",
              "      <td>O</td>\n",
              "    </tr>\n",
              "    <tr>\n",
              "      <th>2</th>\n",
              "      <td>0</td>\n",
              "      <td>to</td>\n",
              "      <td>O</td>\n",
              "    </tr>\n",
              "    <tr>\n",
              "      <th>3</th>\n",
              "      <td>0</td>\n",
              "      <td>skin</td>\n",
              "      <td>O</td>\n",
              "    </tr>\n",
              "    <tr>\n",
              "      <th>4</th>\n",
              "      <td>0</td>\n",
              "      <td>cancer</td>\n",
              "      <td>O</td>\n",
              "    </tr>\n",
              "    <tr>\n",
              "      <th>5</th>\n",
              "      <td>0</td>\n",
              "      <td>differ</td>\n",
              "      <td>O</td>\n",
              "    </tr>\n",
              "    <tr>\n",
              "      <th>6</th>\n",
              "      <td>0</td>\n",
              "      <td>on</td>\n",
              "      <td>O</td>\n",
              "    </tr>\n",
              "    <tr>\n",
              "      <th>7</th>\n",
              "      <td>0</td>\n",
              "      <td>a</td>\n",
              "      <td>O</td>\n",
              "    </tr>\n",
              "    <tr>\n",
              "      <th>8</th>\n",
              "      <td>0</td>\n",
              "      <td>few</td>\n",
              "      <td>O</td>\n",
              "    </tr>\n",
              "    <tr>\n",
              "      <th>9</th>\n",
              "      <td>0</td>\n",
              "      <td>things</td>\n",
              "      <td>O</td>\n",
              "    </tr>\n",
              "    <tr>\n",
              "      <th>10</th>\n",
              "      <td>0</td>\n",
              "      <td>,</td>\n",
              "      <td>O</td>\n",
              "    </tr>\n",
              "    <tr>\n",
              "      <th>11</th>\n",
              "      <td>0</td>\n",
              "      <td>one</td>\n",
              "      <td>O</td>\n",
              "    </tr>\n",
              "    <tr>\n",
              "      <th>12</th>\n",
              "      <td>0</td>\n",
              "      <td>is</td>\n",
              "      <td>O</td>\n",
              "    </tr>\n",
              "    <tr>\n",
              "      <th>13</th>\n",
              "      <td>0</td>\n",
              "      <td>the</td>\n",
              "      <td>O</td>\n",
              "    </tr>\n",
              "    <tr>\n",
              "      <th>14</th>\n",
              "      <td>0</td>\n",
              "      <td>type</td>\n",
              "      <td>O</td>\n",
              "    </tr>\n",
              "    <tr>\n",
              "      <th>15</th>\n",
              "      <td>0</td>\n",
              "      <td>of</td>\n",
              "      <td>O</td>\n",
              "    </tr>\n",
              "    <tr>\n",
              "      <th>16</th>\n",
              "      <td>0</td>\n",
              "      <td>cancer</td>\n",
              "      <td>O</td>\n",
              "    </tr>\n",
              "    <tr>\n",
              "      <th>17</th>\n",
              "      <td>0</td>\n",
              "      <td>as</td>\n",
              "      <td>O</td>\n",
              "    </tr>\n",
              "    <tr>\n",
              "      <th>18</th>\n",
              "      <td>0</td>\n",
              "      <td>it</td>\n",
              "      <td>O</td>\n",
              "    </tr>\n",
              "    <tr>\n",
              "      <th>19</th>\n",
              "      <td>0</td>\n",
              "      <td>says</td>\n",
              "      <td>O</td>\n",
              "    </tr>\n",
              "    <tr>\n",
              "      <th>20</th>\n",
              "      <td>0</td>\n",
              "      <td>in</td>\n",
              "      <td>O</td>\n",
              "    </tr>\n",
              "    <tr>\n",
              "      <th>21</th>\n",
              "      <td>0</td>\n",
              "      <td>the</td>\n",
              "      <td>O</td>\n",
              "    </tr>\n",
              "    <tr>\n",
              "      <th>22</th>\n",
              "      <td>0</td>\n",
              "      <td>background</td>\n",
              "      <td>O</td>\n",
              "    </tr>\n",
              "    <tr>\n",
              "      <th>23</th>\n",
              "      <td>0</td>\n",
              "      <td>\"</td>\n",
              "      <td>O</td>\n",
              "    </tr>\n",
              "    <tr>\n",
              "      <th>24</th>\n",
              "      <td>0</td>\n",
              "      <td>Then</td>\n",
              "      <td>O</td>\n",
              "    </tr>\n",
              "  </tbody>\n",
              "</table>\n",
              "</div>"
            ],
            "text/plain": [
              "   s_num        word tag\n",
              "0      0         The   O\n",
              "1      0        lead   O\n",
              "2      0          to   O\n",
              "3      0        skin   O\n",
              "4      0      cancer   O\n",
              "5      0      differ   O\n",
              "6      0          on   O\n",
              "7      0           a   O\n",
              "8      0         few   O\n",
              "9      0      things   O\n",
              "10     0           ,   O\n",
              "11     0         one   O\n",
              "12     0          is   O\n",
              "13     0         the   O\n",
              "14     0        type   O\n",
              "15     0          of   O\n",
              "16     0      cancer   O\n",
              "17     0          as   O\n",
              "18     0          it   O\n",
              "19     0        says   O\n",
              "20     0          in   O\n",
              "21     0         the   O\n",
              "22     0  background   O\n",
              "23     0           \"   O\n",
              "24     0        Then   O"
            ]
          },
          "metadata": {
            "tags": []
          },
          "execution_count": 45
        }
      ]
    },
    {
      "cell_type": "code",
      "metadata": {
        "id": "OQGYbr5LwaSr",
        "colab": {
          "base_uri": "https://localhost:8080/"
        },
        "outputId": "a0163825-6be4-4ba9-f56b-acdd64584da1"
      },
      "source": [
        "print(\"Any nulls? \", df_test.isnull().values.any())"
      ],
      "execution_count": 46,
      "outputs": [
        {
          "output_type": "stream",
          "text": [
            "Any nulls?  False\n"
          ],
          "name": "stdout"
        }
      ]
    },
    {
      "cell_type": "code",
      "metadata": {
        "id": "Yz9G_5pOwaSt"
      },
      "source": [
        "df_test[\"s_num\"] = df_test[\"s_num\"].astype(str).astype(int)"
      ],
      "execution_count": 47,
      "outputs": []
    },
    {
      "cell_type": "code",
      "metadata": {
        "id": "1Sm_AuZcwaSu",
        "colab": {
          "base_uri": "https://localhost:8080/"
        },
        "outputId": "5aaeb4ec-f47e-4e5d-91e3-f69d87580ba5"
      },
      "source": [
        "print(\"Shape:\", df_test.shape)\n",
        "print(df_test.info())"
      ],
      "execution_count": 48,
      "outputs": [
        {
          "output_type": "stream",
          "text": [
            "Shape: (48733, 3)\n",
            "<class 'pandas.core.frame.DataFrame'>\n",
            "RangeIndex: 48733 entries, 0 to 48732\n",
            "Data columns (total 3 columns):\n",
            " #   Column  Non-Null Count  Dtype \n",
            "---  ------  --------------  ----- \n",
            " 0   s_num   48733 non-null  int64 \n",
            " 1   word    48733 non-null  object\n",
            " 2   tag     48733 non-null  object\n",
            "dtypes: int64(1), object(2)\n",
            "memory usage: 1.1+ MB\n",
            "None\n"
          ],
          "name": "stdout"
        }
      ]
    },
    {
      "cell_type": "code",
      "metadata": {
        "id": "eaYrVHrQwaSu",
        "colab": {
          "base_uri": "https://localhost:8080/"
        },
        "outputId": "04bafba1-fbe5-4c36-d4e7-2c50cd0e9b91"
      },
      "source": [
        "print(\"Unique labels:\")\n",
        "sorted(df_test.tag.unique())"
      ],
      "execution_count": 49,
      "outputs": [
        {
          "output_type": "stream",
          "text": [
            "Unique labels:\n"
          ],
          "name": "stdout"
        },
        {
          "output_type": "execute_result",
          "data": {
            "text/plain": [
              "['B-1',\n",
              " 'B-11',\n",
              " 'B-12',\n",
              " 'B-2',\n",
              " 'B-3',\n",
              " 'B-4',\n",
              " 'B-5',\n",
              " 'B-50',\n",
              " 'B-6',\n",
              " 'B-ANAPHOR',\n",
              " 'B-EXPLICIT',\n",
              " 'B-ND',\n",
              " 'B-RHETORICAL',\n",
              " 'I-1',\n",
              " 'I-11',\n",
              " 'I-12',\n",
              " 'I-2',\n",
              " 'I-3',\n",
              " 'I-4',\n",
              " 'I-5',\n",
              " 'I-50',\n",
              " 'I-6',\n",
              " 'I-ANAPHOR',\n",
              " 'I-EXPLICIT',\n",
              " 'I-ND',\n",
              " 'I-RHETORICAL',\n",
              " 'O']"
            ]
          },
          "metadata": {
            "tags": []
          },
          "execution_count": 49
        }
      ]
    },
    {
      "cell_type": "code",
      "metadata": {
        "id": "402EU6Pyw52p"
      },
      "source": [
        "df_test[\"tag\"] = df_test.apply(lambda x: \"O\" if x[\"tag\"] in invalids else x[\"tag\"], axis=1)"
      ],
      "execution_count": 50,
      "outputs": []
    },
    {
      "cell_type": "code",
      "metadata": {
        "id": "_glnTnxqwaSv",
        "colab": {
          "base_uri": "https://localhost:8080/"
        },
        "outputId": "e2d9463c-987b-4fae-89e1-50773c76893b"
      },
      "source": [
        "print(df_test.tag.value_counts()[:10])"
      ],
      "execution_count": 51,
      "outputs": [
        {
          "output_type": "stream",
          "text": [
            "O       35401\n",
            "I-50     2416\n",
            "I-6      1496\n",
            "I-1      1390\n",
            "I-2      1372\n",
            "B-50      960\n",
            "I-3       890\n",
            "I-4       752\n",
            "B-5       720\n",
            "I-5       679\n",
            "Name: tag, dtype: int64\n"
          ],
          "name": "stdout"
        }
      ]
    },
    {
      "cell_type": "code",
      "metadata": {
        "id": "c8JRa9kbwaSv",
        "colab": {
          "base_uri": "https://localhost:8080/"
        },
        "outputId": "92a0fb52-2554-4109-e9c4-9a6dc6d51e33"
      },
      "source": [
        "print(df_test.s_num.value_counts()[:10])"
      ],
      "execution_count": 52,
      "outputs": [
        {
          "output_type": "stream",
          "text": [
            "1471    82\n",
            "1470    82\n",
            "1474    82\n",
            "1473    82\n",
            "1475    82\n",
            "1472    82\n",
            "2299    77\n",
            "2297    77\n",
            "2300    77\n",
            "2298    77\n",
            "Name: s_num, dtype: int64\n"
          ],
          "name": "stdout"
        }
      ]
    },
    {
      "cell_type": "markdown",
      "metadata": {
        "id": "bB-fALvlEc4L"
      },
      "source": [
        "We'll first take a look at a sample sentence to see what the model predicts for the tags versus what the tags actually were."
      ]
    },
    {
      "cell_type": "code",
      "metadata": {
        "id": "MZfyawYPsXqc",
        "colab": {
          "base_uri": "https://localhost:8080/"
        },
        "outputId": "21571ff3-7872-4be2-e947-00c66a1f0fb4"
      },
      "source": [
        "n = 3\n",
        "first_sent_word = list(df_test[df_test[\"s_num\"] == n][\"word\"])\n",
        "first_sent_label = [\"O\"] + list(df_test[df_test[\"s_num\"] == n][\"tag\"])\n",
        "\n",
        "test_sentence = \"\"\n",
        "for val in first_sent_word:\n",
        "  test_sentence += val + ' '\n",
        "print(test_sentence) \n",
        "\n",
        "test_tokenized_sentence = tokenizer.encode(test_sentence)\n",
        "test_input_ids = torch.tensor([test_tokenized_sentence]).cuda()\n",
        "with torch.no_grad():\n",
        "    output = model(test_input_ids)\n",
        "test_label_indices = np.argmax(output[0].to('cpu').numpy(), axis=2)\n",
        "\n",
        "test_tokens = tokenizer.convert_ids_to_tokens(test_input_ids.to('cpu').numpy()[0])\n",
        "\n",
        "new_tokens, new_labels = [], []\n",
        "for token, idx in zip(test_tokens, test_label_indices[0]):\n",
        "    if token.startswith(\"##\"):\n",
        "        new_tokens[-1] = new_tokens[-1] + token[2:]\n",
        "    else:\n",
        "        new_labels.append(tag_values[idx])\n",
        "        new_tokens.append(token)\n",
        "for token, label, old in zip(new_tokens, new_labels, first_sent_label):\n",
        "    print(\"{}\\t{}\\t{}\".format(label, token, old))"
      ],
      "execution_count": 53,
      "outputs": [
        {
          "output_type": "stream",
          "text": [
            "The reason the sun matters is because of the direct uvb rotation hiting that location . \n",
            "O\t[CLS]\tO\n",
            "O\tThe\tO\n",
            "O\treason\tO\n",
            "O\tthe\tO\n",
            "B-2\tsun\tB-2\n",
            "O\tmatters\tO\n",
            "O\tis\tO\n",
            "O\tbecause\tO\n",
            "O\tof\tO\n",
            "O\tthe\tO\n",
            "B-3\tdirect\tB-3\n",
            "B-3\tuvb\tI-3\n",
            "I-3\trotation\tO\n",
            "O\thiting\tO\n",
            "O\tthat\tO\n",
            "B-1\tlocation\tB-1\n",
            "O\t.\tO\n"
          ],
          "name": "stdout"
        }
      ]
    },
    {
      "cell_type": "markdown",
      "metadata": {
        "id": "vE4oPgVdEk5h"
      },
      "source": [
        "Now is the actual evaluation of the entire test set, followed by the classification report and confusion matrix."
      ]
    },
    {
      "cell_type": "code",
      "metadata": {
        "id": "SeeP8lwvwmsQ"
      },
      "source": [
        "y_pred = []\n",
        "y_true = []\n",
        "\n",
        "for i in range(max(df_test[\"s_num\"]+1)):\n",
        "  first_sent_word = list(df_test[df_test[\"s_num\"] == i][\"word\"])\n",
        "  first_sent_label = [\"O\"] + list(df_test[df_test[\"s_num\"] == i][\"tag\"]) + [\"O\"]\n",
        "\n",
        "  test_sentence = \"\"\n",
        "  for val in first_sent_word:\n",
        "    test_sentence += val + ' '\n",
        "  # print(test_sentence) \n",
        "\n",
        "  test_tokenized_sentence = tokenizer.encode(test_sentence)\n",
        "  test_input_ids = torch.tensor([test_tokenized_sentence]).cuda()\n",
        "  with torch.no_grad():\n",
        "      output = model(test_input_ids)\n",
        "  test_label_indices = np.argmax(output[0].to('cpu').numpy(), axis=2)\n",
        "\n",
        "  test_tokens = tokenizer.convert_ids_to_tokens(test_input_ids.to('cpu').numpy()[0])\n",
        "\n",
        "  new_tokens, new_labels = [], []\n",
        "  for token, idx in zip(test_tokens, test_label_indices[0]):\n",
        "      if token.startswith(\"##\"):\n",
        "          new_tokens[-1] = new_tokens[-1] + token[2:]\n",
        "      else:\n",
        "          new_labels.append(tag_values[idx])\n",
        "          new_tokens.append(token)\n",
        "  y_pred += new_labels\n",
        "  y_true += first_sent_label\n",
        "# print(len(y_pred))\n",
        "# print(len(y_true))"
      ],
      "execution_count": 54,
      "outputs": []
    },
    {
      "cell_type": "code",
      "metadata": {
        "id": "rG1dwHt-wnCd",
        "colab": {
          "base_uri": "https://localhost:8080/"
        },
        "outputId": "4d393e27-356b-485d-e1c1-2b32d515e039"
      },
      "source": [
        "print(classification_report(y_true, y_pred))"
      ],
      "execution_count": 55,
      "outputs": [
        {
          "output_type": "stream",
          "text": [
            "              precision    recall  f1-score   support\n",
            "\n",
            "         B-1       0.57      0.77      0.66       448\n",
            "        B-11       0.64      0.89      0.75       120\n",
            "        B-12       0.57      0.86      0.68       196\n",
            "         B-2       0.64      0.86      0.73       632\n",
            "         B-3       0.74      0.93      0.83       488\n",
            "         B-4       0.61      0.76      0.67       254\n",
            "         B-5       0.77      0.93      0.84       720\n",
            "        B-50       0.53      0.87      0.66       960\n",
            "         B-6       0.62      0.61      0.62       324\n",
            "         I-1       0.84      0.72      0.78      1390\n",
            "        I-11       0.76      0.62      0.69        72\n",
            "        I-12       0.75      0.42      0.54       123\n",
            "         I-2       0.89      0.66      0.76      1372\n",
            "         I-3       0.82      0.80      0.81       890\n",
            "         I-4       0.83      0.78      0.80       752\n",
            "         I-5       0.86      0.62      0.72       679\n",
            "        I-50       0.72      0.84      0.77      2416\n",
            "         I-6       0.86      0.77      0.81      1496\n",
            "           O       0.95      0.93      0.94     40641\n",
            "\n",
            "    accuracy                           0.90     53973\n",
            "   macro avg       0.74      0.77      0.74     53973\n",
            "weighted avg       0.91      0.90      0.90     53973\n",
            "\n"
          ],
          "name": "stdout"
        }
      ]
    },
    {
      "cell_type": "code",
      "metadata": {
        "id": "1IalD6-t-OEg",
        "colab": {
          "base_uri": "https://localhost:8080/"
        },
        "outputId": "15625ffc-88a5-4835-d136-52751b46003d"
      },
      "source": [
        "print(confusion_matrix(y_true, y_pred))"
      ],
      "execution_count": 56,
      "outputs": [
        {
          "output_type": "stream",
          "text": [
            "[[  346     0     0 ...     0     0    92]\n",
            " [    0   107     0 ...     0     0    13]\n",
            " [    0     0   168 ...     0     0    22]\n",
            " ...\n",
            " [    0     0     0 ...  2028     0   212]\n",
            " [    0     0     0 ...     0  1150   254]\n",
            " [  143    52    87 ...   727   144 37929]]\n"
          ],
          "name": "stdout"
        }
      ]
    }
  ]
}